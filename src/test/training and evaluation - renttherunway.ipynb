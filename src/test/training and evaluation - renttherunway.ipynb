{
 "cells": [
  {
   "cell_type": "markdown",
   "id": "f26df9f7-29eb-4e07-840e-919fc7992974",
   "metadata": {},
   "source": [
    "# ABOUT:\n",
    "- this notebook compares the recommendation performance between Popularity recommender, SAR, and LightGCN on renttherunway dataset"
   ]
  },
  {
   "cell_type": "code",
   "execution_count": 1,
   "id": "e8eaeb77-3d83-4a48-81ed-4d9fc428ac01",
   "metadata": {},
   "outputs": [],
   "source": [
    "from recommenders.models.sar import SAR\n",
    "from recommenders.datasets.python_splitters import python_stratified_split\n",
    "from recommenders.utils.constants import SEED as DEFAULT_SEED\n",
    "from recommenders.evaluation.python_evaluation import precision_at_k\n",
    "from recommenders.models.deeprec.DataModel.ImplicitCF import ImplicitCF\n",
    "from recommenders.models.deeprec.deeprec_utils import prepare_hparams\n",
    "from recommenders.models.deeprec.models.graphrec.lightgcn import LightGCN\n",
    "from recommenders.utils.timer import Timer\n",
    "\n",
    "import pandas as pd\n",
    "import os\n",
    "import gzip\n",
    "import json\n",
    "import pandas as pd\n",
    "import seaborn as sb"
   ]
  },
  {
   "cell_type": "markdown",
   "id": "912a4ca1-a7b5-4e54-9b9c-3e4be7781322",
   "metadata": {
    "tags": []
   },
   "source": [
    "### read data"
   ]
  },
  {
   "cell_type": "code",
   "execution_count": 2,
   "id": "01b8f025-2f86-408a-9c94-3adf5cef2724",
   "metadata": {},
   "outputs": [],
   "source": [
    "renttherunway_path = r\"C:\\Users\\tanch\\Documents\\NTU\\NTU Year 4\\FYP - GNN\\data\\RecSys Datasets\\renttherunway_final_data.json.gz\"\n",
    "RUNWAY_COLS = [\"user_id\", \"item_id\", \"rating\", \"review_date\", \"review_summary\", \"review_text\", \"rented for\", \"category\", \"body type\"]"
   ]
  },
  {
   "cell_type": "code",
   "execution_count": 3,
   "id": "42a90d3c-7a94-4bcf-b09a-0f37c80abf83",
   "metadata": {},
   "outputs": [],
   "source": [
    "def read_review_data(path):\n",
    "    def convert_json(json_string):\n",
    "        try:\n",
    "            return json.loads(json_string)\n",
    "        except ValueError:\n",
    "            return  \n",
    "    with gzip.open(path, 'r') as fin:                # 4. gzip\n",
    "        json_bytes = fin.read()                      # 3. bytes (i.e. UTF-8)\n",
    "        json_str = json_bytes.decode('utf-8').split(\"\\n\")           # 2. string (i.e. JSON)\n",
    "        data = []\n",
    "        for elem in json_str:\n",
    "            tmp_elem = convert_json(elem)\n",
    "            if tmp_elem is None:\n",
    "                continue\n",
    "            data.append(tmp_elem)\n",
    "    return data"
   ]
  },
  {
   "cell_type": "code",
   "execution_count": 5,
   "id": "1a20c997-fc68-4a1c-98ad-751e0698218a",
   "metadata": {},
   "outputs": [],
   "source": [
    "renttherunway_data = pd.DataFrame(read_review_data(renttherunway_path))\n",
    "renttherunway_data = renttherunway_data[RUNWAY_COLS]"
   ]
  },
  {
   "cell_type": "markdown",
   "id": "aa2babf3-0f48-42f6-9dab-629982d2c454",
   "metadata": {
    "tags": []
   },
   "source": [
    "### data preparation\n",
    "- preparation for cf training"
   ]
  },
  {
   "cell_type": "code",
   "execution_count": 127,
   "id": "1be77922-0ca8-4bbb-b20c-ac71cd04526f",
   "metadata": {},
   "outputs": [],
   "source": [
    "COLS = [\"user_id\", \"item_id\", \"rating\", \"review_date\"]\n",
    "COL_USER, COL_ITEM = \"user_id\", \"item_id\"\n",
    "COL_RATING = \"rating\"\n",
    "COL_TIMESTAMP = \"review_date\"\n",
    "SPLIT_RATIO = 0.75\n",
    "SEED = 0 \n",
    "MIN_INTERACTIONS = 5\n",
    "TOP_K = 10\n",
    "BATCH_SIZE = 1024"
   ]
  },
  {
   "cell_type": "code",
   "execution_count": 7,
   "id": "65b09799-3228-49cf-97ba-c2d6a51cec6b",
   "metadata": {},
   "outputs": [],
   "source": [
    "def clean(df, cols, min_interactions, drop_cold_users = True, drop_cold_items = False):\n",
    "    output_df = df.copy()\n",
    "    \n",
    "    # cleaning\n",
    "    output_df = output_df.drop_duplicates(subset = [COL_USER, COL_ITEM])\n",
    "    output_df[COL_RATING] = output_df[COL_RATING].apply(lambda rating: 5 if rating is None else rating)\n",
    "    output_df[COL_RATING] = output_df[COL_RATING].astype(int)\n",
    "    \n",
    "    # find warm items and users\n",
    "    item_counts = output_df[COL_ITEM].value_counts()\n",
    "    warm_items = item_counts[item_counts>=min_interactions]\n",
    "    user_counts = output_df[COL_USER].value_counts()\n",
    "    warm_users = user_counts[user_counts>=min_interactions]\n",
    "    \n",
    "    # keep only warm items and users\n",
    "    if drop_cold_users:\n",
    "        output_df = output_df[output_df[COL_USER].isin(warm_users.index)]\n",
    "    if drop_cold_items:\n",
    "        output_df = output_df[output_df[COL_ITEM].isin(warm_items.index)]\n",
    "            \n",
    "    return output_df"
   ]
  },
  {
   "cell_type": "code",
   "execution_count": 8,
   "id": "cbaa13f8-9d88-4fe5-995d-e3c096b98c3e",
   "metadata": {},
   "outputs": [],
   "source": [
    "renttherunway_data_reduced = clean(renttherunway_data, cols = COLS, min_interactions = MIN_INTERACTIONS)\n",
    "renttherunway_data_reduced[\"review_date\"] = pd.to_datetime(renttherunway_data_reduced[\"review_date\"])"
   ]
  },
  {
   "cell_type": "code",
   "execution_count": 11,
   "id": "fe35c9bf-b575-4da8-91ff-6c7351ca1ddf",
   "metadata": {},
   "outputs": [
    {
     "name": "stdout",
     "output_type": "stream",
     "text": [
      "\n",
      "    Reduced Data:\n",
      "    Total Ratings: 51100\n",
      "    Unique Users: 5708\n",
      "    Unique Items: 5513\n",
      "\n",
      "    Original Data:\n",
      "    Total Ratings: 192544\n",
      "    Unique Users: 105571\n",
      "    Unique Items: 5850\n",
      "    \n"
     ]
    }
   ],
   "source": [
    "print(\"\"\"\n",
    "    Reduced Data:\n",
    "    Total Ratings: {train_total}\n",
    "    Unique Users: {train_users}\n",
    "    Unique Items: {train_items}\n",
    "\n",
    "    Original Data:\n",
    "    Total Ratings: {test_total}\n",
    "    Unique Users: {test_users}\n",
    "    Unique Items: {test_items}\n",
    "    \"\"\".format(\n",
    "        train_total=len(renttherunway_data_reduced),\n",
    "        train_users=len(renttherunway_data_reduced[COL_USER].unique()),\n",
    "        train_items=len(renttherunway_data_reduced[COL_ITEM].unique()),\n",
    "        test_total=len(renttherunway_data),\n",
    "        test_users=len(renttherunway_data[COL_USER].unique()),\n",
    "        test_items=len(renttherunway_data[COL_ITEM].unique()),\n",
    "))"
   ]
  },
  {
   "cell_type": "code",
   "execution_count": 12,
   "id": "4587aea0-6f9f-439b-91f7-460ce0b8651e",
   "metadata": {},
   "outputs": [],
   "source": [
    "train, test = python_stratified_split(renttherunway_data_reduced, ratio=SPLIT_RATIO,\n",
    "                                      min_rating=1, filter_by='user', \n",
    "                                      col_user=COL_USER, col_item=COL_ITEM, \n",
    "                                      seed=SEED)"
   ]
  },
  {
   "cell_type": "code",
   "execution_count": 13,
   "id": "991a1783-f13d-4025-bc60-0c7145f96b46",
   "metadata": {},
   "outputs": [
    {
     "name": "stdout",
     "output_type": "stream",
     "text": [
      "\n",
      "    Train Data:\n",
      "    Total Ratings: 38216\n",
      "    Unique Users: 5708\n",
      "    Unique Items: 5321\n",
      "\n",
      "    Test Data:\n",
      "    Total Ratings: 12884\n",
      "    Unique Users: 5708\n",
      "    Unique Items: 4103\n",
      "    \n"
     ]
    }
   ],
   "source": [
    "print(\"\"\"\n",
    "    Train Data:\n",
    "    Total Ratings: {train_total}\n",
    "    Unique Users: {train_users}\n",
    "    Unique Items: {train_items}\n",
    "\n",
    "    Test Data:\n",
    "    Total Ratings: {test_total}\n",
    "    Unique Users: {test_users}\n",
    "    Unique Items: {test_items}\n",
    "    \"\"\".format(\n",
    "        train_total=len(train),\n",
    "        train_users=len(train[COL_USER].unique()),\n",
    "        train_items=len(train[COL_ITEM].unique()),\n",
    "        test_total=len(test),\n",
    "        test_users=len(test[COL_USER].unique()),\n",
    "        test_items=len(test[COL_ITEM].unique()),\n",
    "))"
   ]
  },
  {
   "cell_type": "markdown",
   "id": "b3c0aaf9-3d61-4f0f-831f-37692da47384",
   "metadata": {},
   "source": [
    "## Model Training and Evaluation: SAR"
   ]
  },
  {
   "cell_type": "code",
   "execution_count": 124,
   "id": "47cdc4bf-754f-4b1e-a1cc-ef89d7ff9408",
   "metadata": {
    "tags": []
   },
   "outputs": [],
   "source": [
    "# Similarity types: [\"cooccurrence\" | \"cosine\" | \"inclusion index\" | \"jaccard\" | \"lift\" | \"mutual information\" | \"lexicographers mutual information\"]\n",
    "model_sar = SAR(\n",
    "    col_user=COL_USER,\n",
    "    col_item=COL_ITEM,\n",
    "    col_rating=COL_RATING,\n",
    "    col_timestamp=COL_TIMESTAMP,\n",
    "    similarity_type=\"cooccurrence\", \n",
    "    time_decay_coefficient=30, \n",
    "    timedecay_formula=False,\n",
    "    normalize=False\n",
    ")"
   ]
  },
  {
   "cell_type": "code",
   "execution_count": 125,
   "id": "41c33d5a-9dc9-4226-b521-ba32fec80f78",
   "metadata": {},
   "outputs": [],
   "source": [
    "# with Timer() as train_time:\n",
    "model_sar.fit(train)"
   ]
  },
  {
   "cell_type": "code",
   "execution_count": 128,
   "id": "e9e8632e-3695-4706-81d3-662f48e9a192",
   "metadata": {},
   "outputs": [
    {
     "data": {
      "text/plain": [
       "0.0057988787666433065"
      ]
     },
     "execution_count": 128,
     "metadata": {},
     "output_type": "execute_result"
    }
   ],
   "source": [
    "top_k = model_sar.recommend_k_items(test, top_k=TOP_K, remove_seen=True)\n",
    "eval_precision = precision_at_k(test, top_k, col_user=COL_USER, col_item=COL_ITEM, col_rating=COL_RATING, k=TOP_K)\n",
    "eval_precision  "
   ]
  },
  {
   "cell_type": "markdown",
   "id": "c704f983-ae3d-4331-a1a3-b4d5f0f2247e",
   "metadata": {},
   "source": [
    "## Train and Evaluate: Popularity Recommender"
   ]
  },
  {
   "cell_type": "code",
   "execution_count": 65,
   "id": "0f0999ad-b6a4-4a3d-8f63-a8a433144736",
   "metadata": {},
   "outputs": [],
   "source": [
    "def construct_popular_predictions_table(test, model, top_k):\n",
    "    user_ids = test.user_id.unique()\n",
    "    popular_items = model.get_popularity_based_topk(top_k = top_k)\n",
    "    output = pd.DataFrame()\n",
    "    for user_id in user_ids:\n",
    "        popular_items[\"user_id\"] = user_id\n",
    "        output = pd.concat([output, popular_items], axis = 0)\n",
    "    return output"
   ]
  },
  {
   "cell_type": "code",
   "execution_count": 129,
   "id": "044122f1-d415-4e93-82ae-67fdcc42c8fd",
   "metadata": {},
   "outputs": [
    {
     "data": {
      "text/plain": [
       "0.00464260686755431"
      ]
     },
     "execution_count": 129,
     "metadata": {},
     "output_type": "execute_result"
    }
   ],
   "source": [
    "top_k = construct_popular_predictions_table(test = test, model = model_sar, top_k = TOP_K)\n",
    "eval_precision = precision_at_k(test, top_k, col_user=COL_USER, col_item=COL_ITEM, col_rating=COL_RATING, k=TOP_K)\n",
    "eval_precision  "
   ]
  },
  {
   "cell_type": "markdown",
   "id": "2a551efa-2eda-4efd-90fe-85a5150e8170",
   "metadata": {
    "tags": []
   },
   "source": [
    "## Train and Evaluate: LightGCN"
   ]
  },
  {
   "cell_type": "code",
   "execution_count": 120,
   "id": "b79ad182-ac2d-4347-9838-4e2c148ba959",
   "metadata": {},
   "outputs": [],
   "source": [
    "yaml_file = r\"C:\\Users\\tanch\\Documents\\NTU\\NTU Year 4\\FYP - GNN\\code1\\config\\lightgcn.yml\""
   ]
  },
  {
   "cell_type": "code",
   "execution_count": 121,
   "id": "d81d24a3-84cc-4490-85dd-a470f8954987",
   "metadata": {},
   "outputs": [
    {
     "name": "stderr",
     "output_type": "stream",
     "text": [
      "C:\\Users\\tanch\\anaconda3\\envs\\fyp1\\lib\\site-packages\\recommenders\\models\\deeprec\\DataModel\\ImplicitCF.py:73: FutureWarning: The frame.append method is deprecated and will be removed from pandas in a future version. Use pandas.concat instead.\n",
      "  df = train if test is None else train.append(test)\n"
     ]
    }
   ],
   "source": [
    "data = ImplicitCF(train = train, test=test, \n",
    "                  adj_dir=None, \n",
    "                  col_user=COL_USER, col_item=COL_ITEM, \n",
    "                  seed=SEED)"
   ]
  },
  {
   "cell_type": "code",
   "execution_count": 135,
   "id": "c2565a4b-bec6-4adf-a5fd-5ebd0bedb8de",
   "metadata": {},
   "outputs": [],
   "source": [
    "loss_type = \"AmpBPR2\"\n",
    "loss_type = \"OriginalBPR\"\n",
    "loss_type = \"AmpBPR2\"\n",
    "loss_neg_weight = 1.5\n",
    "log_wandb = False"
   ]
  },
  {
   "cell_type": "code",
   "execution_count": 136,
   "id": "321fe572-82a4-4fd6-8194-49779f4a2bb3",
   "metadata": {
    "tags": []
   },
   "outputs": [
    {
     "name": "stdout",
     "output_type": "stream",
     "text": [
      "Already create adjacency matrix.\n",
      "Already normalize adjacency matrix.\n",
      "Using xavier initialization.\n"
     ]
    }
   ],
   "source": [
    "hparams = prepare_hparams(yaml_file,\n",
    "                          n_layers=3,\n",
    "                          loss_type = loss_type, \n",
    "                          loss_neg_weight = loss_neg_weight, \n",
    "                          log_wandb = log_wandb,\n",
    "                          batch_size=BATCH_SIZE,\n",
    "                          epochs=20,\n",
    "                          learning_rate=0.0025,\n",
    "                          eval_epoch=1,\n",
    "                          top_k=TOP_K,\n",
    "                          COL_USER = COL_USER,\n",
    "                          COL_ITEM = COL_ITEM,\n",
    "                          COL_RATING = COL_RATING\n",
    "                          )\n",
    "# initiate model\n",
    "model = LightGCN(hparams, data, seed=SEED)"
   ]
  },
  {
   "cell_type": "code",
   "execution_count": 137,
   "id": "70b6a097-6739-4949-9536-b1315ca52931",
   "metadata": {
    "tags": []
   },
   "outputs": [
    {
     "name": "stdout",
     "output_type": "stream",
     "text": [
      "Epoch 1 (train)2.1s + (eval)0.9s: train loss = 0.69183 = (mf)0.69183 + (embed)0.00000, precision = 0.00431\n",
      "Epoch 2 (train)1.7s + (eval)0.7s: train loss = 0.67690 = (mf)0.67688 + (embed)0.00002, precision = 0.00485\n",
      "Epoch 3 (train)1.8s + (eval)0.7s: train loss = 0.62255 = (mf)0.62249 + (embed)0.00006, precision = 0.00478\n",
      "Epoch 4 (train)1.7s + (eval)0.8s: train loss = 0.54991 = (mf)0.54978 + (embed)0.00013, precision = 0.00487\n",
      "Epoch 5 (train)1.8s + (eval)0.7s: train loss = 0.49803 = (mf)0.49782 + (embed)0.00021, precision = 0.00498\n",
      "Epoch 6 (train)1.8s + (eval)0.7s: train loss = 0.46014 = (mf)0.45986 + (embed)0.00028, precision = 0.00517\n",
      "Epoch 7 (train)1.7s + (eval)0.7s: train loss = 0.43113 = (mf)0.43079 + (embed)0.00034, precision = 0.00534\n",
      "Epoch 8 (train)1.7s + (eval)0.8s: train loss = 0.40724 = (mf)0.40683 + (embed)0.00040, precision = 0.00536\n",
      "Epoch 9 (train)1.8s + (eval)0.8s: train loss = 0.38164 = (mf)0.38118 + (embed)0.00046, precision = 0.00548\n",
      "Epoch 10 (train)1.7s + (eval)0.7s: train loss = 0.36173 = (mf)0.36121 + (embed)0.00052, precision = 0.00550\n",
      "Epoch 11 (train)1.7s + (eval)0.8s: train loss = 0.34576 = (mf)0.34519 + (embed)0.00057, precision = 0.00566\n",
      "Epoch 12 (train)1.8s + (eval)0.8s: train loss = 0.31939 = (mf)0.31877 + (embed)0.00062, precision = 0.00557\n",
      "Epoch 13 (train)1.7s + (eval)0.8s: train loss = 0.30656 = (mf)0.30589 + (embed)0.00067, precision = 0.00559\n",
      "Epoch 14 (train)1.7s + (eval)0.7s: train loss = 0.28916 = (mf)0.28844 + (embed)0.00073, precision = 0.00569\n",
      "Epoch 15 (train)1.8s + (eval)0.8s: train loss = 0.27719 = (mf)0.27641 + (embed)0.00078, precision = 0.00589\n",
      "Epoch 16 (train)1.8s + (eval)0.7s: train loss = 0.26399 = (mf)0.26317 + (embed)0.00083, precision = 0.00597\n",
      "Epoch 17 (train)1.7s + (eval)0.7s: train loss = 0.25099 = (mf)0.25011 + (embed)0.00088, precision = 0.00597\n",
      "Epoch 18 (train)1.7s + (eval)0.8s: train loss = 0.23819 = (mf)0.23727 + (embed)0.00092, precision = 0.00599\n",
      "Epoch 19 (train)1.8s + (eval)0.8s: train loss = 0.22688 = (mf)0.22590 + (embed)0.00097, precision = 0.00608\n",
      "Epoch 20 (train)1.8s + (eval)0.8s: train loss = 0.21814 = (mf)0.21712 + (embed)0.00102, precision = 0.00610\n"
     ]
    }
   ],
   "source": [
    "model.fit()"
   ]
  },
  {
   "cell_type": "markdown",
   "id": "2fa99f68-462d-43d8-9a60-77e2dba307b3",
   "metadata": {},
   "source": [
    "## Comparison\n",
    "- Similarities with ML100k:\n",
    "    - LightGCN > SAR > Popularity\n",
    "    - LightGCN takes much longer to train and tune, but has shorter inference time\n",
    "    \n",
    "- Differences with ML100k:\n",
    "    - Overall performance in renttherunway is much worse than ML100k\n",
    "\n",
    "- What we can learn is that both **CF recommenders can improve upon Simple Popularity recommendation**. That means that, if popularity recommendation achieves a score of 0.2 precision@10, we can expect the CF recommenders to improve to let's say 0.25~. But if popularity recommendation achieves a score of only 0.02, then we can expect CF recommenders to improve performances to say only 0.03. **Depending on the type and size of datasets, we can expect vastly different performances**. "
   ]
  },
  {
   "cell_type": "code",
   "execution_count": 108,
   "id": "da1b486f-7a31-4916-a756-3ff8593df36e",
   "metadata": {},
   "outputs": [],
   "source": [
    "import seaborn as sb"
   ]
  },
  {
   "cell_type": "code",
   "execution_count": 138,
   "id": "c1f8b4bd-8cf2-445c-b89d-5596f17c87e7",
   "metadata": {},
   "outputs": [],
   "source": [
    "precison_tmp = {\n",
    "    \"LightGCN\":0.00608,\n",
    "    \"SAR\":0.005799,\n",
    "    \"Popularity\":0.003644\n",
    "} "
   ]
  },
  {
   "cell_type": "code",
   "execution_count": 139,
   "id": "fb5338b5-cbc2-48ac-99cb-662bbb1c5767",
   "metadata": {},
   "outputs": [
    {
     "data": {
      "text/plain": [
       "[Text(0.5, 0, 'Precision@10')]"
      ]
     },
     "execution_count": 139,
     "metadata": {},
     "output_type": "execute_result"
    },
    {
     "data": {
      "image/png": "[encoded data removed]",
      "text/plain": [
       "<Figure size 640x480 with 1 Axes>"
      ]
     },
     "metadata": {},
     "output_type": "display_data"
    }
   ],
   "source": [
    "p = sb.barplot(x = list(precison_tmp.values()),y = list(precison_tmp.keys()), palette = \"Accent\")\n",
    "p.set(xlabel = \"Precision@10\")"
   ]
  },
  {
   "cell_type": "code",
   "execution_count": null,
   "id": "fef5f4e6-3a48-4f1b-a541-6e101e478d4d",
   "metadata": {},
   "outputs": [],
   "source": []
  },
  {
   "cell_type": "code",
   "execution_count": null,
   "id": "3b597a3b-7713-497c-bcd1-c158944d7921",
   "metadata": {},
   "outputs": [],
   "source": []
  },
  {
   "cell_type": "markdown",
   "id": "e81fd806-989a-4376-843c-b3e42263aa16",
   "metadata": {},
   "source": [
    "<!-- ## Train and Evaluate: Popularity Recommender -->"
   ]
  },
  {
   "cell_type": "code",
   "execution_count": 112,
   "id": "2ee384af-8dfc-430f-8c10-bfded0c3a0b8",
   "metadata": {},
   "outputs": [],
   "source": [
    "# class PopRecommender():\n",
    "#     def __init__(self, COL_ITEM = \"itemID\", COL_USER = \"userID\"):\n",
    "#         self.COL_ITEM = COL_ITEM\n",
    "#         self.COL_USER = COL_USER\n",
    "#     def fit(self, train):\n",
    "#         self.train = train\n",
    "#         self.memory = train[COL_ITEM].value_counts().keys().tolist()\n",
    "#     def recommend(self, user_id, num_rec = 20, filtered_item_ids = [], remove_seen = True):\n",
    "#         if remove_seen:\n",
    "#             remove_item_ids = self._get_user_liked_item_ids(user_id)\n",
    "#             remove_item_ids += filtered_item_ids\n",
    "        \n",
    "#         # recommend num_rec items\n",
    "#         rec_items = []\n",
    "#         count = 0\n",
    "#         for item_id in self.memory:\n",
    "#             if item_id not in filtered_item_ids: \n",
    "#                 count+=1\n",
    "#                 rec_items.append(item_id)\n",
    "#             if count >= num_rec:\n",
    "#                 break\n",
    "#         return rec_items\n",
    "    \n",
    "#     def recommend_k_items(self, test, top_k=10, remove_seen=True):\n",
    "#         output = pd.DataFrame()\n",
    "#         for userID in test[self.COL_USER]:\n",
    "#             rec_items = self.recommend(userID, num_rec = top_k, remove_seen = remove_seen)\n",
    "#             tmp = pd.DataFrame(rec_items, columns = [self.COL_ITEM])\n",
    "#             tmp[self.COL_USER] = userID\n",
    "#             output = pd.concat([output, tmp], axis = 0)\n",
    "#         output[\"prediction\"] = 1\n",
    "#         return output\n",
    "#     def _get_user_liked_item_ids(self, user_id):\n",
    "#         return self.train[self.train[self.COL_USER] == user_id][self.COL_ITEM].tolist()"
   ]
  },
  {
   "cell_type": "code",
   "execution_count": 113,
   "id": "9a0ffd29-0bea-44f9-98a6-c47f9297eff3",
   "metadata": {},
   "outputs": [],
   "source": [
    "# rec = PopRecommender(COL_ITEM = COL_ITEM, COL_USER = COL_USER)\n",
    "# rec.fit(train)\n",
    "# top_k = rec.recommend_k_items(test, top_k = TOP_K, remove_seen = True)\n",
    "# eval_precision = precision_at_k(test, top_k, col_user=COL_USER, col_item=COL_ITEM, col_rating='rating', k=TOP_K)\n",
    "# eval_precision"
   ]
  }
 ],
 "metadata": {
  "kernelspec": {
   "display_name": "Python 3 (ipykernel)",
   "language": "python",
   "name": "python3"
  },
  "language_info": {
   "codemirror_mode": {
    "name": "ipython",
    "version": 3
   },
   "file_extension": ".py",
   "mimetype": "text/x-python",
   "name": "python",
   "nbconvert_exporter": "python",
   "pygments_lexer": "ipython3",
   "version": "3.9.15"
  }
 },
 "nbformat": 4,
 "nbformat_minor": 5
}
