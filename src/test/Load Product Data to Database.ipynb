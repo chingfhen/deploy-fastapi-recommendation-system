{
 "cells": [
  {
   "cell_type": "markdown",
   "id": "733186e5-2f89-4541-8db3-776893a63d5a",
   "metadata": {},
   "source": [
    "# AWS RDS "
   ]
  },
  {
   "cell_type": "code",
   "execution_count": 13,
   "id": "a4e54f4d-fb26-47b5-a116-185acfbaf52e",
   "metadata": {
    "tags": []
   },
   "outputs": [],
   "source": [
    "import mysql.connector\n",
    "import os\n",
    "import pandas as pd\n",
    "import yaml"
   ]
  },
  {
   "cell_type": "code",
   "execution_count": 14,
   "id": "a0680785-b5c5-44b7-9bda-cf8038d39a0b",
   "metadata": {},
   "outputs": [],
   "source": [
    "with open(r\"C:\\Users\\tanch\\Documents\\NTU\\NTU Year 4\\FYP - GNN\\Recommender API\\deploy-fastapi-recommendation-system\\src\\config\\database-config.yaml\", \"r\") as f:\n",
    "    try:\n",
    "        config = yaml.safe_load(f)\n",
    "    except yaml.YAMLError as exc:\n",
    "        print(exc)"
   ]
  },
  {
   "cell_type": "code",
   "execution_count": 36,
   "id": "a32c33be-0e5d-43d3-bfa3-9436e9234b94",
   "metadata": {
    "tags": []
   },
   "outputs": [],
   "source": [
    "cnx = mysql.connector.connect(user=config['DATABASE_USER'], password=config['DATABASE_PASSWORD'],\n",
    "                              host=config['DATABASE_HOST'],\n",
    "                              database=config['DATABASE_NAME'], port = 3306)\n",
    "cursor = cnx.cursor()"
   ]
  },
  {
   "cell_type": "markdown",
   "id": "ffaf24b5-6ac3-43e4-ac0e-8b41547c8314",
   "metadata": {},
   "source": [
    "### create and import table"
   ]
  },
  {
   "cell_type": "code",
   "execution_count": 18,
   "id": "4e2ae320-e8a9-4cd3-bc26-807c65bcceb8",
   "metadata": {},
   "outputs": [],
   "source": [
    "data = pd.read_csv(r\"C:\\Users\\tanch\\Documents\\NTU\\NTU Year 4\\FYP - GNN\\data\\shopee-20221117T041452Z-001\\shopee\\arietes_product_info.csv\")\n",
    "list_of_records = data.to_records(index = False).tolist()"
   ]
  },
  {
   "cell_type": "code",
   "execution_count": 19,
   "id": "c1edb747-c935-4831-803d-f153cecad9fc",
   "metadata": {},
   "outputs": [
    {
     "data": {
      "text/html": [
       "<div>\n",
       "<style scoped>\n",
       "    .dataframe tbody tr th:only-of-type {\n",
       "        vertical-align: middle;\n",
       "    }\n",
       "\n",
       "    .dataframe tbody tr th {\n",
       "        vertical-align: top;\n",
       "    }\n",
       "\n",
       "    .dataframe thead th {\n",
       "        text-align: right;\n",
       "    }\n",
       "</style>\n",
       "<table border=\"1\" class=\"dataframe\">\n",
       "  <thead>\n",
       "    <tr style=\"text-align: right;\">\n",
       "      <th></th>\n",
       "      <th>product_id</th>\n",
       "      <th>product_name</th>\n",
       "      <th>categories</th>\n",
       "      <th>image_url</th>\n",
       "    </tr>\n",
       "  </thead>\n",
       "  <tbody>\n",
       "    <tr>\n",
       "      <th>0</th>\n",
       "      <td>23826146098</td>\n",
       "      <td>Ultrasonic Aroma Humidifier Led light changing</td>\n",
       "      <td>101129 - Home &amp; Living/Home Fragrance &amp; Aromat...</td>\n",
       "      <td>https://cf.shopee.sg/file/sg-11134207-23020-9n...</td>\n",
       "    </tr>\n",
       "    <tr>\n",
       "      <th>1</th>\n",
       "      <td>23821255327</td>\n",
       "      <td>Heavy Duty Canvas Tote Bags Stitching Contrast...</td>\n",
       "      <td>100093 - Women Bags/Tote Bags</td>\n",
       "      <td>https://cf.shopee.sg/file/sg-11134207-23020-yu...</td>\n",
       "    </tr>\n",
       "    <tr>\n",
       "      <th>2</th>\n",
       "      <td>23821254972</td>\n",
       "      <td>Hot Products EMS Vibration RF V Shape Other Ho...</td>\n",
       "      <td>101661 - Beauty/Beauty Tools/Facial Care Tools...</td>\n",
       "      <td>https://cf.shopee.sg/file/sg-11134207-23020-k1...</td>\n",
       "    </tr>\n",
       "    <tr>\n",
       "      <th>3</th>\n",
       "      <td>23821143235</td>\n",
       "      <td>Wart Removal Cream Natural Herbal Skin Care Re...</td>\n",
       "      <td>100427 - Health/Medical Supplies/First Aid Sup...</td>\n",
       "      <td>https://cf.shopee.sg/file/sg-11134207-23020-1u...</td>\n",
       "    </tr>\n",
       "    <tr>\n",
       "      <th>4</th>\n",
       "      <td>23720393304</td>\n",
       "      <td>Cute Kids Bag Cartoon Schoolbag Shoulder Bag S...</td>\n",
       "      <td>101744 - Baby &amp; Kids Fashion/Baby &amp; Kids Acces...</td>\n",
       "      <td>https://cf.shopee.sg/file/sg-11134207-23010-t7...</td>\n",
       "    </tr>\n",
       "  </tbody>\n",
       "</table>\n",
       "</div>"
      ],
      "text/plain": [
       "    product_id                                       product_name  \\\n",
       "0  23826146098     Ultrasonic Aroma Humidifier Led light changing   \n",
       "1  23821255327  Heavy Duty Canvas Tote Bags Stitching Contrast...   \n",
       "2  23821254972  Hot Products EMS Vibration RF V Shape Other Ho...   \n",
       "3  23821143235  Wart Removal Cream Natural Herbal Skin Care Re...   \n",
       "4  23720393304  Cute Kids Bag Cartoon Schoolbag Shoulder Bag S...   \n",
       "\n",
       "                                          categories  \\\n",
       "0  101129 - Home & Living/Home Fragrance & Aromat...   \n",
       "1                      100093 - Women Bags/Tote Bags   \n",
       "2  101661 - Beauty/Beauty Tools/Facial Care Tools...   \n",
       "3  100427 - Health/Medical Supplies/First Aid Sup...   \n",
       "4  101744 - Baby & Kids Fashion/Baby & Kids Acces...   \n",
       "\n",
       "                                           image_url  \n",
       "0  https://cf.shopee.sg/file/sg-11134207-23020-9n...  \n",
       "1  https://cf.shopee.sg/file/sg-11134207-23020-yu...  \n",
       "2  https://cf.shopee.sg/file/sg-11134207-23020-k1...  \n",
       "3  https://cf.shopee.sg/file/sg-11134207-23020-1u...  \n",
       "4  https://cf.shopee.sg/file/sg-11134207-23010-t7...  "
      ]
     },
     "execution_count": 19,
     "metadata": {},
     "output_type": "execute_result"
    }
   ],
   "source": [
    "data.head() "
   ]
  },
  {
   "cell_type": "code",
   "execution_count": 20,
   "id": "c0787612-9761-4bf9-98dd-358604e0a894",
   "metadata": {},
   "outputs": [],
   "source": [
    "cursor.execute(f\"\"\"DELETE FROM {config['TABLE_NAME']};\"\"\")\n",
    "cursor.execute(f\"\"\"DROP TABLE {config['TABLE_NAME']};\"\"\")"
   ]
  },
  {
   "cell_type": "code",
   "execution_count": 21,
   "id": "59d26e14-d3d7-4d32-9066-876ec70a884f",
   "metadata": {
    "tags": []
   },
   "outputs": [],
   "source": [
    "cursor.execute(\n",
    "    f\"\"\"CREATE TABLE IF NOT EXISTS {config['TABLE_NAME']} (\n",
    "    product_id BIGINT PRIMARY KEY,\n",
    "    product_name VARCHAR(255) NOT NULL,\n",
    "    categories VARCHAR(255) NOT NULL,\n",
    "    image_url VARCHAR(255) NOT NULL\n",
    "    );\n",
    "    \"\"\"\n",
    ")"
   ]
  },
  {
   "cell_type": "code",
   "execution_count": 22,
   "id": "23cd0f1a-b5f8-438d-8aa2-7dee8c941101",
   "metadata": {},
   "outputs": [],
   "source": [
    "for record in list_of_records:\n",
    "    try:\n",
    "        cursor.execute(f\"\"\"INSERT INTO {config['TABLE_NAME']} (product_id, product_name, categories, image_url) VALUES (%s,%s,%s,%s)\"\"\", record)\n",
    "    except mysql.connector.Error as error:\n",
    "        print(f\"Failed to insert record {record}: {error}\")  \n",
    "cnx.commit()"
   ]
  },
  {
   "cell_type": "markdown",
   "id": "0466332b-02c3-4e91-ac53-eca345bd1da6",
   "metadata": {},
   "source": [
    "### read contents"
   ]
  },
  {
   "cell_type": "code",
   "execution_count": 26,
   "id": "e984b809-f7c0-445e-b734-ff29f3a4bf2c",
   "metadata": {},
   "outputs": [],
   "source": [
    "cursor.execute(f\"select * from {config['TABLE_NAME']}\")"
   ]
  },
  {
   "cell_type": "code",
   "execution_count": 38,
   "id": "ceff140f-ae17-449c-99e5-244353cc025a",
   "metadata": {},
   "outputs": [
    {
     "data": {
      "text/plain": [
       "(349,)"
      ]
     },
     "execution_count": 38,
     "metadata": {},
     "output_type": "execute_result"
    }
   ],
   "source": [
    "next(cursor)"
   ]
  },
  {
   "cell_type": "code",
   "execution_count": 37,
   "id": "4601c349-ca0a-4d97-98aa-f8875f759ee8",
   "metadata": {},
   "outputs": [],
   "source": [
    "cursor.execute(f\"select count(*) from {config['TABLE_NAME']}\")"
   ]
  },
  {
   "cell_type": "code",
   "execution_count": null,
   "id": "b4342500-e4e7-4607-be6b-5224b82e1f2d",
   "metadata": {},
   "outputs": [],
   "source": [
    "cursor.close()\n",
    "cnx.close()"
   ]
  },
  {
   "cell_type": "markdown",
   "id": "dc27ff37-b1cc-48fa-b257-bbbf85b5d644",
   "metadata": {},
   "source": [
    "# SQLITE3"
   ]
  },
  {
   "cell_type": "code",
   "execution_count": 1,
   "id": "a684c05c-a81c-4166-9ac9-e00aed2c34a7",
   "metadata": {},
   "outputs": [],
   "source": [
    "import sqlite3\n",
    "import pandas as pd"
   ]
  },
  {
   "cell_type": "code",
   "execution_count": 2,
   "id": "684b1644-ba36-4367-8e02-23d97e2ec174",
   "metadata": {},
   "outputs": [],
   "source": [
    "DESIRED_COLUMNS = ['product_id', 'product_name', 'categories', 'image_url']\n",
    "DATABASE_DIR = r\"C:\\Users\\tanch\\Documents\\NTU\\NTU Year 4\\FYP - GNN\\Recommender API\\deploy-fastapi-recommendation-system\\src\\database\\sqlite3\"\n",
    "DATABASE_NAME = \"arietes_product_info\""
   ]
  },
  {
   "cell_type": "markdown",
   "id": "129c5a87-1f57-49f8-80b3-d8a6940fb474",
   "metadata": {},
   "source": [
    "## read data"
   ]
  },
  {
   "cell_type": "code",
   "execution_count": 3,
   "id": "0c7154ff-01b8-476c-aa98-b1ad48528c7a",
   "metadata": {},
   "outputs": [],
   "source": [
    "data = pd.read_csv(r\"C:\\Users\\tanch\\Documents\\NTU\\NTU Year 4\\FYP - GNN\\data\\shopee-20221117T041452Z-001\\shopee\\cleaned_transactions.csv\")\n",
    "list_of_records = data[DESIRED_COLUMNS].to_records(index = False).tolist()"
   ]
  },
  {
   "cell_type": "code",
   "execution_count": 4,
   "id": "f09d1937-391f-48c1-957d-ac0aecc23ed5",
   "metadata": {},
   "outputs": [
    {
     "data": {
      "text/html": [
       "<div>\n",
       "<style scoped>\n",
       "    .dataframe tbody tr th:only-of-type {\n",
       "        vertical-align: middle;\n",
       "    }\n",
       "\n",
       "    .dataframe tbody tr th {\n",
       "        vertical-align: top;\n",
       "    }\n",
       "\n",
       "    .dataframe thead th {\n",
       "        text-align: right;\n",
       "    }\n",
       "</style>\n",
       "<table border=\"1\" class=\"dataframe\">\n",
       "  <thead>\n",
       "    <tr style=\"text-align: right;\">\n",
       "      <th></th>\n",
       "      <th>product_id</th>\n",
       "      <th>product_name</th>\n",
       "      <th>categories</th>\n",
       "      <th>image_url</th>\n",
       "    </tr>\n",
       "  </thead>\n",
       "  <tbody>\n",
       "    <tr>\n",
       "      <th>0</th>\n",
       "      <td>23826146098</td>\n",
       "      <td>Ultrasonic Aroma Humidifier Led light changing</td>\n",
       "      <td>101129 - Home &amp; Living/Home Fragrance &amp; Aromat...</td>\n",
       "      <td>https://cf.shopee.sg/file/sg-11134207-23020-9n...</td>\n",
       "    </tr>\n",
       "    <tr>\n",
       "      <th>1</th>\n",
       "      <td>23821255327</td>\n",
       "      <td>Heavy Duty Canvas Tote Bags Stitching Contrast...</td>\n",
       "      <td>100093 - Women Bags/Tote Bags</td>\n",
       "      <td>https://cf.shopee.sg/file/sg-11134207-23020-yu...</td>\n",
       "    </tr>\n",
       "    <tr>\n",
       "      <th>2</th>\n",
       "      <td>23821254972</td>\n",
       "      <td>Hot Products EMS Vibration RF V Shape Other Ho...</td>\n",
       "      <td>101661 - Beauty/Beauty Tools/Facial Care Tools...</td>\n",
       "      <td>https://cf.shopee.sg/file/sg-11134207-23020-k1...</td>\n",
       "    </tr>\n",
       "    <tr>\n",
       "      <th>3</th>\n",
       "      <td>23821143235</td>\n",
       "      <td>Wart Removal Cream Natural Herbal Skin Care Re...</td>\n",
       "      <td>100427 - Health/Medical Supplies/First Aid Sup...</td>\n",
       "      <td>https://cf.shopee.sg/file/sg-11134207-23020-1u...</td>\n",
       "    </tr>\n",
       "    <tr>\n",
       "      <th>4</th>\n",
       "      <td>23720393304</td>\n",
       "      <td>Cute Kids Bag Cartoon Schoolbag Shoulder Bag S...</td>\n",
       "      <td>101744 - Baby &amp; Kids Fashion/Baby &amp; Kids Acces...</td>\n",
       "      <td>https://cf.shopee.sg/file/sg-11134207-23010-t7...</td>\n",
       "    </tr>\n",
       "  </tbody>\n",
       "</table>\n",
       "</div>"
      ],
      "text/plain": [
       "    product_id                                       product_name  \\\n",
       "0  23826146098     Ultrasonic Aroma Humidifier Led light changing   \n",
       "1  23821255327  Heavy Duty Canvas Tote Bags Stitching Contrast...   \n",
       "2  23821254972  Hot Products EMS Vibration RF V Shape Other Ho...   \n",
       "3  23821143235  Wart Removal Cream Natural Herbal Skin Care Re...   \n",
       "4  23720393304  Cute Kids Bag Cartoon Schoolbag Shoulder Bag S...   \n",
       "\n",
       "                                          categories  \\\n",
       "0  101129 - Home & Living/Home Fragrance & Aromat...   \n",
       "1                      100093 - Women Bags/Tote Bags   \n",
       "2  101661 - Beauty/Beauty Tools/Facial Care Tools...   \n",
       "3  100427 - Health/Medical Supplies/First Aid Sup...   \n",
       "4  101744 - Baby & Kids Fashion/Baby & Kids Acces...   \n",
       "\n",
       "                                           image_url  \n",
       "0  https://cf.shopee.sg/file/sg-11134207-23020-9n...  \n",
       "1  https://cf.shopee.sg/file/sg-11134207-23020-yu...  \n",
       "2  https://cf.shopee.sg/file/sg-11134207-23020-k1...  \n",
       "3  https://cf.shopee.sg/file/sg-11134207-23020-1u...  \n",
       "4  https://cf.shopee.sg/file/sg-11134207-23010-t7...  "
      ]
     },
     "execution_count": 4,
     "metadata": {},
     "output_type": "execute_result"
    }
   ],
   "source": [
    "data.head()"
   ]
  },
  {
   "cell_type": "markdown",
   "id": "811503c2-1633-4019-a35f-46f73dbc91ae",
   "metadata": {},
   "source": [
    "## Create database\n",
    "- create table, insert values"
   ]
  },
  {
   "cell_type": "code",
   "execution_count": 5,
   "id": "d9d4b55f-c470-40a4-ac46-6fa58e9f739d",
   "metadata": {},
   "outputs": [],
   "source": [
    "con = sqlite3.connect(f\"{DATABASE_DIR}/{DATABASE_NAME}.db\")\n",
    "cur = con.cursor()"
   ]
  },
  {
   "cell_type": "code",
   "execution_count": 6,
   "id": "84ff9e70-fc16-4f47-be0b-bb9630a8d752",
   "metadata": {},
   "outputs": [
    {
     "data": {
      "text/plain": [
       "<sqlite3.Cursor at 0x2dd7eabfb20>"
      ]
     },
     "execution_count": 6,
     "metadata": {},
     "output_type": "execute_result"
    }
   ],
   "source": [
    "cur.execute(f\"\"\"CREATE TABLE IF NOT EXISTS {DATABASE_NAME}(\n",
    "                product_id INTEGER NOT NULL PRIMARY KEY, \n",
    "                product_name varchar(255), \n",
    "                categories varchar(255), \n",
    "                image_url varchar(255));\"\"\")  "
   ]
  },
  {
   "cell_type": "code",
   "execution_count": 7,
   "id": "88c5f7c2-cd93-4f1f-b2ac-158fdd6d4439",
   "metadata": {},
   "outputs": [
    {
     "data": {
      "text/plain": [
       "<sqlite3.Cursor at 0x2dd7eabfb20>"
      ]
     },
     "execution_count": 7,
     "metadata": {},
     "output_type": "execute_result"
    }
   ],
   "source": [
    "# need to commit sqlite changes\n",
    "cur.executemany(f'INSERT INTO {DATABASE_NAME} VALUES(?,?,?,?)', list_of_records)\n",
    "con.commit()"
   ]
  },
  {
   "cell_type": "code",
   "execution_count": 11,
   "id": "1786cd35-7fce-41ea-bc54-1e8547ae059f",
   "metadata": {},
   "outputs": [],
   "source": [
    "# cur.execute(f\"\"\"select * from {DATABASE_NAME}\"\"\")"
   ]
  },
  {
   "cell_type": "code",
   "execution_count": 10,
   "id": "9447c207-af8a-4fc1-97c7-ac1c3926e260",
   "metadata": {},
   "outputs": [],
   "source": [
    "# cur.fetchone()"
   ]
  }
 ],
 "metadata": {
  "kernelspec": {
   "display_name": "Python 3 (ipykernel)",
   "language": "python",
   "name": "python3"
  },
  "language_info": {
   "codemirror_mode": {
    "name": "ipython",
    "version": 3
   },
   "file_extension": ".py",
   "mimetype": "text/x-python",
   "name": "python",
   "nbconvert_exporter": "python",
   "pygments_lexer": "ipython3",
   "version": "3.9.15"
  }
 },
 "nbformat": 4,
 "nbformat_minor": 5
}
