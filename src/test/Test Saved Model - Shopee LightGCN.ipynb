{
 "cells": [
  {
   "cell_type": "markdown",
   "id": "20a65bb6-a69a-400b-a38e-25c035887650",
   "metadata": {},
   "source": [
    "# ABOUT \n",
    "- this notebook trains LightGCN on Modcloth dataset and saves the model"
   ]
  },
  {
   "cell_type": "code",
   "execution_count": 1,
   "id": "18844cad-80ce-4e2d-ac3b-0e4cf778184b",
   "metadata": {},
   "outputs": [],
   "source": [
    "# from recommenders.models.sar import SAR\n",
    "from recommenders.datasets.python_splitters import python_stratified_split\n",
    "from recommenders.utils.constants import SEED as DEFAULT_SEED\n",
    "from recommenders.evaluation.python_evaluation import precision_at_k\n",
    "from recommenders.models.deeprec.DataModel.ImplicitCF import ImplicitCF\n",
    "from recommenders.models.deeprec.deeprec_utils import prepare_hparams\n",
    "from recommenders.models.deeprec.models.graphrec.lightgcn import LightGCN\n",
    "from recommenders.utils.timer import Timer\n",
    "\n",
    "import pandas as pd\n",
    "import os\n",
    "# import gzip\n",
    "# import json\n",
    "# import seaborn as sb"
   ]
  },
  {
   "cell_type": "markdown",
   "id": "1ca9ca82-3244-4584-98e6-f78467620441",
   "metadata": {
    "tags": []
   },
   "source": [
    "### read data"
   ]
  },
  {
   "cell_type": "code",
   "execution_count": 2,
   "id": "4c965b65-e8bf-40a8-95a9-acd4df7e87db",
   "metadata": {},
   "outputs": [],
   "source": [
    "path = r\"C:\\Users\\tanch\\Documents\\NTU\\NTU Year 4\\FYP - GNN\\data\\shopee-20221117T041452Z-001\\interaction data\\train.pkl\"\n",
    "train = pd.read_pickle(path) \n",
    "path = r\"C:\\Users\\tanch\\Documents\\NTU\\NTU Year 4\\FYP - GNN\\data\\shopee-20221117T041452Z-001\\interaction data\\test.pkl\"\n",
    "test = pd.read_pickle(path)"
   ]
  },
  {
   "cell_type": "markdown",
   "id": "f324e29f-66ba-4040-9f7b-66da0c64435f",
   "metadata": {
    "tags": []
   },
   "source": [
    "### data preparation\n",
    "- preparation for cf training"
   ]
  },
  {
   "cell_type": "code",
   "execution_count": 3,
   "id": "d2abd51f-e5be-4a3c-8694-25e8787c13d0",
   "metadata": {},
   "outputs": [],
   "source": [
    "COLS = [\"user_id\", \"item_id\", \"rating\"]\n",
    "COL_USER, COL_ITEM = \"user_id\", \"item_id\"\n",
    "COL_RATING = \"rating\"\n",
    "SPLIT_RATIO = 0.75\n",
    "SEED = 0 \n",
    "MIN_INTERACTIONS = 5\n",
    "TOP_K = 10\n",
    "BATCH_SIZE = 1024\n",
    "save_model = False\n",
    "save_epoch = 50\n",
    "loss_type = \"AmpBPR2\"\n",
    "loss_neg_weight = 1.5\n",
    "log_wandb = False"
   ]
  },
  {
   "cell_type": "markdown",
   "id": "9c9802cd-a459-404c-b1ad-1f0c0bc2dbeb",
   "metadata": {
    "tags": []
   },
   "source": [
    "## Train and Evaluate: LightGCN"
   ]
  },
  {
   "cell_type": "code",
   "execution_count": 4,
   "id": "62d45b7d-602e-433a-a183-9f2938385fb8",
   "metadata": {},
   "outputs": [],
   "source": [
    "yaml_file = r\"./lightgcn.yml\"\n",
    "# MODEL_DIR = r\"C:\\Users\\tanch\\Documents\\NTU\\NTU Year 4\\FYP - GNN\\models\""
   ]
  },
  {
   "cell_type": "code",
   "execution_count": 5,
   "id": "3ee6dde6-85b5-4ac2-835c-5848ba1fb8ad",
   "metadata": {},
   "outputs": [
    {
     "name": "stderr",
     "output_type": "stream",
     "text": [
      "C:\\Users\\tanch\\anaconda3\\envs\\fyp1\\lib\\site-packages\\recommenders\\models\\deeprec\\DataModel\\ImplicitCF.py:73: FutureWarning: The frame.append method is deprecated and will be removed from pandas in a future version. Use pandas.concat instead.\n",
      "  df = train if test is None else train.append(test)\n"
     ]
    }
   ],
   "source": [
    "data = ImplicitCF(train = train, test=test, \n",
    "                  adj_dir=None, \n",
    "                  col_user=COL_USER, col_item=COL_ITEM, \n",
    "                  col_rating = COL_RATING,\n",
    "                  seed=SEED)"
   ]
  },
  {
   "cell_type": "code",
   "execution_count": 31,
   "id": "ef6d0a71-ab6b-4a9d-bfbf-8de6d93bc303",
   "metadata": {
    "tags": []
   },
   "outputs": [
    {
     "name": "stdout",
     "output_type": "stream",
     "text": [
      "Already create adjacency matrix.\n",
      "Already normalize adjacency matrix.\n",
      "Using xavier initialization.\n"
     ]
    }
   ],
   "source": [
    "hparams = prepare_hparams(yaml_file,\n",
    "                              n_layers=2,\n",
    "                              loss_type = loss_type, \n",
    "                              loss_neg_weight = loss_neg_weight, \n",
    "                              log_wandb = log_wandb,\n",
    "                              batch_size=BATCH_SIZE,\n",
    "                              epochs=50,\n",
    "                              learning_rate=0.005,\n",
    "                              eval_epoch=1,\n",
    "                              top_k=TOP_K,\n",
    "                              COL_USER = COL_USER,\n",
    "                              COL_ITEM = COL_ITEM,\n",
    "                              COL_RATING = COL_RATING,\n",
    "\n",
    "                              )\n",
    "# initiate model\n",
    "model = LightGCN(hparams, data, seed=SEED)"
   ]
  },
  {
   "cell_type": "markdown",
   "id": "d8b243c7-060a-4b10-a887-1561f86b1e0d",
   "metadata": {
    "tags": []
   },
   "source": [
    "## load and predict"
   ]
  },
  {
   "cell_type": "code",
   "execution_count": 32,
   "id": "51cc7e8a-72a8-42a8-8227-65c43af4e661",
   "metadata": {
    "tags": []
   },
   "outputs": [
    {
     "name": "stdout",
     "output_type": "stream",
     "text": [
      "INFO:tensorflow:Restoring parameters from C:\\Users\\tanch\\Documents\\NTU\\NTU Year 4\\FYP - GNN\\Recommender API\\deploy-fastapi-recommendation-system\\src\\api\\models\\epoch_200\n"
     ]
    },
    {
     "data": {
      "text/plain": [
       "0.026237623762376233"
      ]
     },
     "execution_count": 32,
     "metadata": {},
     "output_type": "execute_result"
    }
   ],
   "source": [
    "save_path_str = r\"C:\\Users\\tanch\\Documents\\NTU\\NTU Year 4\\FYP - GNN\\Recommender API\\deploy-fastapi-recommendation-system\\src\\api\\models\\epoch_200\"\n",
    "model.load(save_path_str)\n",
    "top_k = model.recommend_k_items(test, top_k=TOP_K, remove_seen=True)\n",
    "eval_precision = precision_at_k(test, top_k, col_user=COL_USER, col_item=COL_ITEM, col_rating=COL_RATING, k=TOP_K)\n",
    "eval_precision     "
   ]
  },
  {
   "cell_type": "code",
   "execution_count": 33,
   "id": "0722072c-6825-4fcd-921e-dd007c32110b",
   "metadata": {
    "collapsed": true,
    "jupyter": {
     "outputs_hidden": true
    },
    "tags": []
   },
   "outputs": [
    {
     "ename": "KeyError",
     "evalue": "'999697'",
     "output_type": "error",
     "traceback": [
      "\u001b[1;31m---------------------------------------------------------------------------\u001b[0m",
      "\u001b[1;31mKeyError\u001b[0m                                  Traceback (most recent call last)",
      "Cell \u001b[1;32mIn [33], line 1\u001b[0m\n\u001b[1;32m----> 1\u001b[0m \u001b[43mmodel\u001b[49m\u001b[38;5;241;43m.\u001b[39;49m\u001b[43mrecommend_k_items\u001b[49m\u001b[43m(\u001b[49m\u001b[43mpd\u001b[49m\u001b[38;5;241;43m.\u001b[39;49m\u001b[43mDataFrame\u001b[49m\u001b[43m(\u001b[49m\u001b[43m{\u001b[49m\u001b[38;5;124;43m\"\u001b[39;49m\u001b[38;5;124;43muser_id\u001b[39;49m\u001b[38;5;124;43m\"\u001b[39;49m\u001b[43m:\u001b[49m\u001b[43m[\u001b[49m\u001b[38;5;124;43m\"\u001b[39;49m\u001b[38;5;124;43m999697\u001b[39;49m\u001b[38;5;124;43m\"\u001b[39;49m\u001b[43m]\u001b[49m\u001b[43m}\u001b[49m\u001b[43m)\u001b[49m\u001b[43m,\u001b[49m\u001b[43m \u001b[49m\u001b[43mtop_k\u001b[49m\u001b[38;5;241;43m=\u001b[39;49m\u001b[43mTOP_K\u001b[49m\u001b[43m,\u001b[49m\u001b[43m \u001b[49m\u001b[43mremove_seen\u001b[49m\u001b[38;5;241;43m=\u001b[39;49m\u001b[38;5;28;43;01mTrue\u001b[39;49;00m\u001b[43m)\u001b[49m\n",
      "File \u001b[1;32m~\\anaconda3\\envs\\fyp1\\lib\\site-packages\\recommenders\\models\\deeprec\\models\\graphrec\\lightgcn.py:438\u001b[0m, in \u001b[0;36mLightGCN.recommend_k_items\u001b[1;34m(self, test, top_k, sort_top_k, remove_seen, use_id)\u001b[0m\n\u001b[0;32m    436\u001b[0m data \u001b[38;5;241m=\u001b[39m \u001b[38;5;28mself\u001b[39m\u001b[38;5;241m.\u001b[39mdata\n\u001b[0;32m    437\u001b[0m \u001b[38;5;28;01mif\u001b[39;00m \u001b[38;5;129;01mnot\u001b[39;00m use_id:\n\u001b[1;32m--> 438\u001b[0m     user_ids \u001b[38;5;241m=\u001b[39m np\u001b[38;5;241m.\u001b[39marray([data\u001b[38;5;241m.\u001b[39muser2id[x] \u001b[38;5;28;01mfor\u001b[39;00m x \u001b[38;5;129;01min\u001b[39;00m test[data\u001b[38;5;241m.\u001b[39mcol_user]\u001b[38;5;241m.\u001b[39munique()])\n\u001b[0;32m    439\u001b[0m \u001b[38;5;28;01melse\u001b[39;00m:\n\u001b[0;32m    440\u001b[0m     user_ids \u001b[38;5;241m=\u001b[39m np\u001b[38;5;241m.\u001b[39marray(test[data\u001b[38;5;241m.\u001b[39mcol_user]\u001b[38;5;241m.\u001b[39munique())\n",
      "File \u001b[1;32m~\\anaconda3\\envs\\fyp1\\lib\\site-packages\\recommenders\\models\\deeprec\\models\\graphrec\\lightgcn.py:438\u001b[0m, in \u001b[0;36m<listcomp>\u001b[1;34m(.0)\u001b[0m\n\u001b[0;32m    436\u001b[0m data \u001b[38;5;241m=\u001b[39m \u001b[38;5;28mself\u001b[39m\u001b[38;5;241m.\u001b[39mdata\n\u001b[0;32m    437\u001b[0m \u001b[38;5;28;01mif\u001b[39;00m \u001b[38;5;129;01mnot\u001b[39;00m use_id:\n\u001b[1;32m--> 438\u001b[0m     user_ids \u001b[38;5;241m=\u001b[39m np\u001b[38;5;241m.\u001b[39marray([\u001b[43mdata\u001b[49m\u001b[38;5;241;43m.\u001b[39;49m\u001b[43muser2id\u001b[49m\u001b[43m[\u001b[49m\u001b[43mx\u001b[49m\u001b[43m]\u001b[49m \u001b[38;5;28;01mfor\u001b[39;00m x \u001b[38;5;129;01min\u001b[39;00m test[data\u001b[38;5;241m.\u001b[39mcol_user]\u001b[38;5;241m.\u001b[39munique()])\n\u001b[0;32m    439\u001b[0m \u001b[38;5;28;01melse\u001b[39;00m:\n\u001b[0;32m    440\u001b[0m     user_ids \u001b[38;5;241m=\u001b[39m np\u001b[38;5;241m.\u001b[39marray(test[data\u001b[38;5;241m.\u001b[39mcol_user]\u001b[38;5;241m.\u001b[39munique())\n",
      "\u001b[1;31mKeyError\u001b[0m: '999697'"
     ]
    }
   ],
   "source": [
    "model.recommend_k_items(pd.DataFrame({\"user_id\":[\"999697\"]}), top_k=TOP_K, remove_seen=True)"
   ]
  },
  {
   "cell_type": "code",
   "execution_count": null,
   "id": "647393f3-b8c4-4d85-8f39-78a610074ee5",
   "metadata": {},
   "outputs": [],
   "source": []
  }
 ],
 "metadata": {
  "kernelspec": {
   "display_name": "Python 3 (ipykernel)",
   "language": "python",
   "name": "python3"
  },
  "language_info": {
   "codemirror_mode": {
    "name": "ipython",
    "version": 3
   },
   "file_extension": ".py",
   "mimetype": "text/x-python",
   "name": "python",
   "nbconvert_exporter": "python",
   "pygments_lexer": "ipython3",
   "version": "3.9.15"
  }
 },
 "nbformat": 4,
 "nbformat_minor": 5
}
