{
 "cells": [
  {
   "cell_type": "markdown",
   "id": "9cb5af0a-8d4b-4ab5-a98e-3895d981526a",
   "metadata": {},
   "source": [
    "# ABOUT:\n",
    "- this notebook compares the recommendation performance between Popularity recommender, SAR, and LightGCN on renttherunway dataset"
   ]
  },
  {
   "cell_type": "code",
   "execution_count": 1,
   "id": "e8eaeb77-3d83-4a48-81ed-4d9fc428ac01",
   "metadata": {},
   "outputs": [],
   "source": [
    "from recommenders.models.sar import SAR\n",
    "from recommenders.datasets.python_splitters import python_stratified_split\n",
    "from recommenders.utils.constants import SEED as DEFAULT_SEED\n",
    "from recommenders.evaluation.python_evaluation import precision_at_k\n",
    "from recommenders.models.deeprec.DataModel.ImplicitCF import ImplicitCF\n",
    "from recommenders.models.deeprec.deeprec_utils import prepare_hparams\n",
    "from recommenders.models.deeprec.models.graphrec.lightgcn import LightGCN\n",
    "from recommenders.utils.timer import Timer\n",
    "\n",
    "import pandas as pd\n",
    "import os\n",
    "import gzip\n",
    "import json\n",
    "import pandas as pd\n",
    "import seaborn as sb\n",
    "from scipy.sparse import save_npz, load_npz\n",
    "from numpy import save, load \n",
    "import json"
   ]
  },
  {
   "cell_type": "markdown",
   "id": "912a4ca1-a7b5-4e54-9b9c-3e4be7781322",
   "metadata": {
    "tags": []
   },
   "source": [
    "### read data"
   ]
  },
  {
   "cell_type": "code",
   "execution_count": 2,
   "id": "01b8f025-2f86-408a-9c94-3adf5cef2724",
   "metadata": {},
   "outputs": [],
   "source": [
    "modcloth_path = r\"C:\\Users\\tanch\\Documents\\NTU\\NTU Year 4\\FYP - GNN\\data\\RecSys Datasets\\modcloth_final_data.json.gz\"\n",
    "COLS = [\"user_id\", \"item_id\", \"quality\"]"
   ]
  },
  {
   "cell_type": "code",
   "execution_count": 3,
   "id": "42a90d3c-7a94-4bcf-b09a-0f37c80abf83",
   "metadata": {},
   "outputs": [],
   "source": [
    "def read_review_data(path):\n",
    "    def convert_json(json_string):\n",
    "        try:\n",
    "            return json.loads(json_string)\n",
    "        except ValueError:\n",
    "            return  \n",
    "    with gzip.open(path, 'r') as fin:                # 4. gzip\n",
    "        json_bytes = fin.read()                      # 3. bytes (i.e. UTF-8)\n",
    "        json_str = json_bytes.decode('utf-8').split(\"\\n\")           # 2. string (i.e. JSON)\n",
    "        data = []\n",
    "        for elem in json_str:\n",
    "            tmp_elem = convert_json(elem)\n",
    "            if tmp_elem is None:\n",
    "                continue\n",
    "            data.append(tmp_elem)\n",
    "    return data"
   ]
  },
  {
   "cell_type": "code",
   "execution_count": 4,
   "id": "ea0a2583-30b3-4cb7-b87a-f4683dc791e8",
   "metadata": {},
   "outputs": [
    {
     "data": {
      "text/html": [
       "<div>\n",
       "<style scoped>\n",
       "    .dataframe tbody tr th:only-of-type {\n",
       "        vertical-align: middle;\n",
       "    }\n",
       "\n",
       "    .dataframe tbody tr th {\n",
       "        vertical-align: top;\n",
       "    }\n",
       "\n",
       "    .dataframe thead th {\n",
       "        text-align: right;\n",
       "    }\n",
       "</style>\n",
       "<table border=\"1\" class=\"dataframe\">\n",
       "  <thead>\n",
       "    <tr style=\"text-align: right;\">\n",
       "      <th></th>\n",
       "      <th>user_id</th>\n",
       "      <th>item_id</th>\n",
       "      <th>quality</th>\n",
       "    </tr>\n",
       "  </thead>\n",
       "  <tbody>\n",
       "    <tr>\n",
       "      <th>0</th>\n",
       "      <td>991571</td>\n",
       "      <td>123373</td>\n",
       "      <td>5.0</td>\n",
       "    </tr>\n",
       "    <tr>\n",
       "      <th>1</th>\n",
       "      <td>587883</td>\n",
       "      <td>123373</td>\n",
       "      <td>3.0</td>\n",
       "    </tr>\n",
       "    <tr>\n",
       "      <th>2</th>\n",
       "      <td>395665</td>\n",
       "      <td>123373</td>\n",
       "      <td>2.0</td>\n",
       "    </tr>\n",
       "    <tr>\n",
       "      <th>3</th>\n",
       "      <td>875643</td>\n",
       "      <td>123373</td>\n",
       "      <td>5.0</td>\n",
       "    </tr>\n",
       "    <tr>\n",
       "      <th>4</th>\n",
       "      <td>944840</td>\n",
       "      <td>123373</td>\n",
       "      <td>5.0</td>\n",
       "    </tr>\n",
       "    <tr>\n",
       "      <th>...</th>\n",
       "      <td>...</td>\n",
       "      <td>...</td>\n",
       "      <td>...</td>\n",
       "    </tr>\n",
       "    <tr>\n",
       "      <th>82785</th>\n",
       "      <td>727820</td>\n",
       "      <td>807722</td>\n",
       "      <td>4.0</td>\n",
       "    </tr>\n",
       "    <tr>\n",
       "      <th>82786</th>\n",
       "      <td>197040</td>\n",
       "      <td>807722</td>\n",
       "      <td>5.0</td>\n",
       "    </tr>\n",
       "    <tr>\n",
       "      <th>82787</th>\n",
       "      <td>102493</td>\n",
       "      <td>807722</td>\n",
       "      <td>5.0</td>\n",
       "    </tr>\n",
       "    <tr>\n",
       "      <th>82788</th>\n",
       "      <td>756491</td>\n",
       "      <td>807722</td>\n",
       "      <td>4.0</td>\n",
       "    </tr>\n",
       "    <tr>\n",
       "      <th>82789</th>\n",
       "      <td>78305</td>\n",
       "      <td>807722</td>\n",
       "      <td>4.0</td>\n",
       "    </tr>\n",
       "  </tbody>\n",
       "</table>\n",
       "<p>82790 rows × 3 columns</p>\n",
       "</div>"
      ],
      "text/plain": [
       "      user_id item_id  quality\n",
       "0      991571  123373      5.0\n",
       "1      587883  123373      3.0\n",
       "2      395665  123373      2.0\n",
       "3      875643  123373      5.0\n",
       "4      944840  123373      5.0\n",
       "...       ...     ...      ...\n",
       "82785  727820  807722      4.0\n",
       "82786  197040  807722      5.0\n",
       "82787  102493  807722      5.0\n",
       "82788  756491  807722      4.0\n",
       "82789   78305  807722      4.0\n",
       "\n",
       "[82790 rows x 3 columns]"
      ]
     },
     "execution_count": 4,
     "metadata": {},
     "output_type": "execute_result"
    }
   ],
   "source": [
    "modcloth_data = pd.DataFrame(read_review_data(modcloth_path))\n",
    "modcloth_data = modcloth_data[COLS]\n",
    "modcloth_data"
   ]
  },
  {
   "cell_type": "code",
   "execution_count": 5,
   "id": "a0124b43-6e48-4f93-b24d-ccb9ae63c6f9",
   "metadata": {},
   "outputs": [
    {
     "name": "stderr",
     "output_type": "stream",
     "text": [
      "C:\\Users\\tanch\\AppData\\Local\\Temp\\ipykernel_21304\\2361822535.py:2: SettingWithCopyWarning: \n",
      "A value is trying to be set on a copy of a slice from a DataFrame.\n",
      "Try using .loc[row_indexer,col_indexer] = value instead\n",
      "\n",
      "See the caveats in the documentation: https://pandas.pydata.org/pandas-docs/stable/user_guide/indexing.html#returning-a-view-versus-a-copy\n",
      "  modcloth_data['rating'] = 1\n"
     ]
    }
   ],
   "source": [
    "modcloth_data = modcloth_data[modcloth_data.quality>=3]\n",
    "modcloth_data['rating'] = 1"
   ]
  },
  {
   "cell_type": "markdown",
   "id": "aa2babf3-0f48-42f6-9dab-629982d2c454",
   "metadata": {
    "tags": []
   },
   "source": [
    "### data preparation\n",
    "- preparation for cf training"
   ]
  },
  {
   "cell_type": "code",
   "execution_count": 6,
   "id": "1be77922-0ca8-4bbb-b20c-ac71cd04526f",
   "metadata": {},
   "outputs": [],
   "source": [
    "COLS = [\"user_id\", \"item_id\", \"rating\"]\n",
    "COL_USER, COL_ITEM = \"user_id\", \"item_id\"\n",
    "COL_RATING = \"rating\"\n",
    "# COL_TIMESTAMP = \"review_date\"\n",
    "SPLIT_RATIO = 0.75\n",
    "SEED = 0 \n",
    "MIN_INTERACTIONS = 5\n",
    "TOP_K = 10\n",
    "BATCH_SIZE = 1024"
   ]
  },
  {
   "cell_type": "code",
   "execution_count": 7,
   "id": "65b09799-3228-49cf-97ba-c2d6a51cec6b",
   "metadata": {},
   "outputs": [],
   "source": [
    "def clean(df, cols, min_interactions, drop_cold_users = True, drop_cold_items = False):\n",
    "    output_df = df.copy()\n",
    "    \n",
    "    # cleaning\n",
    "    output_df = output_df.drop_duplicates(subset = [COL_USER, COL_ITEM])\n",
    "    output_df[COL_RATING] = output_df[COL_RATING].apply(lambda rating: 1 if rating is None else rating)\n",
    "    # output_df[COL_RATING] = output_df[COL_RATING].astype(int)\n",
    "    \n",
    "    # find warm items and users\n",
    "    item_counts = output_df[COL_ITEM].value_counts()\n",
    "    warm_items = item_counts[item_counts>=min_interactions]\n",
    "    user_counts = output_df[COL_USER].value_counts()\n",
    "    warm_users = user_counts[user_counts>=min_interactions]\n",
    "    \n",
    "    # keep only warm items and users\n",
    "    if drop_cold_users:\n",
    "        output_df = output_df[output_df[COL_USER].isin(warm_users.index)]\n",
    "    if drop_cold_items:\n",
    "        output_df = output_df[output_df[COL_ITEM].isin(warm_items.index)]\n",
    "            \n",
    "    return output_df"
   ]
  },
  {
   "cell_type": "code",
   "execution_count": 8,
   "id": "cbaa13f8-9d88-4fe5-995d-e3c096b98c3e",
   "metadata": {},
   "outputs": [],
   "source": [
    "modcloth_data_reduced = clean(modcloth_data, cols = COLS, min_interactions = MIN_INTERACTIONS)"
   ]
  },
  {
   "cell_type": "code",
   "execution_count": 9,
   "id": "fe35c9bf-b575-4da8-91ff-6c7351ca1ddf",
   "metadata": {},
   "outputs": [
    {
     "name": "stdout",
     "output_type": "stream",
     "text": [
      "\n",
      "    Reduced Data:\n",
      "    Total Ratings: 14154\n",
      "    Unique Users: 2010\n",
      "    Unique Items: 606\n",
      "\n",
      "    Original Data:\n",
      "    Total Ratings: 76248\n",
      "    Unique Users: 45291\n",
      "    Unique Items: 1336\n",
      "    \n"
     ]
    }
   ],
   "source": [
    "print(\"\"\"\n",
    "    Reduced Data:\n",
    "    Total Ratings: {train_total}\n",
    "    Unique Users: {train_users}\n",
    "    Unique Items: {train_items}\n",
    "\n",
    "    Original Data:\n",
    "    Total Ratings: {test_total}\n",
    "    Unique Users: {test_users}\n",
    "    Unique Items: {test_items}\n",
    "    \"\"\".format(\n",
    "        train_total=len(modcloth_data_reduced),\n",
    "        train_users=len(modcloth_data_reduced[COL_USER].unique()),\n",
    "        train_items=len(modcloth_data_reduced[COL_ITEM].unique()),\n",
    "        test_total=len(modcloth_data),\n",
    "        test_users=len(modcloth_data[COL_USER].unique()),\n",
    "        test_items=len(modcloth_data[COL_ITEM].unique()),\n",
    "))"
   ]
  },
  {
   "cell_type": "code",
   "execution_count": 10,
   "id": "4587aea0-6f9f-439b-91f7-460ce0b8651e",
   "metadata": {},
   "outputs": [],
   "source": [
    "train, test = python_stratified_split(modcloth_data_reduced, ratio=SPLIT_RATIO,\n",
    "                                      min_rating=1, filter_by='user', \n",
    "                                      col_user=COL_USER, col_item=COL_ITEM, \n",
    "                                      seed=SEED)"
   ]
  },
  {
   "cell_type": "code",
   "execution_count": 11,
   "id": "991a1783-f13d-4025-bc60-0c7145f96b46",
   "metadata": {},
   "outputs": [
    {
     "name": "stdout",
     "output_type": "stream",
     "text": [
      "\n",
      "    Train Data:\n",
      "    Total Ratings: 10565\n",
      "    Unique Users: 2010\n",
      "    Unique Items: 543\n",
      "\n",
      "    Test Data:\n",
      "    Total Ratings: 3589\n",
      "    Unique Users: 2010\n",
      "    Unique Items: 387\n",
      "    \n"
     ]
    }
   ],
   "source": [
    "print(\"\"\"\n",
    "    Train Data:\n",
    "    Total Ratings: {train_total}\n",
    "    Unique Users: {train_users}\n",
    "    Unique Items: {train_items}\n",
    "\n",
    "    Test Data:\n",
    "    Total Ratings: {test_total}\n",
    "    Unique Users: {test_users}\n",
    "    Unique Items: {test_items}\n",
    "    \"\"\".format(\n",
    "        train_total=len(train),\n",
    "        train_users=len(train[COL_USER].unique()),\n",
    "        train_items=len(train[COL_ITEM].unique()),\n",
    "        test_total=len(test),\n",
    "        test_users=len(test[COL_USER].unique()),\n",
    "        test_items=len(test[COL_ITEM].unique()),\n",
    "))"
   ]
  },
  {
   "cell_type": "markdown",
   "id": "b3c0aaf9-3d61-4f0f-831f-37692da47384",
   "metadata": {},
   "source": [
    "## Model Training and Evaluation: SAR"
   ]
  },
  {
   "cell_type": "code",
   "execution_count": 12,
   "id": "47cdc4bf-754f-4b1e-a1cc-ef89d7ff9408",
   "metadata": {
    "tags": []
   },
   "outputs": [],
   "source": [
    "# Similarity types: [\"cooccurrence\" | \"cosine\" | \"inclusion index\" | \"jaccard\" | \"lift\" | \"mutual information\" | \"lexicographers mutual information\"]\n",
    "model_sar = SAR(\n",
    "    col_user=COL_USER,\n",
    "    col_item=COL_ITEM,\n",
    "    col_rating=COL_RATING,\n",
    "    # col_timestamp=COL_TIMESTAMP,\n",
    "    similarity_type=\"jaccard\", \n",
    "    time_decay_coefficient=30, \n",
    "    timedecay_formula=False,\n",
    "    normalize=False\n",
    ")"
   ]
  },
  {
   "cell_type": "code",
   "execution_count": 13,
   "id": "41c33d5a-9dc9-4226-b521-ba32fec80f78",
   "metadata": {},
   "outputs": [],
   "source": [
    "# with Timer() as train_time:\n",
    "model_sar.fit(train)"
   ]
  },
  {
   "cell_type": "code",
   "execution_count": 14,
   "id": "e9e8632e-3695-4706-81d3-662f48e9a192",
   "metadata": {},
   "outputs": [
    {
     "data": {
      "text/plain": [
       "0.04263681592039801"
      ]
     },
     "execution_count": 14,
     "metadata": {},
     "output_type": "execute_result"
    }
   ],
   "source": [
    "top_k = model_sar.recommend_k_items(test, top_k=TOP_K, remove_seen=True)\n",
    "eval_precision = precision_at_k(test, top_k, col_user=COL_USER, col_item=COL_ITEM, col_rating=COL_RATING, k=TOP_K)\n",
    "eval_precision     "
   ]
  },
  {
   "cell_type": "code",
   "execution_count": 17,
   "id": "af67794b-3543-4590-943c-92e0f99223cb",
   "metadata": {},
   "outputs": [],
   "source": [
    "def convert_numpy_keys_to_raw(d):\n",
    "    \"\"\"\n",
    "    Helper function to convert numpy keys in a dictionary to raw values\n",
    "    \"\"\"\n",
    "    non_numpy_keys = list(map(int,d.keys()))\n",
    "    non_numpy_values = list(map(int,d.values()))\n",
    "    \n",
    "    return dict(zip(non_numpy_keys,non_numpy_values))\n",
    "def save_sar(model, directory, model_name):\n",
    "    model_directory = os.path.join(directory, model_name)\n",
    "    os.makedirs(model_directory, exist_ok=True)\n",
    "    save_npz(file = os.path.join(model_directory, \"sar_user_affinity.npz\"), \n",
    "             matrix = model.user_affinity, \n",
    "             compressed=True)\n",
    "    save(file = os.path.join(model_directory, \"sar_item_similarity.npy\"),\n",
    "         arr = model.item_similarity)\n",
    "    with open(os.path.join(model_directory, \"sar_user2index.json\"), \"w\") as f:\n",
    "        json.dump(convert_numpy_keys_to_raw(model.user2index), f)\n",
    "    with open(os.path.join(model_directory, \"sar_index2item.json\"), \"w\") as f:\n",
    "        json.dump(convert_numpy_keys_to_raw(model.index2item), f)\n",
    "        \n",
    "def sar_load(model, directory):\n",
    "    model.user_affinity = load_npz(file = os.path.join(directory,\"sar_user_affinity.npz\"))\n",
    "    model.item_similarity = load(file = os.path.join(directory,\"sar_item_similarity.npy\"))\n",
    "    with open(os.path.join(directory,\"sar_index2item.json\"), \"r\") as f:\n",
    "        tmp_dict =  json.load(f)\n",
    "        model.index2item = {int(k):v for k,v in tmp_dict.items()}\n",
    "    with open(os.path.join(directory,\"sar_user2index.json\"), \"r\") as f:\n",
    "        tmp_dict = json.load(f)\n",
    "        model.user2index = {int(k):v for k,v in tmp_dict.items()}"
   ]
  },
  {
   "cell_type": "code",
   "execution_count": 18,
   "id": "7396b300-4f12-4aaf-a655-5c64aa59193f",
   "metadata": {},
   "outputs": [],
   "source": [
    "save_sar(model_sar, r\"C:\\Users\\tanch\\Documents\\NTU\\NTU Year 4\\FYP - GNN\\Recommender API\\deploy-fastapi-recommendation-system\\src\\api\\models\",\n",
    "         \"modcloth-sar\")"
   ]
  },
  {
   "cell_type": "markdown",
   "id": "c704f983-ae3d-4331-a1a3-b4d5f0f2247e",
   "metadata": {},
   "source": [
    "## Train and Evaluate: Popularity Recommender"
   ]
  },
  {
   "cell_type": "code",
   "execution_count": 65,
   "id": "0f0999ad-b6a4-4a3d-8f63-a8a433144736",
   "metadata": {},
   "outputs": [],
   "source": [
    "def construct_popular_predictions_table(test, model, top_k):\n",
    "    user_ids = test.user_id.unique()\n",
    "    popular_items = model.get_popularity_based_topk(top_k = top_k)\n",
    "    output = pd.DataFrame()\n",
    "    for user_id in user_ids:\n",
    "        popular_items[\"user_id\"] = user_id\n",
    "        output = pd.concat([output, popular_items], axis = 0)\n",
    "    return output"
   ]
  },
  {
   "cell_type": "code",
   "execution_count": 66,
   "id": "044122f1-d415-4e93-82ae-67fdcc42c8fd",
   "metadata": {},
   "outputs": [
    {
     "data": {
      "text/plain": [
       "0.02492537313432836"
      ]
     },
     "execution_count": 66,
     "metadata": {},
     "output_type": "execute_result"
    }
   ],
   "source": [
    "top_k = construct_popular_predictions_table(test = test, model = model_sar, top_k = TOP_K)\n",
    "eval_precision = precision_at_k(test, top_k, col_user=COL_USER, col_item=COL_ITEM, col_rating=COL_RATING, k=TOP_K)\n",
    "eval_precision  "
   ]
  },
  {
   "cell_type": "markdown",
   "id": "2a551efa-2eda-4efd-90fe-85a5150e8170",
   "metadata": {
    "tags": []
   },
   "source": [
    "## Train and Evaluate: LightGCN"
   ]
  },
  {
   "cell_type": "code",
   "execution_count": 12,
   "id": "b79ad182-ac2d-4347-9838-4e2c148ba959",
   "metadata": {},
   "outputs": [],
   "source": [
    "yaml_file = r\"C:\\Users\\tanch\\Documents\\NTU\\NTU Year 4\\FYP - GNN\\code1\\config\\lightgcn.yml\"\n",
    "save_model = True\n",
    "save_epoch = 50\n",
    "MODEL_DIR = r\"C:\\Users\\tanch\\Documents\\NTU\\NTU Year 4\\FYP - GNN\\models\""
   ]
  },
  {
   "cell_type": "code",
   "execution_count": 13,
   "id": "d81d24a3-84cc-4490-85dd-a470f8954987",
   "metadata": {},
   "outputs": [
    {
     "name": "stderr",
     "output_type": "stream",
     "text": [
      "C:\\Users\\tanch\\anaconda3\\envs\\fyp1\\lib\\site-packages\\recommenders\\models\\deeprec\\DataModel\\ImplicitCF.py:73: FutureWarning: The frame.append method is deprecated and will be removed from pandas in a future version. Use pandas.concat instead.\n",
      "  df = train if test is None else train.append(test)\n"
     ]
    }
   ],
   "source": [
    "data = ImplicitCF(train = train, test=test, \n",
    "                  adj_dir=None, \n",
    "                  col_user=COL_USER, col_item=COL_ITEM, \n",
    "                  col_rating = COL_RATING,\n",
    "                  seed=SEED)"
   ]
  },
  {
   "cell_type": "code",
   "execution_count": 14,
   "id": "c2565a4b-bec6-4adf-a5fd-5ebd0bedb8de",
   "metadata": {},
   "outputs": [],
   "source": [
    "loss_type = \"AmpBPR2\"\n",
    "# loss_type = \"OriginalBPR\"\n",
    "# loss_type = \"AmpBPR2\"\n",
    "loss_neg_weight = 1.5\n",
    "log_wandb = False"
   ]
  },
  {
   "cell_type": "code",
   "execution_count": 15,
   "id": "321fe572-82a4-4fd6-8194-49779f4a2bb3",
   "metadata": {
    "tags": []
   },
   "outputs": [
    {
     "name": "stdout",
     "output_type": "stream",
     "text": [
      "Already create adjacency matrix.\n",
      "Already normalize adjacency matrix.\n",
      "Using xavier initialization.\n",
      "Already create adjacency matrix.\n",
      "Already normalize adjacency matrix.\n",
      "Using xavier initialization.\n",
      "Already create adjacency matrix.\n",
      "Already normalize adjacency matrix.\n",
      "Using xavier initialization.\n"
     ]
    }
   ],
   "source": [
    "for i in range(3):\n",
    "    hparams = prepare_hparams(yaml_file,\n",
    "                                  n_layers=2,\n",
    "                                  loss_type = loss_type, \n",
    "                                  loss_neg_weight = loss_neg_weight, \n",
    "                                  log_wandb = log_wandb,\n",
    "                                  batch_size=BATCH_SIZE,\n",
    "                                  epochs=50,\n",
    "                                  learning_rate=0.005,\n",
    "                                  eval_epoch=1,\n",
    "                                  top_k=TOP_K,\n",
    "                                  COL_USER = COL_USER,\n",
    "                                  COL_ITEM = COL_ITEM,\n",
    "                                  COL_RATING = COL_RATING,\n",
    "                                  save_model = save_model,\n",
    "                                save_epoch = save_epoch,\n",
    "                                MODEL_DIR = MODEL_DIR\n",
    "                                  )\n",
    "    # initiate model\n",
    "    model = LightGCN(hparams, data, seed=SEED)"
   ]
  },
  {
   "cell_type": "code",
   "execution_count": 26,
   "id": "70b6a097-6739-4949-9536-b1315ca52931",
   "metadata": {
    "tags": []
   },
   "outputs": [
    {
     "name": "stdout",
     "output_type": "stream",
     "text": [
      "Epoch 1 (train)0.3s + (eval)0.1s: train loss = 0.69018 = (mf)0.69017 + (embed)0.00001, precision = 0.02493\n",
      "Epoch 2 (train)0.1s + (eval)0.0s: train loss = 0.67149 = (mf)0.67146 + (embed)0.00003, precision = 0.02692\n",
      "Epoch 3 (train)0.2s + (eval)0.0s: train loss = 0.60883 = (mf)0.60877 + (embed)0.00005, precision = 0.02607\n",
      "Epoch 4 (train)0.1s + (eval)0.0s: train loss = 0.50646 = (mf)0.50635 + (embed)0.00010, precision = 0.02562\n",
      "Epoch 5 (train)0.1s + (eval)0.1s: train loss = 0.42802 = (mf)0.42784 + (embed)0.00018, precision = 0.02498\n",
      "Epoch 6 (train)0.1s + (eval)0.0s: train loss = 0.39042 = (mf)0.39018 + (embed)0.00024, precision = 0.02463\n",
      "Epoch 7 (train)0.1s + (eval)0.0s: train loss = 0.38266 = (mf)0.38237 + (embed)0.00029, precision = 0.02507\n",
      "Epoch 8 (train)0.1s + (eval)0.0s: train loss = 0.37287 = (mf)0.37255 + (embed)0.00032, precision = 0.02587\n",
      "Epoch 9 (train)0.1s + (eval)0.0s: train loss = 0.35226 = (mf)0.35192 + (embed)0.00034, precision = 0.02672\n",
      "Epoch 10 (train)0.1s + (eval)0.0s: train loss = 0.34072 = (mf)0.34036 + (embed)0.00037, precision = 0.02756\n",
      "Epoch 11 (train)0.1s + (eval)0.0s: train loss = 0.33498 = (mf)0.33459 + (embed)0.00039, precision = 0.02846\n",
      "Epoch 12 (train)0.1s + (eval)0.0s: train loss = 0.32690 = (mf)0.32648 + (embed)0.00042, precision = 0.02965\n",
      "Epoch 13 (train)0.1s + (eval)0.1s: train loss = 0.31003 = (mf)0.30957 + (embed)0.00046, precision = 0.03065\n",
      "Epoch 14 (train)0.1s + (eval)0.1s: train loss = 0.29772 = (mf)0.29723 + (embed)0.00050, precision = 0.03114\n",
      "Epoch 15 (train)0.1s + (eval)0.0s: train loss = 0.28937 = (mf)0.28883 + (embed)0.00053, precision = 0.03149\n",
      "Epoch 16 (train)0.1s + (eval)0.0s: train loss = 0.26810 = (mf)0.26752 + (embed)0.00057, precision = 0.03239\n",
      "Epoch 17 (train)0.1s + (eval)0.1s: train loss = 0.25290 = (mf)0.25228 + (embed)0.00062, precision = 0.03284\n",
      "Epoch 18 (train)0.1s + (eval)0.0s: train loss = 0.24817 = (mf)0.24750 + (embed)0.00067, precision = 0.03373\n",
      "Epoch 19 (train)0.1s + (eval)0.0s: train loss = 0.23186 = (mf)0.23115 + (embed)0.00071, precision = 0.03453\n",
      "Epoch 20 (train)0.1s + (eval)0.0s: train loss = 0.22786 = (mf)0.22710 + (embed)0.00076, precision = 0.03517\n",
      "Epoch 21 (train)0.1s + (eval)0.1s: train loss = 0.21463 = (mf)0.21382 + (embed)0.00081, precision = 0.03537\n",
      "Epoch 22 (train)0.1s + (eval)0.1s: train loss = 0.20489 = (mf)0.20403 + (embed)0.00086, precision = 0.03602\n",
      "Epoch 23 (train)0.1s + (eval)0.0s: train loss = 0.19031 = (mf)0.18940 + (embed)0.00090, precision = 0.03607\n",
      "Epoch 24 (train)0.1s + (eval)0.0s: train loss = 0.19307 = (mf)0.19213 + (embed)0.00095, precision = 0.03602\n",
      "Epoch 25 (train)0.1s + (eval)0.0s: train loss = 0.17890 = (mf)0.17791 + (embed)0.00100, precision = 0.03627\n",
      "Epoch 26 (train)0.1s + (eval)0.0s: train loss = 0.17636 = (mf)0.17531 + (embed)0.00104, precision = 0.03672\n",
      "Epoch 27 (train)0.1s + (eval)0.0s: train loss = 0.16668 = (mf)0.16559 + (embed)0.00109, precision = 0.03667\n",
      "Epoch 28 (train)0.1s + (eval)0.0s: train loss = 0.15971 = (mf)0.15858 + (embed)0.00114, precision = 0.03642\n",
      "Epoch 29 (train)0.1s + (eval)0.1s: train loss = 0.15078 = (mf)0.14960 + (embed)0.00118, precision = 0.03652\n",
      "Epoch 30 (train)0.1s + (eval)0.0s: train loss = 0.14078 = (mf)0.13956 + (embed)0.00123, precision = 0.03682\n",
      "Epoch 31 (train)0.1s + (eval)0.1s: train loss = 0.14639 = (mf)0.14512 + (embed)0.00127, precision = 0.03711\n",
      "Epoch 32 (train)0.1s + (eval)0.0s: train loss = 0.13702 = (mf)0.13570 + (embed)0.00132, precision = 0.03731\n",
      "Epoch 33 (train)0.1s + (eval)0.0s: train loss = 0.13852 = (mf)0.13716 + (embed)0.00136, precision = 0.03746\n",
      "Epoch 34 (train)0.1s + (eval)0.1s: train loss = 0.12223 = (mf)0.12082 + (embed)0.00140, precision = 0.03736\n",
      "Epoch 35 (train)0.1s + (eval)0.0s: train loss = 0.11929 = (mf)0.11784 + (embed)0.00145, precision = 0.03701\n",
      "Epoch 36 (train)0.1s + (eval)0.0s: train loss = 0.12414 = (mf)0.12265 + (embed)0.00149, precision = 0.03751\n",
      "Epoch 37 (train)0.1s + (eval)0.0s: train loss = 0.11409 = (mf)0.11256 + (embed)0.00153, precision = 0.03746\n",
      "Epoch 38 (train)0.1s + (eval)0.0s: train loss = 0.10763 = (mf)0.10606 + (embed)0.00157, precision = 0.03776\n",
      "Epoch 39 (train)0.1s + (eval)0.0s: train loss = 0.10978 = (mf)0.10817 + (embed)0.00161, precision = 0.03791\n",
      "Epoch 40 (train)0.1s + (eval)0.1s: train loss = 0.10754 = (mf)0.10589 + (embed)0.00165, precision = 0.03766\n",
      "Epoch 41 (train)0.1s + (eval)0.0s: train loss = 0.10343 = (mf)0.10174 + (embed)0.00169, precision = 0.03786\n",
      "Epoch 42 (train)0.1s + (eval)0.1s: train loss = 0.09642 = (mf)0.09469 + (embed)0.00173, precision = 0.03771\n",
      "Epoch 43 (train)0.1s + (eval)0.0s: train loss = 0.09854 = (mf)0.09677 + (embed)0.00176, precision = 0.03766\n",
      "Epoch 44 (train)0.1s + (eval)0.0s: train loss = 0.09437 = (mf)0.09257 + (embed)0.00180, precision = 0.03786\n",
      "Epoch 45 (train)0.1s + (eval)0.0s: train loss = 0.09458 = (mf)0.09274 + (embed)0.00184, precision = 0.03791\n",
      "Epoch 46 (train)0.1s + (eval)0.1s: train loss = 0.08998 = (mf)0.08811 + (embed)0.00188, precision = 0.03816\n",
      "Epoch 47 (train)0.1s + (eval)0.1s: train loss = 0.08343 = (mf)0.08153 + (embed)0.00191, precision = 0.03811\n",
      "Epoch 48 (train)0.1s + (eval)0.1s: train loss = 0.08685 = (mf)0.08490 + (embed)0.00194, precision = 0.03781\n",
      "Epoch 49 (train)0.1s + (eval)0.1s: train loss = 0.08423 = (mf)0.08225 + (embed)0.00198, precision = 0.03776\n",
      "Save model to path C:\\Users\\tanch\\Documents\\NTU\\NTU Year 4\\FYP - GNN\\models\\epoch_50\n",
      "Epoch 50 (train)0.1s + (eval)0.0s: train loss = 0.08012 = (mf)0.07810 + (embed)0.00202, precision = 0.03786\n"
     ]
    }
   ],
   "source": [
    "model.fit()"
   ]
  },
  {
   "cell_type": "markdown",
   "id": "2fa99f68-462d-43d8-9a60-77e2dba307b3",
   "metadata": {},
   "source": [
    "## Comparison\n",
    "- Similarities with ML100k:\n",
    "    - Both SAR and LightGCN improves on Populairty recommender\n",
    "    \n",
    "- Differences with ML100k:\n",
    "    - SAR performed better than LightGCN\n",
    "\n",
    "- What we can learn is that both **CF recommenders can improve upon Simple Popularity recommendation**. That means that, if popularity recommendation achieves a score of 0.2 precision@10, we can expect the CF recommenders to improve to let's say 0.25~. But if popularity recommendation achieves a score of only 0.02, then we can expect CF recommenders to improve performances to say only 0.03. **Depending on the type and size of datasets, we can expect vastly different performances**. It is inconclusive as to whether SAR or LightGCN performs better, **different algorithms perform differently depending on the dataset**"
   ]
  },
  {
   "cell_type": "code",
   "execution_count": 32,
   "id": "da1b486f-7a31-4916-a756-3ff8593df36e",
   "metadata": {},
   "outputs": [],
   "source": [
    "import seaborn as sb"
   ]
  },
  {
   "cell_type": "code",
   "execution_count": 33,
   "id": "c1f8b4bd-8cf2-445c-b89d-5596f17c87e7",
   "metadata": {},
   "outputs": [],
   "source": [
    "precison_tmp = {\n",
    "    \"LightGCN\":0.03816, \n",
    "    \"SAR\":0.042637,\n",
    "    \"Popularity\":0.02493\n",
    "}   "
   ]
  },
  {
   "cell_type": "code",
   "execution_count": 34,
   "id": "fb5338b5-cbc2-48ac-99cb-662bbb1c5767",
   "metadata": {},
   "outputs": [
    {
     "data": {
      "text/plain": [
       "[Text(0.5, 0, 'Precision@10')]"
      ]
     },
     "execution_count": 34,
     "metadata": {},
     "output_type": "execute_result"
    },
    {
     "data": {
      "image/png": "[encoded data removed]",
      "text/plain": [
       "<Figure size 640x480 with 1 Axes>"
      ]
     },
     "metadata": {},
     "output_type": "display_data"
    }
   ],
   "source": [
    "p = sb.barplot(x = list(precison_tmp.values()),y = list(precison_tmp.keys()), palette = \"Accent\")\n",
    "p.set(xlabel = \"Precision@10\")"
   ]
  },
  {
   "cell_type": "markdown",
   "id": "dd9a52d6-2131-4ee0-aeef-1a374b7e17fb",
   "metadata": {
    "tags": []
   },
   "source": [
    "## load and predict"
   ]
  },
  {
   "cell_type": "code",
   "execution_count": 17,
   "id": "3b597a3b-7713-497c-bcd1-c158944d7921",
   "metadata": {
    "tags": []
   },
   "outputs": [
    {
     "name": "stdout",
     "output_type": "stream",
     "text": [
      "INFO:tensorflow:Restoring parameters from C:\\Users\\tanch\\Documents\\NTU\\NTU Year 4\\FYP - GNN\\Recommender API\\models\\epoch_50\n"
     ]
    },
    {
     "data": {
      "text/plain": [
       "0.03786069651741293"
      ]
     },
     "execution_count": 17,
     "metadata": {},
     "output_type": "execute_result"
    }
   ],
   "source": [
    "save_path_str = r\"C:\\Users\\tanch\\Documents\\NTU\\NTU Year 4\\FYP - GNN\\Recommender API\\models\\epoch_50\"\n",
    "model.load(save_path_str)\n",
    "top_k = model.recommend_k_items(test, top_k=TOP_K, remove_seen=True)\n",
    "eval_precision = precision_at_k(test, top_k, col_user=COL_USER, col_item=COL_ITEM, col_rating=COL_RATING, k=TOP_K)\n",
    "eval_precision     "
   ]
  },
  {
   "cell_type": "code",
   "execution_count": 18,
   "id": "24b89f78-a7a4-4690-b888-abb867372b79",
   "metadata": {
    "tags": []
   },
   "outputs": [
    {
     "data": {
      "text/html": [
       "<div>\n",
       "<style scoped>\n",
       "    .dataframe tbody tr th:only-of-type {\n",
       "        vertical-align: middle;\n",
       "    }\n",
       "\n",
       "    .dataframe tbody tr th {\n",
       "        vertical-align: top;\n",
       "    }\n",
       "\n",
       "    .dataframe thead th {\n",
       "        text-align: right;\n",
       "    }\n",
       "</style>\n",
       "<table border=\"1\" class=\"dataframe\">\n",
       "  <thead>\n",
       "    <tr style=\"text-align: right;\">\n",
       "      <th></th>\n",
       "      <th>user_id</th>\n",
       "      <th>item_id</th>\n",
       "      <th>prediction</th>\n",
       "    </tr>\n",
       "  </thead>\n",
       "  <tbody>\n",
       "    <tr>\n",
       "      <th>0</th>\n",
       "      <td>999697</td>\n",
       "      <td>645822</td>\n",
       "      <td>3.555731</td>\n",
       "    </tr>\n",
       "    <tr>\n",
       "      <th>1</th>\n",
       "      <td>999697</td>\n",
       "      <td>412737</td>\n",
       "      <td>3.384269</td>\n",
       "    </tr>\n",
       "    <tr>\n",
       "      <th>2</th>\n",
       "      <td>999697</td>\n",
       "      <td>391519</td>\n",
       "      <td>2.968252</td>\n",
       "    </tr>\n",
       "    <tr>\n",
       "      <th>3</th>\n",
       "      <td>999697</td>\n",
       "      <td>401773</td>\n",
       "      <td>2.734417</td>\n",
       "    </tr>\n",
       "    <tr>\n",
       "      <th>4</th>\n",
       "      <td>999697</td>\n",
       "      <td>200824</td>\n",
       "      <td>2.700134</td>\n",
       "    </tr>\n",
       "    <tr>\n",
       "      <th>5</th>\n",
       "      <td>999697</td>\n",
       "      <td>486643</td>\n",
       "      <td>2.668071</td>\n",
       "    </tr>\n",
       "    <tr>\n",
       "      <th>6</th>\n",
       "      <td>999697</td>\n",
       "      <td>539980</td>\n",
       "      <td>2.380388</td>\n",
       "    </tr>\n",
       "    <tr>\n",
       "      <th>7</th>\n",
       "      <td>999697</td>\n",
       "      <td>406357</td>\n",
       "      <td>2.226636</td>\n",
       "    </tr>\n",
       "    <tr>\n",
       "      <th>8</th>\n",
       "      <td>999697</td>\n",
       "      <td>175771</td>\n",
       "      <td>2.195363</td>\n",
       "    </tr>\n",
       "    <tr>\n",
       "      <th>9</th>\n",
       "      <td>999697</td>\n",
       "      <td>654585</td>\n",
       "      <td>2.061988</td>\n",
       "    </tr>\n",
       "  </tbody>\n",
       "</table>\n",
       "</div>"
      ],
      "text/plain": [
       "  user_id item_id  prediction\n",
       "0  999697  645822    3.555731\n",
       "1  999697  412737    3.384269\n",
       "2  999697  391519    2.968252\n",
       "3  999697  401773    2.734417\n",
       "4  999697  200824    2.700134\n",
       "5  999697  486643    2.668071\n",
       "6  999697  539980    2.380388\n",
       "7  999697  406357    2.226636\n",
       "8  999697  175771    2.195363\n",
       "9  999697  654585    2.061988"
      ]
     },
     "execution_count": 18,
     "metadata": {},
     "output_type": "execute_result"
    }
   ],
   "source": [
    "model.recommend_k_items(pd.DataFrame({\"user_id\":[\"999697\"]}), top_k=TOP_K, remove_seen=True)"
   ]
  },
  {
   "cell_type": "code",
   "execution_count": 17,
   "id": "d70997ef-becf-4c4e-8180-47adfb6e1270",
   "metadata": {},
   "outputs": [],
   "source": [
    "path = r\"C:\\Users\\tanch\\Documents\\NTU\\NTU Year 4\\FYP - GNN\\Recommender API\\data\\train.pkl\"\n",
    "train.to_pickle(path)\n",
    "path = r\"C:\\Users\\tanch\\Documents\\NTU\\NTU Year 4\\FYP - GNN\\Recommender API\\data\\test.pkl\"\n",
    "test.to_pickle(path)"
   ]
  },
  {
   "cell_type": "markdown",
   "id": "e81fd806-989a-4376-843c-b3e42263aa16",
   "metadata": {},
   "source": [
    "<!-- ## Train and Evaluate: Popularity Recommender -->"
   ]
  },
  {
   "cell_type": "code",
   "execution_count": 112,
   "id": "2ee384af-8dfc-430f-8c10-bfded0c3a0b8",
   "metadata": {},
   "outputs": [],
   "source": [
    "# class PopRecommender():\n",
    "#     def __init__(self, COL_ITEM = \"itemID\", COL_USER = \"userID\"):\n",
    "#         self.COL_ITEM = COL_ITEM\n",
    "#         self.COL_USER = COL_USER\n",
    "#     def fit(self, train):\n",
    "#         self.train = train\n",
    "#         self.memory = train[COL_ITEM].value_counts().keys().tolist()\n",
    "#     def recommend(self, user_id, num_rec = 20, filtered_item_ids = [], remove_seen = True):\n",
    "#         if remove_seen:\n",
    "#             remove_item_ids = self._get_user_liked_item_ids(user_id)\n",
    "#             remove_item_ids += filtered_item_ids\n",
    "        \n",
    "#         # recommend num_rec items\n",
    "#         rec_items = []\n",
    "#         count = 0\n",
    "#         for item_id in self.memory:\n",
    "#             if item_id not in filtered_item_ids: \n",
    "#                 count+=1\n",
    "#                 rec_items.append(item_id)\n",
    "#             if count >= num_rec:\n",
    "#                 break\n",
    "#         return rec_items\n",
    "    \n",
    "#     def recommend_k_items(self, test, top_k=10, remove_seen=True):\n",
    "#         output = pd.DataFrame()\n",
    "#         for userID in test[self.COL_USER]:\n",
    "#             rec_items = self.recommend(userID, num_rec = top_k, remove_seen = remove_seen)\n",
    "#             tmp = pd.DataFrame(rec_items, columns = [self.COL_ITEM])\n",
    "#             tmp[self.COL_USER] = userID\n",
    "#             output = pd.concat([output, tmp], axis = 0)\n",
    "#         output[\"prediction\"] = 1\n",
    "#         return output\n",
    "#     def _get_user_liked_item_ids(self, user_id):\n",
    "#         return self.train[self.train[self.COL_USER] == user_id][self.COL_ITEM].tolist()"
   ]
  },
  {
   "cell_type": "code",
   "execution_count": 113,
   "id": "9a0ffd29-0bea-44f9-98a6-c47f9297eff3",
   "metadata": {},
   "outputs": [],
   "source": [
    "# rec = PopRecommender(COL_ITEM = COL_ITEM, COL_USER = COL_USER)\n",
    "# rec.fit(train)\n",
    "# top_k = rec.recommend_k_items(test, top_k = TOP_K, remove_seen = True)\n",
    "# eval_precision = precision_at_k(test, top_k, col_user=COL_USER, col_item=COL_ITEM, col_rating='rating', k=TOP_K)\n",
    "# eval_precision"
   ]
  }
 ],
 "metadata": {
  "kernelspec": {
   "display_name": "Python 3 (ipykernel)",
   "language": "python",
   "name": "python3"
  },
  "language_info": {
   "codemirror_mode": {
    "name": "ipython",
    "version": 3
   },
   "file_extension": ".py",
   "mimetype": "text/x-python",
   "name": "python",
   "nbconvert_exporter": "python",
   "pygments_lexer": "ipython3",
   "version": "3.9.15"
  }
 },
 "nbformat": 4,
 "nbformat_minor": 5
}
