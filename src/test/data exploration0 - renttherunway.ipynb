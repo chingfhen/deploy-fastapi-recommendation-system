{
 "cells": [
  {
   "cell_type": "markdown",
   "id": "1e9a4a17-c0d2-48bf-8d03-5e95fcb02569",
   "metadata": {},
   "source": [
    "# ABOUT:\n",
    "- this notebook explores **renttherunway Dataset** from RecSys Dataset repository (repository of recommender system datasets)\n",
    "- insight:\n",
    "    - it is as expected that, **many items and users are cold** \n",
    "        - i will exclude all cold items and users from training of CF recommenders\n",
    "        - for these cold items and users, i will likely build an alternative feature so that they can still be recommended in the recommendation system\n",
    "    - there isn't images available, so likely i would simulate images using Deep Fashion Multi Modal Dataset because i want to be able to show images when the recommendations are made"
   ]
  },
  {
   "cell_type": "code",
   "execution_count": 5,
   "id": "38264a1e-b24b-41c9-83d0-f95a821df86c",
   "metadata": {},
   "outputs": [],
   "source": [
    "import gzip\n",
    "import json\n",
    "import pandas as pd\n",
    "import seaborn as sb"
   ]
  },
  {
   "cell_type": "markdown",
   "id": "6e390cb9-e8e9-4585-bc4f-ba79204a14b8",
   "metadata": {
    "jp-MarkdownHeadingCollapsed": true,
    "tags": []
   },
   "source": [
    "### read data"
   ]
  },
  {
   "cell_type": "code",
   "execution_count": 2,
   "id": "10ea937c-e403-4a96-a876-f41526bc774f",
   "metadata": {},
   "outputs": [],
   "source": [
    "renttherunway_path = r\"C:\\Users\\tanch\\Documents\\NTU\\NTU Year 4\\FYP - GNN\\data\\RecSys Datasets\\renttherunway_final_data.json.gz\"\n",
    "RUNWAY_COLS = [\"user_id\", \"item_id\", \"rating\", \"review_date\", \"review_summary\", \"review_text\", \"rented for\", \"category\", \"body type\"]"
   ]
  },
  {
   "cell_type": "code",
   "execution_count": 3,
   "id": "8f2afc12-0102-40cb-8d29-7b88706fd55c",
   "metadata": {},
   "outputs": [],
   "source": [
    "def read_review_data(path):\n",
    "    def convert_json(json_string):\n",
    "        try:\n",
    "            return json.loads(json_string)\n",
    "        except ValueError:\n",
    "            return  \n",
    "    with gzip.open(path, 'r') as fin:                # 4. gzip\n",
    "        json_bytes = fin.read()                      # 3. bytes (i.e. UTF-8)\n",
    "        json_str = json_bytes.decode('utf-8').split(\"\\n\")           # 2. string (i.e. JSON)\n",
    "        data = []\n",
    "        for elem in json_str:\n",
    "            tmp_elem = convert_json(elem)\n",
    "            if tmp_elem is None:\n",
    "                continue\n",
    "            data.append(tmp_elem)\n",
    "    return data"
   ]
  },
  {
   "cell_type": "code",
   "execution_count": 6,
   "id": "2b35e079-cd15-4225-afaa-3da375ba56d0",
   "metadata": {},
   "outputs": [],
   "source": [
    "renttherunway_data = pd.DataFrame(read_review_data(renttherunway_path))\n",
    "renttherunway_data = renttherunway_data[RUNWAY_COLS]"
   ]
  },
  {
   "cell_type": "code",
   "execution_count": 68,
   "id": "91fb1f21-7711-452a-8c90-c39c568554bd",
   "metadata": {},
   "outputs": [
    {
     "data": {
      "text/html": [
       "<div>\n",
       "<style scoped>\n",
       "    .dataframe tbody tr th:only-of-type {\n",
       "        vertical-align: middle;\n",
       "    }\n",
       "\n",
       "    .dataframe tbody tr th {\n",
       "        vertical-align: top;\n",
       "    }\n",
       "\n",
       "    .dataframe thead th {\n",
       "        text-align: right;\n",
       "    }\n",
       "</style>\n",
       "<table border=\"1\" class=\"dataframe\">\n",
       "  <thead>\n",
       "    <tr style=\"text-align: right;\">\n",
       "      <th></th>\n",
       "      <th>user_id</th>\n",
       "      <th>item_id</th>\n",
       "      <th>rating</th>\n",
       "      <th>review_date</th>\n",
       "      <th>review_summary</th>\n",
       "      <th>review_text</th>\n",
       "      <th>rented for</th>\n",
       "      <th>category</th>\n",
       "      <th>body type</th>\n",
       "    </tr>\n",
       "  </thead>\n",
       "  <tbody>\n",
       "    <tr>\n",
       "      <th>0</th>\n",
       "      <td>420272</td>\n",
       "      <td>2260466</td>\n",
       "      <td>10</td>\n",
       "      <td>April 20, 2016</td>\n",
       "      <td>So many compliments!</td>\n",
       "      <td>An adorable romper! Belt and zipper were a lit...</td>\n",
       "      <td>vacation</td>\n",
       "      <td>romper</td>\n",
       "      <td>hourglass</td>\n",
       "    </tr>\n",
       "    <tr>\n",
       "      <th>1</th>\n",
       "      <td>273551</td>\n",
       "      <td>153475</td>\n",
       "      <td>10</td>\n",
       "      <td>June 18, 2013</td>\n",
       "      <td>I felt so glamourous!!!</td>\n",
       "      <td>I rented this dress for a photo shoot. The the...</td>\n",
       "      <td>other</td>\n",
       "      <td>gown</td>\n",
       "      <td>straight &amp; narrow</td>\n",
       "    </tr>\n",
       "    <tr>\n",
       "      <th>2</th>\n",
       "      <td>360448</td>\n",
       "      <td>1063761</td>\n",
       "      <td>10</td>\n",
       "      <td>December 14, 2015</td>\n",
       "      <td>It was a great time to celebrate the (almost) ...</td>\n",
       "      <td>This hugged in all the right places! It was a ...</td>\n",
       "      <td>party</td>\n",
       "      <td>sheath</td>\n",
       "      <td>NaN</td>\n",
       "    </tr>\n",
       "    <tr>\n",
       "      <th>3</th>\n",
       "      <td>909926</td>\n",
       "      <td>126335</td>\n",
       "      <td>8</td>\n",
       "      <td>February 12, 2014</td>\n",
       "      <td>Dress arrived on time and in perfect condition.</td>\n",
       "      <td>I rented this for my company's black tie award...</td>\n",
       "      <td>formal affair</td>\n",
       "      <td>dress</td>\n",
       "      <td>pear</td>\n",
       "    </tr>\n",
       "    <tr>\n",
       "      <th>4</th>\n",
       "      <td>151944</td>\n",
       "      <td>616682</td>\n",
       "      <td>10</td>\n",
       "      <td>September 26, 2016</td>\n",
       "      <td>Was in love with this dress !!!</td>\n",
       "      <td>I have always been petite in my upper body and...</td>\n",
       "      <td>wedding</td>\n",
       "      <td>gown</td>\n",
       "      <td>athletic</td>\n",
       "    </tr>\n",
       "    <tr>\n",
       "      <th>...</th>\n",
       "      <td>...</td>\n",
       "      <td>...</td>\n",
       "      <td>...</td>\n",
       "      <td>...</td>\n",
       "      <td>...</td>\n",
       "      <td>...</td>\n",
       "      <td>...</td>\n",
       "      <td>...</td>\n",
       "      <td>...</td>\n",
       "    </tr>\n",
       "    <tr>\n",
       "      <th>192539</th>\n",
       "      <td>66386</td>\n",
       "      <td>2252812</td>\n",
       "      <td>10</td>\n",
       "      <td>May 18, 2016</td>\n",
       "      <td>LOVE IT!!! First Item Im thinking of buying!</td>\n",
       "      <td>Fit like a glove!</td>\n",
       "      <td>work</td>\n",
       "      <td>jumpsuit</td>\n",
       "      <td>hourglass</td>\n",
       "    </tr>\n",
       "    <tr>\n",
       "      <th>192540</th>\n",
       "      <td>118398</td>\n",
       "      <td>682043</td>\n",
       "      <td>10</td>\n",
       "      <td>September 30, 2016</td>\n",
       "      <td>LOVE it!</td>\n",
       "      <td>The pattern contrast on this dress is really s...</td>\n",
       "      <td>work</td>\n",
       "      <td>dress</td>\n",
       "      <td>petite</td>\n",
       "    </tr>\n",
       "    <tr>\n",
       "      <th>192541</th>\n",
       "      <td>47002</td>\n",
       "      <td>683251</td>\n",
       "      <td>6</td>\n",
       "      <td>March 4, 2016</td>\n",
       "      <td>Loud patterning, flattering fit</td>\n",
       "      <td>Like the other DVF wraps, the fit on this is f...</td>\n",
       "      <td>everyday</td>\n",
       "      <td>dress</td>\n",
       "      <td>straight &amp; narrow</td>\n",
       "    </tr>\n",
       "    <tr>\n",
       "      <th>192542</th>\n",
       "      <td>961120</td>\n",
       "      <td>126335</td>\n",
       "      <td>10</td>\n",
       "      <td>November 25, 2015</td>\n",
       "      <td>loved this dress it was comfortable and photog...</td>\n",
       "      <td>This dress was PERFECTION.  it looked incredib...</td>\n",
       "      <td>wedding</td>\n",
       "      <td>dress</td>\n",
       "      <td>pear</td>\n",
       "    </tr>\n",
       "    <tr>\n",
       "      <th>192543</th>\n",
       "      <td>123612</td>\n",
       "      <td>127865</td>\n",
       "      <td>10</td>\n",
       "      <td>August 29, 2017</td>\n",
       "      <td>I wore this to a beautiful black tie optional ...</td>\n",
       "      <td>This dress was wonderful! I had originally pla...</td>\n",
       "      <td>wedding</td>\n",
       "      <td>gown</td>\n",
       "      <td>athletic</td>\n",
       "    </tr>\n",
       "  </tbody>\n",
       "</table>\n",
       "<p>192544 rows × 9 columns</p>\n",
       "</div>"
      ],
      "text/plain": [
       "       user_id  item_id rating         review_date  \\\n",
       "0       420272  2260466     10      April 20, 2016   \n",
       "1       273551   153475     10       June 18, 2013   \n",
       "2       360448  1063761     10   December 14, 2015   \n",
       "3       909926   126335      8   February 12, 2014   \n",
       "4       151944   616682     10  September 26, 2016   \n",
       "...        ...      ...    ...                 ...   \n",
       "192539   66386  2252812     10        May 18, 2016   \n",
       "192540  118398   682043     10  September 30, 2016   \n",
       "192541   47002   683251      6       March 4, 2016   \n",
       "192542  961120   126335     10   November 25, 2015   \n",
       "192543  123612   127865     10     August 29, 2017   \n",
       "\n",
       "                                           review_summary  \\\n",
       "0                                    So many compliments!   \n",
       "1                                 I felt so glamourous!!!   \n",
       "2       It was a great time to celebrate the (almost) ...   \n",
       "3        Dress arrived on time and in perfect condition.    \n",
       "4                         Was in love with this dress !!!   \n",
       "...                                                   ...   \n",
       "192539       LOVE IT!!! First Item Im thinking of buying!   \n",
       "192540                                           LOVE it!   \n",
       "192541                    Loud patterning, flattering fit   \n",
       "192542  loved this dress it was comfortable and photog...   \n",
       "192543  I wore this to a beautiful black tie optional ...   \n",
       "\n",
       "                                              review_text     rented for  \\\n",
       "0       An adorable romper! Belt and zipper were a lit...       vacation   \n",
       "1       I rented this dress for a photo shoot. The the...          other   \n",
       "2       This hugged in all the right places! It was a ...          party   \n",
       "3       I rented this for my company's black tie award...  formal affair   \n",
       "4       I have always been petite in my upper body and...        wedding   \n",
       "...                                                   ...            ...   \n",
       "192539                                  Fit like a glove!           work   \n",
       "192540  The pattern contrast on this dress is really s...           work   \n",
       "192541  Like the other DVF wraps, the fit on this is f...       everyday   \n",
       "192542  This dress was PERFECTION.  it looked incredib...        wedding   \n",
       "192543  This dress was wonderful! I had originally pla...        wedding   \n",
       "\n",
       "        category          body type  \n",
       "0         romper          hourglass  \n",
       "1           gown  straight & narrow  \n",
       "2         sheath                NaN  \n",
       "3          dress               pear  \n",
       "4           gown           athletic  \n",
       "...          ...                ...  \n",
       "192539  jumpsuit          hourglass  \n",
       "192540     dress             petite  \n",
       "192541     dress  straight & narrow  \n",
       "192542     dress               pear  \n",
       "192543      gown           athletic  \n",
       "\n",
       "[192544 rows x 9 columns]"
      ]
     },
     "execution_count": 68,
     "metadata": {},
     "output_type": "execute_result"
    }
   ],
   "source": [
    "renttherunway_data"
   ]
  },
  {
   "cell_type": "markdown",
   "id": "152a1db6-96ee-4840-9ee2-18462bf1e6de",
   "metadata": {
    "tags": []
   },
   "source": [
    "### exploration"
   ]
  },
  {
   "cell_type": "code",
   "execution_count": 17,
   "id": "e756103f-6108-49f6-a407-61ddf5f058c8",
   "metadata": {},
   "outputs": [],
   "source": [
    "user_counts  = renttherunway_data['user_id'].value_counts()\n",
    "item_counts  = renttherunway_data['item_id'].value_counts()"
   ]
  },
  {
   "cell_type": "markdown",
   "id": "97877c34-7fd5-4ece-a2af-6cdd4e5b9530",
   "metadata": {},
   "source": [
    "- it is expected that most users and items are cold - very few interactions"
   ]
  },
  {
   "cell_type": "code",
   "execution_count": 42,
   "id": "6a2b2f47-7af0-4a83-bcb9-bdeab2eaa9d8",
   "metadata": {},
   "outputs": [
    {
     "name": "stdout",
     "output_type": "stream",
     "text": [
      "User Counts:\n",
      "count    105571.000000\n",
      "mean          1.823834\n",
      "std           3.074324\n",
      "min           1.000000\n",
      "25%           1.000000\n",
      "50%           1.000000\n",
      "75%           2.000000\n",
      "max         436.000000\n",
      "Name: user_id, dtype: float64\n",
      "Item Counts:\n",
      "count    5850.000000\n",
      "mean       32.913504\n",
      "std        85.000916\n",
      "min         1.000000\n",
      "25%         5.000000\n",
      "50%        14.000000\n",
      "75%        32.000000\n",
      "max      2241.000000\n",
      "Name: item_id, dtype: float64\n"
     ]
    }
   ],
   "source": [
    "print(\"User Counts:\", user_counts.describe(), sep = \"\\n\")\n",
    "print(\"Item Counts:\", item_counts.describe(), sep = \"\\n\")"
   ]
  },
  {
   "cell_type": "code",
   "execution_count": 67,
   "id": "daf7f142-add4-445c-a28b-19298d257024",
   "metadata": {
    "tags": []
   },
   "outputs": [
    {
     "data": {
      "text/plain": [
       "[Text(0, 0.5, 'Density'),\n",
       " Text(0.5, 1.0, 'Top 5000 Frequent Users'),\n",
       " Text(0.5, 0, 'Number of times rented')]"
      ]
     },
     "execution_count": 67,
     "metadata": {},
     "output_type": "execute_result"
    },
    {
     "data": {
      "image/png": "[encoded data removed]",
      "text/plain": [
       "<Figure size 640x480 with 1 Axes>"
      ]
     },
     "metadata": {},
     "output_type": "display_data"
    }
   ],
   "source": [
    "p  = sb.kdeplot(user_counts[:5000],  color = \"#98473E\", fill = True)\n",
    "p.set(ylabel = \"Density\", title = \"Top 5000 Frequent Users\", xlabel = \"Number of times rented\")"
   ]
  },
  {
   "cell_type": "code",
   "execution_count": 64,
   "id": "cd74c4fe-83d9-4428-8572-e33cdc1690e6",
   "metadata": {},
   "outputs": [
    {
     "data": {
      "text/plain": [
       "[Text(0, 0.5, 'Density'),\n",
       " Text(0.5, 1.0, 'Top 5000 Frequent Items'),\n",
       " Text(0.5, 0, 'Number of times rented')]"
      ]
     },
     "execution_count": 64,
     "metadata": {},
     "output_type": "execute_result"
    },
    {
     "data": {
      "image/png": "[encoded data removed]",
      "text/plain": [
       "<Figure size 640x480 with 1 Axes>"
      ]
     },
     "metadata": {},
     "output_type": "display_data"
    }
   ],
   "source": [
    "p  = sb.kdeplot(item_counts[:5000], color = \"#A37C40\", fill = True)\n",
    "p.set(ylabel = \"Density\", title = \"Top 5000 Frequent Items\", xlabel = \"Number of times rented\")"
   ]
  },
  {
   "cell_type": "code",
   "execution_count": null,
   "id": "fc71d3fa-51c9-499e-b1c5-4b840605521a",
   "metadata": {},
   "outputs": [],
   "source": []
  }
 ],
 "metadata": {
  "kernelspec": {
   "display_name": "Python 3 (ipykernel)",
   "language": "python",
   "name": "python3"
  },
  "language_info": {
   "codemirror_mode": {
    "name": "ipython",
    "version": 3
   },
   "file_extension": ".py",
   "mimetype": "text/x-python",
   "name": "python",
   "nbconvert_exporter": "python",
   "pygments_lexer": "ipython3",
   "version": "3.9.15"
  }
 },
 "nbformat": 4,
 "nbformat_minor": 5
}
