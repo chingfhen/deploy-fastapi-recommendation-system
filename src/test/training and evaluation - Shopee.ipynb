{
 "cells": [
  {
   "cell_type": "markdown",
   "id": "9cb5af0a-8d4b-4ab5-a98e-3895d981526a",
   "metadata": {},
   "source": [
    "# ABOUT:\n",
    "- this notebook compares the recommendation performance between Popularity recommender, SAR, and LightGCN on Shopee dataset"
   ]
  },
  {
   "cell_type": "code",
   "execution_count": 1,
   "id": "e8eaeb77-3d83-4a48-81ed-4d9fc428ac01",
   "metadata": {},
   "outputs": [],
   "source": [
    "from recommenders.models.sar import SAR\n",
    "from recommenders.datasets.python_splitters import python_stratified_split\n",
    "from recommenders.utils.constants import SEED as DEFAULT_SEED\n",
    "from recommenders.evaluation.python_evaluation import precision_at_k\n",
    "from recommenders.models.deeprec.DataModel.ImplicitCF import ImplicitCF\n",
    "from recommenders.models.deeprec.deeprec_utils import prepare_hparams\n",
    "from recommenders.models.deeprec.models.graphrec.lightgcn import LightGCN\n",
    "from recommenders.utils.timer import Timer\n",
    "\n",
    "import pandas as pd\n",
    "import os\n",
    "import gzip\n",
    "import json\n",
    "import pandas as pd\n",
    "import seaborn as sb\n",
    "from scipy.sparse import save_npz, load_npz\n",
    "from numpy import save, load \n",
    "import json\n",
    "import numpy as np\n",
    "import sys\n",
    "sys.path.append(r'C:\\Users\\tanch\\Documents\\NTU\\NTU Year 4\\FYP - GNN\\Recommender API\\deploy-fastapi-recommendation-system\\src\\api\\fastapi')\n",
    "from model_utils import convert_numpy_keys_to_raw, save_sar, sar_load"
   ]
  },
  {
   "cell_type": "markdown",
   "id": "e7860e10-1cdd-4373-8f08-18f2edc137c3",
   "metadata": {
    "tags": []
   },
   "source": [
    "### config"
   ]
  },
  {
   "cell_type": "code",
   "execution_count": 5,
   "id": "6dd7016b-d785-4dbb-8926-badd3ab15ea3",
   "metadata": {},
   "outputs": [],
   "source": [
    "KEYWORD_SHOPEE_RAW_TRANSACTION_FILE = \"Order.all\"\n",
    "NON_KEYWORD_SHOPEE_RAW_TRANSACTION_FILE = \"$\"\n",
    "DESIRED_COLS_TRANSACTION_FILE = [\"Order ID\", \"Original Price\", \"Username (Buyer)\", \"Product Name\", \"product_id\"]\n",
    "TRANSACTION_ID_COL = [\"Order ID\"]\n",
    "USER_ID_COL = \"user_id\"\n",
    "ITEM_ID_COL = \"item_id\"\n",
    "RATING_COL = \"rating\"\n",
    "TRANSACTION_TO_INTERACTION_MAPPING = {\n",
    "    USER_ID_COL:\"Username (Buyer)\",\n",
    "    ITEM_ID_COL:\"product_id\",\n",
    "}\n",
    "MIN_UNIQUE_PURCHASES = 2\n",
    "SPLIT_RATIO = 0.5\n",
    "SEED = 0 \n",
    "TOP_K = 10\n",
    "BATCH_SIZE = 1024\n",
    "MODEL_DIR = r\"C:\\Users\\tanch\\Documents\\NTU\\NTU Year 4\\FYP - GNN\\Recommender API\\deploy-fastapi-recommendation-system\\src\\api\\models\"\n",
    "PATH_TO_RAW_MEDIA_FILE = r\"C:\\Users\\tanch\\Documents\\NTU\\NTU Year 4\\FYP - GNN\\data\\shopee-20221117T041452Z-001\\shopee\\mass_update_media_info_120171733_20230224232836.xlsx\"\n",
    "PATH_TO_RAW_TRANSACTIONS_FOLDER = r\"C:\\Users\\tanch\\Documents\\NTU\\NTU Year 4\\FYP - GNN\\data\\shopee-20221117T041452Z-001\\shopee\""
   ]
  },
  {
   "cell_type": "markdown",
   "id": "f9d7de77-eb31-4f5c-9a7b-b6b7f7583b46",
   "metadata": {},
   "source": [
    "### Utils"
   ]
  },
  {
   "cell_type": "code",
   "execution_count": 3,
   "id": "11c84eec-23b2-4e49-84fc-58cb07c4022a",
   "metadata": {},
   "outputs": [],
   "source": [
    "\"\"\"\n",
    "files containing the transactions are identified by keywords\n",
    "IMPORTANT NOTE: transaction files SHOULD NOT be duplicated\n",
    "\"\"\"\n",
    "def get_transaction_filenames(folder_path:str, keyword:str, non_keyword:str):\n",
    "    return [filename for filename in os.listdir(folder_path) if keyword in filename and non_keyword not in filename]\n",
    "\"\"\"\n",
    "Combine all transaction data into dataframe, with no processing \n",
    "\"\"\"\n",
    "def get_transaction_data(folder_path:str, filenames:list):\n",
    "    output = pd.DataFrame()\n",
    "    for filename in filenames:\n",
    "        data_path = os.path.join(folder_path,filename)\n",
    "        data = pd.read_excel(data_path)\n",
    "        output = pd.concat([output, data] , axis = 0)\n",
    "    return output.reset_index(drop = True)\n",
    "\"\"\"\n",
    "Clean transaction data - very minimal cleaning\n",
    "\"\"\"\n",
    "def clean_transaction_data(dataframe, desired_columns):\n",
    "    output = dataframe.copy()\n",
    "    output = output[desired_columns]\n",
    "    # # INTERACTIONS ARE UNIQUE BY COMPOSITE/MULTIPLE COLUMNS\n",
    "    # output = output.drop_duplicates(subset = id_cols)\n",
    "    return output\n",
    "\"\"\"\n",
    "Create a id mapping for a column\n",
    "\"\"\"\n",
    "def generate_ids(pandas_series):\n",
    "    mapping = dict(enumerate(pandas_series.unique().tolist()))\n",
    "    reverse_mapping = {v:k for k,v in mapping.items()}\n",
    "    return reverse_mapping\n",
    "\"\"\"\n",
    "Transform into interaction data that is the input to personalized recommendation models\n",
    "\"\"\"\n",
    "def transform_transaction_to_interaction_data(transaction_dataframe, user_id_col, item_id_col, transaction_interaction_mapping, rating_col, generate_ids = False):\n",
    "    output = pd.DataFrame()\n",
    "    user_id_mapping, item_id_mapping = None, None\n",
    "    if generate_ids:\n",
    "        user_id_mapping = generate_ids(transaction_dataframe[transaction_interaction_mapping[user_id_col]])\n",
    "        item_id_mapping = generate_ids(transaction_dataframe[transaction_interaction_mapping[item_id_col]])\n",
    "        output[user_id_col] = transaction_dataframe[transaction_interaction_mapping[user_id_col]].map(user_id_mapping)\n",
    "        output[item_id_col] = transaction_dataframe[transaction_interaction_mapping[item_id_col]].map(item_id_mapping)\n",
    "    else: \n",
    "        output[user_id_col] = transaction_dataframe[transaction_interaction_mapping[user_id_col]]\n",
    "        output[item_id_col] = transaction_dataframe[transaction_interaction_mapping[item_id_col]]\n",
    "    output = pd.DataFrame(output.groupby(by = [user_id_col, item_id_col]).size(), columns = [rating_col])\n",
    "    output = output.reset_index()\n",
    "    return output, user_id_mapping, item_id_mapping\n",
    "\"\"\"\n",
    "Make interaction data more suitable for recommedation model \n",
    "e.g. keep only warm users\n",
    "\"\"\"\n",
    "def clean_interaction_data(dataframe, user_id_col, item_id_col, rating_col, min_purchases, equalize_interaction_weights = True):\n",
    "    # keep the user col warm - users should have at least x number of purchases\n",
    "    output = keep_warm(dataframe, user_id_col, min_purchases)\n",
    "    if equalize_interaction_weights:\n",
    "        dataframe[rating_col] = 1\n",
    "    return output\n",
    "\"\"\"\n",
    "Warm users refer to users that have bought at least x number of items from the shop\n",
    "\"\"\"\n",
    "def keep_warm(dataframe, target_col, minimum_count):\n",
    "    output = dataframe.groupby(by = [target_col]).filter(lambda x : len(x)>=minimum_count)\n",
    "    return output.reset_index(drop = True)\n",
    "\n",
    "\n",
    "def show_dataset_stats(dataframe):\n",
    "    print(f\"\"\"\n",
    "        Total Interactions: {len(dataframe)}\n",
    "        Unique Users: {dataframe[USER_ID_COL].nunique()}\n",
    "        Unique Items: {dataframe[ITEM_ID_COL].nunique()}\n",
    "        \"\"\")\n",
    "    \n"
   ]
  },
  {
   "cell_type": "markdown",
   "id": "63650fa1-3836-42ad-afdc-93c72c636a03",
   "metadata": {},
   "source": [
    "### Get raw data\n",
    "- consists of transactional files (user item interactions) ad media files (image urls)"
   ]
  },
  {
   "cell_type": "code",
   "execution_count": 6,
   "id": "8e86d15e-5203-44f4-aa79-06c4a5cacea0",
   "metadata": {},
   "outputs": [],
   "source": [
    "def get_product_data():\n",
    "    data = pd.read_excel(PATH_TO_RAW_MEDIA_FILE\n",
    "                  ,sheet_name= \"Sheet2\", header = None, names = [\"product_id\", \"product_name\", \"categories\", \"image_url\"])\n",
    "    return data\n",
    "media_data = get_product_data()"
   ]
  },
  {
   "cell_type": "code",
   "execution_count": 37,
   "id": "89d1429b-38c2-4a47-887d-bb64dc63f168",
   "metadata": {},
   "outputs": [
    {
     "data": {
      "text/html": [
       "<div>\n",
       "<style scoped>\n",
       "    .dataframe tbody tr th:only-of-type {\n",
       "        vertical-align: middle;\n",
       "    }\n",
       "\n",
       "    .dataframe tbody tr th {\n",
       "        vertical-align: top;\n",
       "    }\n",
       "\n",
       "    .dataframe thead th {\n",
       "        text-align: right;\n",
       "    }\n",
       "</style>\n",
       "<table border=\"1\" class=\"dataframe\">\n",
       "  <thead>\n",
       "    <tr style=\"text-align: right;\">\n",
       "      <th></th>\n",
       "      <th>product_id</th>\n",
       "      <th>product_name</th>\n",
       "      <th>categories</th>\n",
       "      <th>image_url</th>\n",
       "    </tr>\n",
       "  </thead>\n",
       "  <tbody>\n",
       "    <tr>\n",
       "      <th>0</th>\n",
       "      <td>23826146098</td>\n",
       "      <td>Ultrasonic Aroma Humidifier Led light changing</td>\n",
       "      <td>101129 - Home &amp; Living/Home Fragrance &amp; Aromat...</td>\n",
       "      <td>https://cf.shopee.sg/file/sg-11134207-23020-9n...</td>\n",
       "    </tr>\n",
       "    <tr>\n",
       "      <th>1</th>\n",
       "      <td>23821255327</td>\n",
       "      <td>Heavy Duty Canvas Tote Bags Stitching Contrast...</td>\n",
       "      <td>100093 - Women Bags/Tote Bags</td>\n",
       "      <td>https://cf.shopee.sg/file/sg-11134207-23020-yu...</td>\n",
       "    </tr>\n",
       "    <tr>\n",
       "      <th>2</th>\n",
       "      <td>23821254972</td>\n",
       "      <td>Hot Products EMS Vibration RF V Shape Other Ho...</td>\n",
       "      <td>101661 - Beauty/Beauty Tools/Facial Care Tools...</td>\n",
       "      <td>https://cf.shopee.sg/file/sg-11134207-23020-k1...</td>\n",
       "    </tr>\n",
       "    <tr>\n",
       "      <th>3</th>\n",
       "      <td>23821143235</td>\n",
       "      <td>Wart Removal Cream Natural Herbal Skin Care Re...</td>\n",
       "      <td>100427 - Health/Medical Supplies/First Aid Sup...</td>\n",
       "      <td>https://cf.shopee.sg/file/sg-11134207-23020-1u...</td>\n",
       "    </tr>\n",
       "    <tr>\n",
       "      <th>4</th>\n",
       "      <td>23720393304</td>\n",
       "      <td>Cute Kids Bag Cartoon Schoolbag Shoulder Bag S...</td>\n",
       "      <td>101744 - Baby &amp; Kids Fashion/Baby &amp; Kids Acces...</td>\n",
       "      <td>https://cf.shopee.sg/file/sg-11134207-23010-t7...</td>\n",
       "    </tr>\n",
       "    <tr>\n",
       "      <th>...</th>\n",
       "      <td>...</td>\n",
       "      <td>...</td>\n",
       "      <td>...</td>\n",
       "      <td>...</td>\n",
       "    </tr>\n",
       "    <tr>\n",
       "      <th>344</th>\n",
       "      <td>3333330067</td>\n",
       "      <td>Bunion Corrector Orthopedic Bunion Correctors ...</td>\n",
       "      <td>100434 - Health/Medical Supplies/Injury &amp; Disa...</td>\n",
       "      <td>https://cf.shopee.sg/file/2d0a78daa545c110ebc0...</td>\n",
       "    </tr>\n",
       "    <tr>\n",
       "      <th>345</th>\n",
       "      <td>3295377541</td>\n",
       "      <td>Magnetic Therapy Self-Heating Arm Elbow Brace ...</td>\n",
       "      <td>100432 - Health/Medical Supplies/Injury &amp; Disa...</td>\n",
       "      <td>https://cf.shopee.sg/file/e17d4f826ffdb4cf90d4...</td>\n",
       "    </tr>\n",
       "    <tr>\n",
       "      <th>346</th>\n",
       "      <td>3295353571</td>\n",
       "      <td>Carpal Tunnel Wrist Brace Support - Wrist Spli...</td>\n",
       "      <td>100432 - Health/Medical Supplies/Injury &amp; Disa...</td>\n",
       "      <td>https://cf.shopee.sg/file/d261a9b88a65ef8a108b...</td>\n",
       "    </tr>\n",
       "    <tr>\n",
       "      <th>347</th>\n",
       "      <td>3233299909</td>\n",
       "      <td>Sport Face Mask with Activated Carbon Pm 2.5 r...</td>\n",
       "      <td>100128 - Health/Medical Supplies/Medical Glove...</td>\n",
       "      <td>https://cf.shopee.sg/file/84930df960f41efc7afc...</td>\n",
       "    </tr>\n",
       "    <tr>\n",
       "      <th>348</th>\n",
       "      <td>2952217870</td>\n",
       "      <td>Ultra light Mini Umbrella 5 folding capsule wi...</td>\n",
       "      <td>100035 - Fashion Accessories/Accessories Sets ...</td>\n",
       "      <td>https://cf.shopee.sg/file/3ac5329be0f139f7a7eb...</td>\n",
       "    </tr>\n",
       "  </tbody>\n",
       "</table>\n",
       "<p>349 rows × 4 columns</p>\n",
       "</div>"
      ],
      "text/plain": [
       "      product_id                                       product_name  \\\n",
       "0    23826146098     Ultrasonic Aroma Humidifier Led light changing   \n",
       "1    23821255327  Heavy Duty Canvas Tote Bags Stitching Contrast...   \n",
       "2    23821254972  Hot Products EMS Vibration RF V Shape Other Ho...   \n",
       "3    23821143235  Wart Removal Cream Natural Herbal Skin Care Re...   \n",
       "4    23720393304  Cute Kids Bag Cartoon Schoolbag Shoulder Bag S...   \n",
       "..           ...                                                ...   \n",
       "344   3333330067  Bunion Corrector Orthopedic Bunion Correctors ...   \n",
       "345   3295377541  Magnetic Therapy Self-Heating Arm Elbow Brace ...   \n",
       "346   3295353571  Carpal Tunnel Wrist Brace Support - Wrist Spli...   \n",
       "347   3233299909  Sport Face Mask with Activated Carbon Pm 2.5 r...   \n",
       "348   2952217870  Ultra light Mini Umbrella 5 folding capsule wi...   \n",
       "\n",
       "                                            categories  \\\n",
       "0    101129 - Home & Living/Home Fragrance & Aromat...   \n",
       "1                        100093 - Women Bags/Tote Bags   \n",
       "2    101661 - Beauty/Beauty Tools/Facial Care Tools...   \n",
       "3    100427 - Health/Medical Supplies/First Aid Sup...   \n",
       "4    101744 - Baby & Kids Fashion/Baby & Kids Acces...   \n",
       "..                                                 ...   \n",
       "344  100434 - Health/Medical Supplies/Injury & Disa...   \n",
       "345  100432 - Health/Medical Supplies/Injury & Disa...   \n",
       "346  100432 - Health/Medical Supplies/Injury & Disa...   \n",
       "347  100128 - Health/Medical Supplies/Medical Glove...   \n",
       "348  100035 - Fashion Accessories/Accessories Sets ...   \n",
       "\n",
       "                                             image_url  \n",
       "0    https://cf.shopee.sg/file/sg-11134207-23020-9n...  \n",
       "1    https://cf.shopee.sg/file/sg-11134207-23020-yu...  \n",
       "2    https://cf.shopee.sg/file/sg-11134207-23020-k1...  \n",
       "3    https://cf.shopee.sg/file/sg-11134207-23020-1u...  \n",
       "4    https://cf.shopee.sg/file/sg-11134207-23010-t7...  \n",
       "..                                                 ...  \n",
       "344  https://cf.shopee.sg/file/2d0a78daa545c110ebc0...  \n",
       "345  https://cf.shopee.sg/file/e17d4f826ffdb4cf90d4...  \n",
       "346  https://cf.shopee.sg/file/d261a9b88a65ef8a108b...  \n",
       "347  https://cf.shopee.sg/file/84930df960f41efc7afc...  \n",
       "348  https://cf.shopee.sg/file/3ac5329be0f139f7a7eb...  \n",
       "\n",
       "[349 rows x 4 columns]"
      ]
     },
     "execution_count": 37,
     "metadata": {},
     "output_type": "execute_result"
    }
   ],
   "source": [
    "media_data"
   ]
  },
  {
   "cell_type": "code",
   "execution_count": 6,
   "id": "44643053-3301-4db6-98b1-68e160c62dbd",
   "metadata": {},
   "outputs": [
    {
     "data": {
      "text/html": [
       "<div>\n",
       "<style scoped>\n",
       "    .dataframe tbody tr th:only-of-type {\n",
       "        vertical-align: middle;\n",
       "    }\n",
       "\n",
       "    .dataframe tbody tr th {\n",
       "        vertical-align: top;\n",
       "    }\n",
       "\n",
       "    .dataframe thead th {\n",
       "        text-align: right;\n",
       "    }\n",
       "</style>\n",
       "<table border=\"1\" class=\"dataframe\">\n",
       "  <thead>\n",
       "    <tr style=\"text-align: right;\">\n",
       "      <th></th>\n",
       "      <th>product_id</th>\n",
       "      <th>product_name</th>\n",
       "      <th>categories</th>\n",
       "      <th>image_url</th>\n",
       "    </tr>\n",
       "  </thead>\n",
       "  <tbody>\n",
       "    <tr>\n",
       "      <th>0</th>\n",
       "      <td>23826146098</td>\n",
       "      <td>Ultrasonic Aroma Humidifier Led light changing</td>\n",
       "      <td>101129 - Home &amp; Living/Home Fragrance &amp; Aromat...</td>\n",
       "      <td>https://cf.shopee.sg/file/sg-11134207-23020-9n...</td>\n",
       "    </tr>\n",
       "    <tr>\n",
       "      <th>1</th>\n",
       "      <td>23821255327</td>\n",
       "      <td>Heavy Duty Canvas Tote Bags Stitching Contrast...</td>\n",
       "      <td>100093 - Women Bags/Tote Bags</td>\n",
       "      <td>https://cf.shopee.sg/file/sg-11134207-23020-yu...</td>\n",
       "    </tr>\n",
       "    <tr>\n",
       "      <th>2</th>\n",
       "      <td>23821254972</td>\n",
       "      <td>Hot Products EMS Vibration RF V Shape Other Ho...</td>\n",
       "      <td>101661 - Beauty/Beauty Tools/Facial Care Tools...</td>\n",
       "      <td>https://cf.shopee.sg/file/sg-11134207-23020-k1...</td>\n",
       "    </tr>\n",
       "    <tr>\n",
       "      <th>3</th>\n",
       "      <td>23821143235</td>\n",
       "      <td>Wart Removal Cream Natural Herbal Skin Care Re...</td>\n",
       "      <td>100427 - Health/Medical Supplies/First Aid Sup...</td>\n",
       "      <td>https://cf.shopee.sg/file/sg-11134207-23020-1u...</td>\n",
       "    </tr>\n",
       "    <tr>\n",
       "      <th>4</th>\n",
       "      <td>23720393304</td>\n",
       "      <td>Cute Kids Bag Cartoon Schoolbag Shoulder Bag S...</td>\n",
       "      <td>101744 - Baby &amp; Kids Fashion/Baby &amp; Kids Acces...</td>\n",
       "      <td>https://cf.shopee.sg/file/sg-11134207-23010-t7...</td>\n",
       "    </tr>\n",
       "  </tbody>\n",
       "</table>\n",
       "</div>"
      ],
      "text/plain": [
       "    product_id                                       product_name  \\\n",
       "0  23826146098     Ultrasonic Aroma Humidifier Led light changing   \n",
       "1  23821255327  Heavy Duty Canvas Tote Bags Stitching Contrast...   \n",
       "2  23821254972  Hot Products EMS Vibration RF V Shape Other Ho...   \n",
       "3  23821143235  Wart Removal Cream Natural Herbal Skin Care Re...   \n",
       "4  23720393304  Cute Kids Bag Cartoon Schoolbag Shoulder Bag S...   \n",
       "\n",
       "                                          categories  \\\n",
       "0  101129 - Home & Living/Home Fragrance & Aromat...   \n",
       "1                      100093 - Women Bags/Tote Bags   \n",
       "2  101661 - Beauty/Beauty Tools/Facial Care Tools...   \n",
       "3  100427 - Health/Medical Supplies/First Aid Sup...   \n",
       "4  101744 - Baby & Kids Fashion/Baby & Kids Acces...   \n",
       "\n",
       "                                           image_url  \n",
       "0  https://cf.shopee.sg/file/sg-11134207-23020-9n...  \n",
       "1  https://cf.shopee.sg/file/sg-11134207-23020-yu...  \n",
       "2  https://cf.shopee.sg/file/sg-11134207-23020-k1...  \n",
       "3  https://cf.shopee.sg/file/sg-11134207-23020-1u...  \n",
       "4  https://cf.shopee.sg/file/sg-11134207-23010-t7...  "
      ]
     },
     "execution_count": 6,
     "metadata": {},
     "output_type": "execute_result"
    }
   ],
   "source": [
    "media_data.head()"
   ]
  },
  {
   "cell_type": "code",
   "execution_count": 7,
   "id": "d93da2d9-300a-4757-9a56-03c32d94f6b6",
   "metadata": {},
   "outputs": [],
   "source": [
    "# media_data.to_csv(os.path.join(PATH_TO_RAW_TRANSACTIONS_FOLDER, \"cleaned_transactions.csv\"), index = False)"
   ]
  },
  {
   "cell_type": "code",
   "execution_count": 7,
   "id": "d495d03c-d3b8-4fc2-8f57-cd23bdfcef60",
   "metadata": {},
   "outputs": [],
   "source": [
    "transaction_filenames = get_transaction_filenames(PATH_TO_RAW_TRANSACTIONS_FOLDER, KEYWORD_SHOPEE_RAW_TRANSACTION_FILE, NON_KEYWORD_SHOPEE_RAW_TRANSACTION_FILE)\n",
    "transaction_data = get_transaction_data(PATH_TO_RAW_TRANSACTIONS_FOLDER, transaction_filenames)"
   ]
  },
  {
   "cell_type": "code",
   "execution_count": 8,
   "id": "67046d4f-f4ab-4ba4-80e7-5183953105e4",
   "metadata": {},
   "outputs": [],
   "source": [
    "transaction_data = transaction_data.merge(media_data, left_on = \"Product Name\", right_on = \"product_name\", how = \"inner\")"
   ]
  },
  {
   "cell_type": "code",
   "execution_count": 12,
   "id": "465ee76c-8c19-40e3-8c0b-a3e6092fcc36",
   "metadata": {},
   "outputs": [
    {
     "data": {
      "text/html": [
       "<div>\n",
       "<style scoped>\n",
       "    .dataframe tbody tr th:only-of-type {\n",
       "        vertical-align: middle;\n",
       "    }\n",
       "\n",
       "    .dataframe tbody tr th {\n",
       "        vertical-align: top;\n",
       "    }\n",
       "\n",
       "    .dataframe thead th {\n",
       "        text-align: right;\n",
       "    }\n",
       "</style>\n",
       "<table border=\"1\" class=\"dataframe\">\n",
       "  <thead>\n",
       "    <tr style=\"text-align: right;\">\n",
       "      <th></th>\n",
       "      <th>Order ID</th>\n",
       "      <th>Order Status</th>\n",
       "      <th>Cancel reason</th>\n",
       "      <th>Return / Refund Status</th>\n",
       "      <th>Tracking Number*</th>\n",
       "      <th>Shipping Option</th>\n",
       "      <th>Shipment Method</th>\n",
       "      <th>Estimated Ship Out Date</th>\n",
       "      <th>Ship Time</th>\n",
       "      <th>Order Creation Date</th>\n",
       "      <th>...</th>\n",
       "      <th>Province</th>\n",
       "      <th>Country</th>\n",
       "      <th>Zip Code</th>\n",
       "      <th>Remark from buyer</th>\n",
       "      <th>Order Complete Time</th>\n",
       "      <th>Note</th>\n",
       "      <th>product_id</th>\n",
       "      <th>product_name</th>\n",
       "      <th>categories</th>\n",
       "      <th>image_url</th>\n",
       "    </tr>\n",
       "  </thead>\n",
       "  <tbody>\n",
       "    <tr>\n",
       "      <th>0</th>\n",
       "      <td>210701QSRHFY5W</td>\n",
       "      <td>Completed</td>\n",
       "      <td>NaN</td>\n",
       "      <td>NaN</td>\n",
       "      <td>SJNT957750266</td>\n",
       "      <td>J&amp;T Express</td>\n",
       "      <td>pickup</td>\n",
       "      <td>2021-07-05 13:52</td>\n",
       "      <td>2021-07-02 16:45</td>\n",
       "      <td>2021-07-01 13:52</td>\n",
       "      <td>...</td>\n",
       "      <td>NaN</td>\n",
       "      <td>SG</td>\n",
       "      <td>734688</td>\n",
       "      <td>NaN</td>\n",
       "      <td>2021-07-03 20:34</td>\n",
       "      <td>NaN</td>\n",
       "      <td>8406662315</td>\n",
       "      <td>Hot Magnetic Back Support Brace Belt Lumbar Lo...</td>\n",
       "      <td>100432 - Health/Medical Supplies/Injury &amp; Disa...</td>\n",
       "      <td>https://cf.shopee.sg/file/333f8f876721b0dd1a11...</td>\n",
       "    </tr>\n",
       "    <tr>\n",
       "      <th>1</th>\n",
       "      <td>210708D2XTB5TJ</td>\n",
       "      <td>Completed</td>\n",
       "      <td>NaN</td>\n",
       "      <td>NaN</td>\n",
       "      <td>SJNT390072266</td>\n",
       "      <td>J&amp;T Express</td>\n",
       "      <td>pickup</td>\n",
       "      <td>2021-07-12 21:24</td>\n",
       "      <td>2021-07-09 18:42</td>\n",
       "      <td>2021-07-08 21:24</td>\n",
       "      <td>...</td>\n",
       "      <td>NaN</td>\n",
       "      <td>SG</td>\n",
       "      <td>459109</td>\n",
       "      <td>NaN</td>\n",
       "      <td>2021-07-16 08:08</td>\n",
       "      <td>NaN</td>\n",
       "      <td>8406662315</td>\n",
       "      <td>Hot Magnetic Back Support Brace Belt Lumbar Lo...</td>\n",
       "      <td>100432 - Health/Medical Supplies/Injury &amp; Disa...</td>\n",
       "      <td>https://cf.shopee.sg/file/333f8f876721b0dd1a11...</td>\n",
       "    </tr>\n",
       "    <tr>\n",
       "      <th>2</th>\n",
       "      <td>210725SHRE6FM4</td>\n",
       "      <td>Completed</td>\n",
       "      <td>NaN</td>\n",
       "      <td>NaN</td>\n",
       "      <td>SJNT345680452</td>\n",
       "      <td>J&amp;T Express</td>\n",
       "      <td>pickup</td>\n",
       "      <td>2021-07-27 10:08</td>\n",
       "      <td>2021-07-26 14:33</td>\n",
       "      <td>2021-07-25 10:07</td>\n",
       "      <td>...</td>\n",
       "      <td>NaN</td>\n",
       "      <td>SG</td>\n",
       "      <td>545084</td>\n",
       "      <td>NaN</td>\n",
       "      <td>2021-07-30 21:44</td>\n",
       "      <td>NaN</td>\n",
       "      <td>8406662315</td>\n",
       "      <td>Hot Magnetic Back Support Brace Belt Lumbar Lo...</td>\n",
       "      <td>100432 - Health/Medical Supplies/Injury &amp; Disa...</td>\n",
       "      <td>https://cf.shopee.sg/file/333f8f876721b0dd1a11...</td>\n",
       "    </tr>\n",
       "    <tr>\n",
       "      <th>3</th>\n",
       "      <td>211002RFG2874R</td>\n",
       "      <td>Completed</td>\n",
       "      <td>NaN</td>\n",
       "      <td>NaN</td>\n",
       "      <td>SJNT585561873</td>\n",
       "      <td>J&amp;T Express</td>\n",
       "      <td>pickup</td>\n",
       "      <td>2021-10-05 10:35</td>\n",
       "      <td>2021-10-02 13:39</td>\n",
       "      <td>2021-10-02 10:34</td>\n",
       "      <td>...</td>\n",
       "      <td>NaN</td>\n",
       "      <td>SG</td>\n",
       "      <td>208787</td>\n",
       "      <td>NaN</td>\n",
       "      <td>2021-10-04 12:37</td>\n",
       "      <td>NaN</td>\n",
       "      <td>8406662315</td>\n",
       "      <td>Hot Magnetic Back Support Brace Belt Lumbar Lo...</td>\n",
       "      <td>100432 - Health/Medical Supplies/Injury &amp; Disa...</td>\n",
       "      <td>https://cf.shopee.sg/file/333f8f876721b0dd1a11...</td>\n",
       "    </tr>\n",
       "    <tr>\n",
       "      <th>4</th>\n",
       "      <td>21100545WNFN2V</td>\n",
       "      <td>Cancelled</td>\n",
       "      <td>Cancelled by buyer. Reason: Others</td>\n",
       "      <td>NaN</td>\n",
       "      <td>NaN</td>\n",
       "      <td>J&amp;T Express</td>\n",
       "      <td>pickup</td>\n",
       "      <td>NaN</td>\n",
       "      <td>NaN</td>\n",
       "      <td>2021-10-05 22:36</td>\n",
       "      <td>...</td>\n",
       "      <td>NaN</td>\n",
       "      <td>SG</td>\n",
       "      <td>460106</td>\n",
       "      <td>NaN</td>\n",
       "      <td>NaN</td>\n",
       "      <td>NaN</td>\n",
       "      <td>8406662315</td>\n",
       "      <td>Hot Magnetic Back Support Brace Belt Lumbar Lo...</td>\n",
       "      <td>100432 - Health/Medical Supplies/Injury &amp; Disa...</td>\n",
       "      <td>https://cf.shopee.sg/file/333f8f876721b0dd1a11...</td>\n",
       "    </tr>\n",
       "  </tbody>\n",
       "</table>\n",
       "<p>5 rows × 60 columns</p>\n",
       "</div>"
      ],
      "text/plain": [
       "         Order ID Order Status                       Cancel reason  \\\n",
       "0  210701QSRHFY5W    Completed                                 NaN   \n",
       "1  210708D2XTB5TJ    Completed                                 NaN   \n",
       "2  210725SHRE6FM4    Completed                                 NaN   \n",
       "3  211002RFG2874R    Completed                                 NaN   \n",
       "4  21100545WNFN2V    Cancelled  Cancelled by buyer. Reason: Others   \n",
       "\n",
       "  Return / Refund Status Tracking Number* Shipping Option Shipment Method  \\\n",
       "0                    NaN    SJNT957750266     J&T Express          pickup   \n",
       "1                    NaN    SJNT390072266     J&T Express          pickup   \n",
       "2                    NaN    SJNT345680452     J&T Express          pickup   \n",
       "3                    NaN    SJNT585561873     J&T Express          pickup   \n",
       "4                    NaN              NaN     J&T Express          pickup   \n",
       "\n",
       "  Estimated Ship Out Date         Ship Time Order Creation Date  ... Province  \\\n",
       "0        2021-07-05 13:52  2021-07-02 16:45    2021-07-01 13:52  ...      NaN   \n",
       "1        2021-07-12 21:24  2021-07-09 18:42    2021-07-08 21:24  ...      NaN   \n",
       "2        2021-07-27 10:08  2021-07-26 14:33    2021-07-25 10:07  ...      NaN   \n",
       "3        2021-10-05 10:35  2021-10-02 13:39    2021-10-02 10:34  ...      NaN   \n",
       "4                     NaN               NaN    2021-10-05 22:36  ...      NaN   \n",
       "\n",
       "   Country Zip Code Remark from buyer Order Complete Time  Note  product_id  \\\n",
       "0       SG   734688               NaN    2021-07-03 20:34   NaN  8406662315   \n",
       "1       SG   459109               NaN    2021-07-16 08:08   NaN  8406662315   \n",
       "2       SG   545084               NaN    2021-07-30 21:44   NaN  8406662315   \n",
       "3       SG   208787               NaN    2021-10-04 12:37   NaN  8406662315   \n",
       "4       SG   460106               NaN                 NaN   NaN  8406662315   \n",
       "\n",
       "                                        product_name  \\\n",
       "0  Hot Magnetic Back Support Brace Belt Lumbar Lo...   \n",
       "1  Hot Magnetic Back Support Brace Belt Lumbar Lo...   \n",
       "2  Hot Magnetic Back Support Brace Belt Lumbar Lo...   \n",
       "3  Hot Magnetic Back Support Brace Belt Lumbar Lo...   \n",
       "4  Hot Magnetic Back Support Brace Belt Lumbar Lo...   \n",
       "\n",
       "                                          categories  \\\n",
       "0  100432 - Health/Medical Supplies/Injury & Disa...   \n",
       "1  100432 - Health/Medical Supplies/Injury & Disa...   \n",
       "2  100432 - Health/Medical Supplies/Injury & Disa...   \n",
       "3  100432 - Health/Medical Supplies/Injury & Disa...   \n",
       "4  100432 - Health/Medical Supplies/Injury & Disa...   \n",
       "\n",
       "                                           image_url  \n",
       "0  https://cf.shopee.sg/file/333f8f876721b0dd1a11...  \n",
       "1  https://cf.shopee.sg/file/333f8f876721b0dd1a11...  \n",
       "2  https://cf.shopee.sg/file/333f8f876721b0dd1a11...  \n",
       "3  https://cf.shopee.sg/file/333f8f876721b0dd1a11...  \n",
       "4  https://cf.shopee.sg/file/333f8f876721b0dd1a11...  \n",
       "\n",
       "[5 rows x 60 columns]"
      ]
     },
     "execution_count": 12,
     "metadata": {},
     "output_type": "execute_result"
    }
   ],
   "source": [
    "transaction_data.head()"
   ]
  },
  {
   "cell_type": "markdown",
   "id": "ed596b37-2ede-4f75-8554-228f4d35eb4d",
   "metadata": {
    "tags": []
   },
   "source": [
    "### Data PreProcessing\n",
    "- Convert Raw Transactional Data into Interaction Data that can be input into recommender models\n",
    "- Highlight steps:\n",
    "    - Interaction Data Should be Warm - i.e. users should have at least x purchases, where x must be above 1\n",
    "    - Item and User Names are mapped to IDs\n",
    "    - If a customer buys an item multiple times, that information gets added to the \"rating\" column, denoting the strength of the r/s"
   ]
  },
  {
   "cell_type": "code",
   "execution_count": 13,
   "id": "9727ff6e-d5e7-412b-9c45-1fa510291d53",
   "metadata": {},
   "outputs": [],
   "source": [
    "processed_transaction_data = clean_transaction_data(transaction_data, DESIRED_COLS_TRANSACTION_FILE)"
   ]
  },
  {
   "cell_type": "code",
   "execution_count": 14,
   "id": "90d8f5a3-9193-47f6-9220-6082d47d1de0",
   "metadata": {},
   "outputs": [
    {
     "data": {
      "text/html": [
       "<div>\n",
       "<style scoped>\n",
       "    .dataframe tbody tr th:only-of-type {\n",
       "        vertical-align: middle;\n",
       "    }\n",
       "\n",
       "    .dataframe tbody tr th {\n",
       "        vertical-align: top;\n",
       "    }\n",
       "\n",
       "    .dataframe thead th {\n",
       "        text-align: right;\n",
       "    }\n",
       "</style>\n",
       "<table border=\"1\" class=\"dataframe\">\n",
       "  <thead>\n",
       "    <tr style=\"text-align: right;\">\n",
       "      <th></th>\n",
       "      <th>Order ID</th>\n",
       "      <th>Original Price</th>\n",
       "      <th>Username (Buyer)</th>\n",
       "      <th>Product Name</th>\n",
       "      <th>product_id</th>\n",
       "    </tr>\n",
       "  </thead>\n",
       "  <tbody>\n",
       "    <tr>\n",
       "      <th>0</th>\n",
       "      <td>210701QSRHFY5W</td>\n",
       "      <td>15.8</td>\n",
       "      <td>iralia7801</td>\n",
       "      <td>Hot Magnetic Back Support Brace Belt Lumbar Lo...</td>\n",
       "      <td>8406662315</td>\n",
       "    </tr>\n",
       "    <tr>\n",
       "      <th>1</th>\n",
       "      <td>210708D2XTB5TJ</td>\n",
       "      <td>15.8</td>\n",
       "      <td>z8852ay3gp</td>\n",
       "      <td>Hot Magnetic Back Support Brace Belt Lumbar Lo...</td>\n",
       "      <td>8406662315</td>\n",
       "    </tr>\n",
       "    <tr>\n",
       "      <th>2</th>\n",
       "      <td>210725SHRE6FM4</td>\n",
       "      <td>9.9</td>\n",
       "      <td>6ltmsjbpw2</td>\n",
       "      <td>Hot Magnetic Back Support Brace Belt Lumbar Lo...</td>\n",
       "      <td>8406662315</td>\n",
       "    </tr>\n",
       "    <tr>\n",
       "      <th>3</th>\n",
       "      <td>211002RFG2874R</td>\n",
       "      <td>9.9</td>\n",
       "      <td>obuia9a4kv</td>\n",
       "      <td>Hot Magnetic Back Support Brace Belt Lumbar Lo...</td>\n",
       "      <td>8406662315</td>\n",
       "    </tr>\n",
       "    <tr>\n",
       "      <th>4</th>\n",
       "      <td>21100545WNFN2V</td>\n",
       "      <td>9.9</td>\n",
       "      <td>ahliahyunos</td>\n",
       "      <td>Hot Magnetic Back Support Brace Belt Lumbar Lo...</td>\n",
       "      <td>8406662315</td>\n",
       "    </tr>\n",
       "  </tbody>\n",
       "</table>\n",
       "</div>"
      ],
      "text/plain": [
       "         Order ID  Original Price Username (Buyer)  \\\n",
       "0  210701QSRHFY5W            15.8       iralia7801   \n",
       "1  210708D2XTB5TJ            15.8       z8852ay3gp   \n",
       "2  210725SHRE6FM4             9.9       6ltmsjbpw2   \n",
       "3  211002RFG2874R             9.9       obuia9a4kv   \n",
       "4  21100545WNFN2V             9.9      ahliahyunos   \n",
       "\n",
       "                                        Product Name  product_id  \n",
       "0  Hot Magnetic Back Support Brace Belt Lumbar Lo...  8406662315  \n",
       "1  Hot Magnetic Back Support Brace Belt Lumbar Lo...  8406662315  \n",
       "2  Hot Magnetic Back Support Brace Belt Lumbar Lo...  8406662315  \n",
       "3  Hot Magnetic Back Support Brace Belt Lumbar Lo...  8406662315  \n",
       "4  Hot Magnetic Back Support Brace Belt Lumbar Lo...  8406662315  "
      ]
     },
     "execution_count": 14,
     "metadata": {},
     "output_type": "execute_result"
    }
   ],
   "source": [
    "processed_transaction_data.head()"
   ]
  },
  {
   "cell_type": "code",
   "execution_count": 15,
   "id": "6b44ac6c-75b4-4732-a34e-feed531cf03d",
   "metadata": {},
   "outputs": [],
   "source": [
    "interaction_data,user_id_mapping, item_id_mapping = transform_transaction_to_interaction_data(processed_transaction_data, USER_ID_COL, ITEM_ID_COL, TRANSACTION_TO_INTERACTION_MAPPING, RATING_COL)"
   ]
  },
  {
   "cell_type": "code",
   "execution_count": 50,
   "id": "228dffc4-8027-48af-8e5c-2228cc99b6fa",
   "metadata": {},
   "outputs": [
    {
     "data": {
      "text/html": [
       "<div>\n",
       "<style scoped>\n",
       "    .dataframe tbody tr th:only-of-type {\n",
       "        vertical-align: middle;\n",
       "    }\n",
       "\n",
       "    .dataframe tbody tr th {\n",
       "        vertical-align: top;\n",
       "    }\n",
       "\n",
       "    .dataframe thead th {\n",
       "        text-align: right;\n",
       "    }\n",
       "</style>\n",
       "<table border=\"1\" class=\"dataframe\">\n",
       "  <thead>\n",
       "    <tr style=\"text-align: right;\">\n",
       "      <th></th>\n",
       "      <th>user_id</th>\n",
       "      <th>item_id</th>\n",
       "      <th>rating</th>\n",
       "    </tr>\n",
       "  </thead>\n",
       "  <tbody>\n",
       "    <tr>\n",
       "      <th>0</th>\n",
       "      <td>.naminani_</td>\n",
       "      <td>12009015584</td>\n",
       "      <td>1</td>\n",
       "    </tr>\n",
       "    <tr>\n",
       "      <th>1</th>\n",
       "      <td>.xinyi.89</td>\n",
       "      <td>15886095522</td>\n",
       "      <td>1</td>\n",
       "    </tr>\n",
       "    <tr>\n",
       "      <th>2</th>\n",
       "      <td>00dwnptymc</td>\n",
       "      <td>10690827974</td>\n",
       "      <td>1</td>\n",
       "    </tr>\n",
       "    <tr>\n",
       "      <th>3</th>\n",
       "      <td>02utgw4m43</td>\n",
       "      <td>21837443125</td>\n",
       "      <td>1</td>\n",
       "    </tr>\n",
       "    <tr>\n",
       "      <th>4</th>\n",
       "      <td>02ynohtnakram</td>\n",
       "      <td>12192722728</td>\n",
       "      <td>1</td>\n",
       "    </tr>\n",
       "    <tr>\n",
       "      <th>...</th>\n",
       "      <td>...</td>\n",
       "      <td>...</td>\n",
       "      <td>...</td>\n",
       "    </tr>\n",
       "    <tr>\n",
       "      <th>8128</th>\n",
       "      <td>zygardo</td>\n",
       "      <td>13671455179</td>\n",
       "      <td>1</td>\n",
       "    </tr>\n",
       "    <tr>\n",
       "      <th>8129</th>\n",
       "      <td>zyza208</td>\n",
       "      <td>20901098335</td>\n",
       "      <td>1</td>\n",
       "    </tr>\n",
       "    <tr>\n",
       "      <th>8130</th>\n",
       "      <td>zziplex</td>\n",
       "      <td>20901098335</td>\n",
       "      <td>1</td>\n",
       "    </tr>\n",
       "    <tr>\n",
       "      <th>8131</th>\n",
       "      <td>zzzaharazzz</td>\n",
       "      <td>13671455179</td>\n",
       "      <td>1</td>\n",
       "    </tr>\n",
       "    <tr>\n",
       "      <th>8132</th>\n",
       "      <td>zzzmon5ter</td>\n",
       "      <td>5834933106</td>\n",
       "      <td>1</td>\n",
       "    </tr>\n",
       "  </tbody>\n",
       "</table>\n",
       "<p>8133 rows × 3 columns</p>\n",
       "</div>"
      ],
      "text/plain": [
       "            user_id      item_id  rating\n",
       "0        .naminani_  12009015584       1\n",
       "1         .xinyi.89  15886095522       1\n",
       "2        00dwnptymc  10690827974       1\n",
       "3        02utgw4m43  21837443125       1\n",
       "4     02ynohtnakram  12192722728       1\n",
       "...             ...          ...     ...\n",
       "8128        zygardo  13671455179       1\n",
       "8129        zyza208  20901098335       1\n",
       "8130        zziplex  20901098335       1\n",
       "8131    zzzaharazzz  13671455179       1\n",
       "8132     zzzmon5ter   5834933106       1\n",
       "\n",
       "[8133 rows x 3 columns]"
      ]
     },
     "execution_count": 50,
     "metadata": {},
     "output_type": "execute_result"
    }
   ],
   "source": [
    "interaction_data"
   ]
  },
  {
   "cell_type": "code",
   "execution_count": 16,
   "id": "409d6813-20ab-4772-800e-44ec6cb083ec",
   "metadata": {},
   "outputs": [
    {
     "data": {
      "text/html": [
       "<div>\n",
       "<style scoped>\n",
       "    .dataframe tbody tr th:only-of-type {\n",
       "        vertical-align: middle;\n",
       "    }\n",
       "\n",
       "    .dataframe tbody tr th {\n",
       "        vertical-align: top;\n",
       "    }\n",
       "\n",
       "    .dataframe thead th {\n",
       "        text-align: right;\n",
       "    }\n",
       "</style>\n",
       "<table border=\"1\" class=\"dataframe\">\n",
       "  <thead>\n",
       "    <tr style=\"text-align: right;\">\n",
       "      <th></th>\n",
       "      <th>user_id</th>\n",
       "      <th>item_id</th>\n",
       "      <th>rating</th>\n",
       "    </tr>\n",
       "  </thead>\n",
       "  <tbody>\n",
       "    <tr>\n",
       "      <th>0</th>\n",
       "      <td>.naminani_</td>\n",
       "      <td>12009015584</td>\n",
       "      <td>1</td>\n",
       "    </tr>\n",
       "    <tr>\n",
       "      <th>1</th>\n",
       "      <td>.xinyi.89</td>\n",
       "      <td>15886095522</td>\n",
       "      <td>1</td>\n",
       "    </tr>\n",
       "    <tr>\n",
       "      <th>2</th>\n",
       "      <td>00dwnptymc</td>\n",
       "      <td>10690827974</td>\n",
       "      <td>4</td>\n",
       "    </tr>\n",
       "    <tr>\n",
       "      <th>3</th>\n",
       "      <td>02utgw4m43</td>\n",
       "      <td>21837443125</td>\n",
       "      <td>1</td>\n",
       "    </tr>\n",
       "    <tr>\n",
       "      <th>4</th>\n",
       "      <td>02ynohtnakram</td>\n",
       "      <td>12192722728</td>\n",
       "      <td>1</td>\n",
       "    </tr>\n",
       "  </tbody>\n",
       "</table>\n",
       "</div>"
      ],
      "text/plain": [
       "         user_id      item_id  rating\n",
       "0     .naminani_  12009015584       1\n",
       "1      .xinyi.89  15886095522       1\n",
       "2     00dwnptymc  10690827974       4\n",
       "3     02utgw4m43  21837443125       1\n",
       "4  02ynohtnakram  12192722728       1"
      ]
     },
     "execution_count": 16,
     "metadata": {},
     "output_type": "execute_result"
    }
   ],
   "source": [
    "interaction_data.head()"
   ]
  },
  {
   "cell_type": "code",
   "execution_count": 17,
   "id": "e5c454c5-89d4-498a-915c-ace178c8e371",
   "metadata": {},
   "outputs": [],
   "source": [
    "processed_interaction_data  = clean_interaction_data(interaction_data, USER_ID_COL, ITEM_ID_COL, RATING_COL, MIN_UNIQUE_PURCHASES)"
   ]
  },
  {
   "cell_type": "code",
   "execution_count": 59,
   "id": "1400d88c-248d-4721-bc58-2d2354161318",
   "metadata": {},
   "outputs": [
    {
     "data": {
      "text/plain": [
       "int"
      ]
     },
     "execution_count": 59,
     "metadata": {},
     "output_type": "execute_result"
    }
   ],
   "source": [
    "type(processed_interaction_data.iloc[0,1].item())"
   ]
  },
  {
   "cell_type": "code",
   "execution_count": 62,
   "id": "96be7be2-21e5-4fc3-8210-eb39f5aa0f3f",
   "metadata": {},
   "outputs": [],
   "source": [
    "tmp = processed_interaction_data.item_id.apply(lambda ID: ID if isinstance(ID, int) else ID.item())"
   ]
  },
  {
   "cell_type": "code",
   "execution_count": 67,
   "id": "74dee7d1-adc3-4f08-b2e7-3a081a2e45d9",
   "metadata": {},
   "outputs": [
    {
     "data": {
      "text/plain": [
       "int"
      ]
     },
     "execution_count": 67,
     "metadata": {},
     "output_type": "execute_result"
    }
   ],
   "source": [
    "type(int(tmp[0]))"
   ]
  },
  {
   "cell_type": "code",
   "execution_count": 55,
   "id": "3d696688-e9c4-4b2a-ab08-06848ff545cc",
   "metadata": {},
   "outputs": [
    {
     "data": {
      "text/plain": [
       "0         1cp2upf59l\n",
       "1         1cp2upf59l\n",
       "2         1cp2upf59l\n",
       "3         1cp2upf59l\n",
       "4         1cp2upf59l\n",
       "            ...     \n",
       "1617    zubaidahraup\n",
       "1618    zubaidahraup\n",
       "1619         zvimyrl\n",
       "1620         zvimyrl\n",
       "1621         zvimyrl\n",
       "Name: user_id, Length: 1622, dtype: object"
      ]
     },
     "execution_count": 55,
     "metadata": {},
     "output_type": "execute_result"
    }
   ],
   "source": [
    "processed_interaction_data.user_id.astype(str)"
   ]
  },
  {
   "cell_type": "code",
   "execution_count": 52,
   "id": "2b41ec3d-4f7c-473a-b97a-105dffffe7bc",
   "metadata": {},
   "outputs": [
    {
     "data": {
      "text/plain": [
       "user_id    object\n",
       "item_id     int64\n",
       "rating      int64\n",
       "dtype: object"
      ]
     },
     "execution_count": 52,
     "metadata": {},
     "output_type": "execute_result"
    }
   ],
   "source": [
    "processed_interaction_data.dtypes"
   ]
  },
  {
   "cell_type": "markdown",
   "id": "525f9b22-2e7f-417e-b2d0-b2f1c7da300c",
   "metadata": {},
   "source": [
    "### Data Statistics\n",
    "- After converting the interaction data to warm, the number of interactions drop drastically. \n",
    "    - meaning that most users that purchases items from this shop are new users\n",
    "    - each user will have at least MIN_UNIQUE_PURCHASES unique item purchases "
   ]
  },
  {
   "cell_type": "code",
   "execution_count": 19,
   "id": "9b26d993-6701-42a0-bd5d-d271334211e0",
   "metadata": {},
   "outputs": [
    {
     "name": "stdout",
     "output_type": "stream",
     "text": [
      "\n",
      "        Total Interactions: 8133\n",
      "        Unique Users: 7222\n",
      "        Unique Items: 248\n",
      "        \n"
     ]
    }
   ],
   "source": [
    "show_dataset_stats(interaction_data)"
   ]
  },
  {
   "cell_type": "code",
   "execution_count": 20,
   "id": "199e7ccc-3449-40ef-9110-697b50a10db7",
   "metadata": {},
   "outputs": [
    {
     "name": "stdout",
     "output_type": "stream",
     "text": [
      "\n",
      "        Total Interactions: 1622\n",
      "        Unique Users: 711\n",
      "        Unique Items: 171\n",
      "        \n"
     ]
    }
   ],
   "source": [
    "show_dataset_stats(processed_interaction_data)"
   ]
  },
  {
   "cell_type": "code",
   "execution_count": 21,
   "id": "0cb82e91-b09c-419f-afb6-030d06bae27c",
   "metadata": {},
   "outputs": [
    {
     "data": {
      "text/plain": [
       "weirdyellow           12\n",
       "54bakery               8\n",
       "alexsanzo              7\n",
       "bignphat               7\n",
       "ms.idaa89              6\n",
       "                      ..\n",
       "jolenetong95           2\n",
       "josephchua123          2\n",
       "ashiethamrinsayson     2\n",
       "joytan74               2\n",
       "maxdriller             2\n",
       "Name: user_id, Length: 711, dtype: int64"
      ]
     },
     "execution_count": 21,
     "metadata": {},
     "output_type": "execute_result"
    }
   ],
   "source": [
    "processed_interaction_data[USER_ID_COL].value_counts()"
   ]
  },
  {
   "cell_type": "markdown",
   "id": "aa2babf3-0f48-42f6-9dab-629982d2c454",
   "metadata": {
    "tags": []
   },
   "source": [
    "### Train and Test Processing\n",
    "- Since user have at least 2 interactions we perform a 50/50 stratified split on the user"
   ]
  },
  {
   "cell_type": "code",
   "execution_count": 22,
   "id": "4587aea0-6f9f-439b-91f7-460ce0b8651e",
   "metadata": {},
   "outputs": [],
   "source": [
    "train, test = python_stratified_split(processed_interaction_data, ratio=SPLIT_RATIO,\n",
    "                                      min_rating=1, filter_by='user', \n",
    "                                      col_user=USER_ID_COL, col_item=ITEM_ID_COL, \n",
    "                                      seed=SEED)"
   ]
  },
  {
   "cell_type": "code",
   "execution_count": 23,
   "id": "ab94cdad-204a-4014-9e3a-2c9dc0d5a8a4",
   "metadata": {},
   "outputs": [
    {
     "name": "stdout",
     "output_type": "stream",
     "text": [
      "\n",
      "        Total Interactions: 853\n",
      "        Unique Users: 711\n",
      "        Unique Items: 151\n",
      "        \n"
     ]
    }
   ],
   "source": [
    "show_dataset_stats(train)"
   ]
  },
  {
   "cell_type": "code",
   "execution_count": 24,
   "id": "78e26464-fafd-4431-9b7a-5fe8faddd2a8",
   "metadata": {},
   "outputs": [
    {
     "name": "stdout",
     "output_type": "stream",
     "text": [
      "\n",
      "        Total Interactions: 769\n",
      "        Unique Users: 711\n",
      "        Unique Items: 107\n",
      "        \n"
     ]
    }
   ],
   "source": [
    "show_dataset_stats(test)"
   ]
  },
  {
   "cell_type": "code",
   "execution_count": 4,
   "id": "38569be7-dcdd-456b-a1fb-425ed6750bd4",
   "metadata": {},
   "outputs": [],
   "source": [
    "# test.to_pickle(r\"C:\\Users\\tanch\\Documents\\NTU\\NTU Year 4\\FYP - GNN\\data\\shopee-20221117T041452Z-001\\interaction data\\test.pkl\")\n",
    "# train.to_pickle(r\"C:\\Users\\tanch\\Documents\\NTU\\NTU Year 4\\FYP - GNN\\data\\shopee-20221117T041452Z-001\\interaction data\\train.pkl\")"
   ]
  },
  {
   "cell_type": "code",
   "execution_count": 6,
   "id": "a52e08cb-d4c4-4833-a662-cf913997d117",
   "metadata": {},
   "outputs": [],
   "source": [
    "train = pd.read_pickle(r\"C:\\Users\\tanch\\Documents\\NTU\\NTU Year 4\\FYP - GNN\\data\\shopee-20221117T041452Z-001\\interaction data\\train.pkl\")\n",
    "test = pd.read_pickle(r\"C:\\Users\\tanch\\Documents\\NTU\\NTU Year 4\\FYP - GNN\\data\\shopee-20221117T041452Z-001\\interaction data\\test.pkl\")"
   ]
  },
  {
   "cell_type": "markdown",
   "id": "b3c0aaf9-3d61-4f0f-831f-37692da47384",
   "metadata": {},
   "source": [
    "## Model Training and Evaluation: SAR"
   ]
  },
  {
   "cell_type": "code",
   "execution_count": 25,
   "id": "47cdc4bf-754f-4b1e-a1cc-ef89d7ff9408",
   "metadata": {
    "tags": []
   },
   "outputs": [],
   "source": [
    "# Similarity types: [\"cooccurrence\" | \"cosine\" | \"inclusion index\" | \"jaccard\" | \"lift\" | \"mutual information\" | \"lexicographers mutual information\"]\n",
    "model_sar = SAR(\n",
    "    col_user=USER_ID_COL,\n",
    "    col_item=ITEM_ID_COL,\n",
    "    col_rating=RATING_COL,\n",
    "    # col_timestamp=COL_TIMESTAMP,\n",
    "    similarity_type=\"jaccard\", \n",
    "    time_decay_coefficient=30, \n",
    "    timedecay_formula=False,\n",
    "    normalize=False\n",
    ")"
   ]
  },
  {
   "cell_type": "code",
   "execution_count": 26,
   "id": "41c33d5a-9dc9-4226-b521-ba32fec80f78",
   "metadata": {},
   "outputs": [],
   "source": [
    "# with Timer() as train_time:\n",
    "model_sar.fit(train)"
   ]
  },
  {
   "cell_type": "code",
   "execution_count": 27,
   "id": "74294cae-6511-41a6-91ad-cca215bbcbef",
   "metadata": {
    "tags": []
   },
   "outputs": [
    {
     "data": {
      "text/plain": [
       "0.03530239099859353"
      ]
     },
     "execution_count": 27,
     "metadata": {},
     "output_type": "execute_result"
    }
   ],
   "source": [
    "top_k = model_sar.recommend_k_items(test, top_k=TOP_K, remove_seen=True)\n",
    "eval_precision = precision_at_k(test, top_k, col_user=USER_ID_COL, col_item=ITEM_ID_COL, col_rating=RATING_COL, k=TOP_K)\n",
    "eval_precision   "
   ]
  },
  {
   "cell_type": "code",
   "execution_count": 25,
   "id": "7396b300-4f12-4aaf-a655-5c64aa59193f",
   "metadata": {},
   "outputs": [],
   "source": [
    "save_sar(model_sar, \n",
    "         MODEL_DIR,\n",
    "         \"arietes-sar\")"
   ]
  },
  {
   "cell_type": "code",
   "execution_count": 26,
   "id": "690be2b7-8632-4a05-8fca-1bf5ff6a4c20",
   "metadata": {},
   "outputs": [],
   "source": [
    "sar_load(model_sar, r\"C:\\Users\\tanch\\Documents\\NTU\\NTU Year 4\\FYP - GNN\\Recommender API\\deploy-fastapi-recommendation-system\\src\\api\\models\\arietes-sar\")"
   ]
  },
  {
   "cell_type": "markdown",
   "id": "c704f983-ae3d-4331-a1a3-b4d5f0f2247e",
   "metadata": {},
   "source": [
    "## Train and Evaluate: Popularity Recommender"
   ]
  },
  {
   "cell_type": "code",
   "execution_count": 27,
   "id": "0f0999ad-b6a4-4a3d-8f63-a8a433144736",
   "metadata": {},
   "outputs": [],
   "source": [
    "def construct_popular_predictions_table(test, model, top_k):\n",
    "    user_ids = test.user_id.unique()\n",
    "    popular_items = model.get_popularity_based_topk(top_k = top_k)\n",
    "    output = pd.DataFrame()\n",
    "    for user_id in user_ids:\n",
    "        popular_items[\"user_id\"] = user_id\n",
    "        output = pd.concat([output, popular_items], axis = 0)\n",
    "    return output"
   ]
  },
  {
   "cell_type": "code",
   "execution_count": 61,
   "id": "044122f1-d415-4e93-82ae-67fdcc42c8fd",
   "metadata": {},
   "outputs": [
    {
     "data": {
      "text/plain": [
       "0.021940928270042192"
      ]
     },
     "execution_count": 61,
     "metadata": {},
     "output_type": "execute_result"
    }
   ],
   "source": [
    "top_k = construct_popular_predictions_table(test = test, model = model_sar, top_k = TOP_K)\n",
    "eval_precision = precision_at_k(test, top_k, col_user=USER_ID_COL, col_item=ITEM_ID_COL, col_rating=RATING_COL, k=TOP_K)\n",
    "eval_precision  "
   ]
  },
  {
   "cell_type": "markdown",
   "id": "2a551efa-2eda-4efd-90fe-85a5150e8170",
   "metadata": {
    "tags": []
   },
   "source": [
    "## Train and Evaluate: LightGCN"
   ]
  },
  {
   "cell_type": "code",
   "execution_count": 16,
   "id": "b79ad182-ac2d-4347-9838-4e2c148ba959",
   "metadata": {},
   "outputs": [],
   "source": [
    "yaml_file = r\"./lightgcn.yml\"\n",
    "save_model = False\n",
    "save_epoch = 50"
   ]
  },
  {
   "cell_type": "code",
   "execution_count": 17,
   "id": "d81d24a3-84cc-4490-85dd-a470f8954987",
   "metadata": {},
   "outputs": [
    {
     "name": "stderr",
     "output_type": "stream",
     "text": [
      "C:\\Users\\tanch\\anaconda3\\envs\\fyp1\\lib\\site-packages\\recommenders\\models\\deeprec\\DataModel\\ImplicitCF.py:73: FutureWarning: The frame.append method is deprecated and will be removed from pandas in a future version. Use pandas.concat instead.\n",
      "  df = train if test is None else train.append(test)\n"
     ]
    }
   ],
   "source": [
    "data = ImplicitCF(train = train, test=test, \n",
    "                  adj_dir=None, \n",
    "                  col_user=USER_ID_COL, col_item=ITEM_ID_COL, \n",
    "                  col_rating = RATING_COL,\n",
    "                  seed=SEED)"
   ]
  },
  {
   "cell_type": "code",
   "execution_count": 18,
   "id": "c2565a4b-bec6-4adf-a5fd-5ebd0bedb8de",
   "metadata": {},
   "outputs": [],
   "source": [
    "loss_type = \"AmpBPR2\"\n",
    "# loss_type = \"OriginalBPR\"\n",
    "# loss_type = \"AmpBPR2\"\n",
    "loss_neg_weight = 1.9\n",
    "log_wandb = False"
   ]
  },
  {
   "cell_type": "code",
   "execution_count": 19,
   "id": "321fe572-82a4-4fd6-8194-49779f4a2bb3",
   "metadata": {
    "tags": []
   },
   "outputs": [
    {
     "name": "stdout",
     "output_type": "stream",
     "text": [
      "Already create adjacency matrix.\n",
      "Already normalize adjacency matrix.\n",
      "Using xavier initialization.\n"
     ]
    }
   ],
   "source": [
    "hparams = prepare_hparams(yaml_file,\n",
    "                              n_layers=2,\n",
    "                              loss_type = loss_type, \n",
    "                              loss_neg_weight = loss_neg_weight, \n",
    "                              log_wandb = log_wandb,\n",
    "                              batch_size=BATCH_SIZE,\n",
    "                              epochs=50,\n",
    "                              learning_rate=0.01,\n",
    "                              eval_epoch=1,\n",
    "                              top_k=TOP_K,\n",
    "                              COL_USER = USER_ID_COL,\n",
    "                              COL_ITEM = ITEM_ID_COL,\n",
    "                              COL_RATING = RATING_COL,\n",
    "                              save_model = save_model,\n",
    "                            save_epoch = save_epoch,\n",
    "                            MODEL_DIR = MODEL_DIR\n",
    "                              )\n",
    "# initiate model\n",
    "model = LightGCN(hparams, data, seed=SEED)"
   ]
  },
  {
   "cell_type": "code",
   "execution_count": 14,
   "id": "65db1734-f25c-41ee-9a9b-c7441efe6c72",
   "metadata": {},
   "outputs": [],
   "source": [
    "hparams = prepare_hparams(yaml_file,\n",
    "                              n_layers=2,\n",
    "                              loss_type = loss_type, \n",
    "                              loss_neg_weight = loss_neg_weight, \n",
    "                              log_wandb = log_wandb,\n",
    "                              batch_size=BATCH_SIZE,\n",
    "                              epochs=50,\n",
    "                              learning_rate=0.01,\n",
    "                              eval_epoch=1,\n",
    "                              top_k=TOP_K,\n",
    "                              COL_USER = USER_ID_COL,\n",
    "                              COL_ITEM = ITEM_ID_COL,\n",
    "                              COL_RATING = RATING_COL,\n",
    "                              save_model = save_model,\n",
    "                            save_epoch = save_epoch,\n",
    "                            MODEL_DIR = MODEL_DIR\n",
    "                              )"
   ]
  },
  {
   "cell_type": "code",
   "execution_count": null,
   "id": "d738f295-154e-456d-a99e-e8f1bf839bb9",
   "metadata": {},
   "outputs": [],
   "source": [
    "model = LightGCN(hparams, data = None, seed=SEED)"
   ]
  },
  {
   "cell_type": "code",
   "execution_count": 23,
   "id": "ce43763c-3442-4547-a0a5-887dce17e2bf",
   "metadata": {},
   "outputs": [
    {
     "data": {
      "text/plain": [
       "<tensorflow.python.client.session.Session at 0x12d39e2ae80>"
      ]
     },
     "execution_count": 23,
     "metadata": {},
     "output_type": "execute_result"
    }
   ],
   "source": [
    "model.sess"
   ]
  },
  {
   "cell_type": "code",
   "execution_count": 20,
   "id": "70b6a097-6739-4949-9536-b1315ca52931",
   "metadata": {
    "tags": []
   },
   "outputs": [
    {
     "name": "stdout",
     "output_type": "stream",
     "text": [
      "Epoch 1 (train)0.1s + (eval)0.0s: train loss = 0.68038 = (mf)0.68034 + (embed)0.00004, precision = 0.00703\n",
      "Epoch 2 (train)0.0s + (eval)0.0s: train loss = 0.67198 = (mf)0.67194 + (embed)0.00004, precision = 0.00886\n",
      "Epoch 3 (train)0.0s + (eval)0.0s: train loss = 0.65997 = (mf)0.65993 + (embed)0.00004, precision = 0.01378\n",
      "Epoch 4 (train)0.0s + (eval)0.0s: train loss = 0.64632 = (mf)0.64627 + (embed)0.00005, precision = 0.02082\n",
      "Epoch 5 (train)0.0s + (eval)0.0s: train loss = 0.62776 = (mf)0.62770 + (embed)0.00005, precision = 0.02714\n",
      "Epoch 6 (train)0.0s + (eval)0.0s: train loss = 0.60972 = (mf)0.60966 + (embed)0.00006, precision = 0.02968\n",
      "Epoch 7 (train)0.0s + (eval)0.0s: train loss = 0.58550 = (mf)0.58543 + (embed)0.00007, precision = 0.03038\n",
      "Epoch 8 (train)0.0s + (eval)0.0s: train loss = 0.56436 = (mf)0.56428 + (embed)0.00007, precision = 0.03066\n",
      "Epoch 9 (train)0.0s + (eval)0.0s: train loss = 0.53338 = (mf)0.53329 + (embed)0.00008, precision = 0.03094\n",
      "Epoch 10 (train)0.0s + (eval)0.0s: train loss = 0.50020 = (mf)0.50011 + (embed)0.00009, precision = 0.03122\n",
      "Epoch 11 (train)0.0s + (eval)0.0s: train loss = 0.47872 = (mf)0.47862 + (embed)0.00010, precision = 0.03080\n",
      "Epoch 12 (train)0.0s + (eval)0.0s: train loss = 0.43880 = (mf)0.43869 + (embed)0.00011, precision = 0.03108\n",
      "Epoch 13 (train)0.0s + (eval)0.0s: train loss = 0.41237 = (mf)0.41225 + (embed)0.00012, precision = 0.03108\n",
      "Epoch 14 (train)0.0s + (eval)0.0s: train loss = 0.38300 = (mf)0.38287 + (embed)0.00013, precision = 0.03150\n",
      "Epoch 15 (train)0.0s + (eval)0.0s: train loss = 0.34977 = (mf)0.34963 + (embed)0.00014, precision = 0.03165\n",
      "Epoch 16 (train)0.0s + (eval)0.0s: train loss = 0.32469 = (mf)0.32454 + (embed)0.00016, precision = 0.03165\n",
      "Epoch 17 (train)0.0s + (eval)0.0s: train loss = 0.29493 = (mf)0.29476 + (embed)0.00017, precision = 0.03165\n",
      "Epoch 18 (train)0.0s + (eval)0.0s: train loss = 0.28091 = (mf)0.28073 + (embed)0.00018, precision = 0.03221\n",
      "Epoch 19 (train)0.0s + (eval)0.0s: train loss = 0.25672 = (mf)0.25652 + (embed)0.00020, precision = 0.03277\n",
      "Epoch 20 (train)0.0s + (eval)0.0s: train loss = 0.24950 = (mf)0.24929 + (embed)0.00021, precision = 0.03305\n",
      "Epoch 21 (train)0.0s + (eval)0.0s: train loss = 0.22499 = (mf)0.22477 + (embed)0.00023, precision = 0.03305\n",
      "Epoch 22 (train)0.0s + (eval)0.0s: train loss = 0.20612 = (mf)0.20588 + (embed)0.00024, precision = 0.03333\n",
      "Epoch 23 (train)0.0s + (eval)0.0s: train loss = 0.19369 = (mf)0.19343 + (embed)0.00026, precision = 0.03361\n",
      "Epoch 24 (train)0.0s + (eval)0.0s: train loss = 0.17578 = (mf)0.17551 + (embed)0.00027, precision = 0.03376\n",
      "Epoch 25 (train)0.0s + (eval)0.0s: train loss = 0.16575 = (mf)0.16546 + (embed)0.00029, precision = 0.03376\n",
      "Epoch 26 (train)0.0s + (eval)0.0s: train loss = 0.14732 = (mf)0.14701 + (embed)0.00031, precision = 0.03376\n",
      "Epoch 27 (train)0.0s + (eval)0.0s: train loss = 0.13354 = (mf)0.13321 + (embed)0.00033, precision = 0.03404\n",
      "Epoch 28 (train)0.0s + (eval)0.0s: train loss = 0.12964 = (mf)0.12930 + (embed)0.00034, precision = 0.03418\n",
      "Epoch 29 (train)0.0s + (eval)0.0s: train loss = 0.12253 = (mf)0.12218 + (embed)0.00035, precision = 0.03390\n",
      "Epoch 30 (train)0.0s + (eval)0.0s: train loss = 0.10820 = (mf)0.10783 + (embed)0.00037, precision = 0.03390\n",
      "Epoch 31 (train)0.0s + (eval)0.0s: train loss = 0.10438 = (mf)0.10399 + (embed)0.00039, precision = 0.03390\n",
      "Epoch 32 (train)0.0s + (eval)0.0s: train loss = 0.09524 = (mf)0.09483 + (embed)0.00041, precision = 0.03404\n",
      "Epoch 33 (train)0.0s + (eval)0.0s: train loss = 0.09193 = (mf)0.09151 + (embed)0.00042, precision = 0.03418\n",
      "Epoch 34 (train)0.0s + (eval)0.0s: train loss = 0.08053 = (mf)0.08009 + (embed)0.00044, precision = 0.03418\n",
      "Epoch 35 (train)0.0s + (eval)0.0s: train loss = 0.07372 = (mf)0.07327 + (embed)0.00045, precision = 0.03418\n",
      "Epoch 36 (train)0.0s + (eval)0.0s: train loss = 0.06572 = (mf)0.06525 + (embed)0.00047, precision = 0.03432\n",
      "Epoch 37 (train)0.0s + (eval)0.0s: train loss = 0.05711 = (mf)0.05663 + (embed)0.00048, precision = 0.03432\n",
      "Epoch 38 (train)0.0s + (eval)0.0s: train loss = 0.06222 = (mf)0.06172 + (embed)0.00049, precision = 0.03418\n",
      "Epoch 39 (train)0.0s + (eval)0.0s: train loss = 0.06037 = (mf)0.05986 + (embed)0.00051, precision = 0.03418\n",
      "Epoch 40 (train)0.0s + (eval)0.0s: train loss = 0.05352 = (mf)0.05300 + (embed)0.00052, precision = 0.03432\n",
      "Epoch 41 (train)0.0s + (eval)0.0s: train loss = 0.06010 = (mf)0.05957 + (embed)0.00053, precision = 0.03432\n",
      "Epoch 42 (train)0.0s + (eval)0.0s: train loss = 0.05076 = (mf)0.05021 + (embed)0.00055, precision = 0.03432\n",
      "Epoch 43 (train)0.0s + (eval)0.0s: train loss = 0.04391 = (mf)0.04335 + (embed)0.00056, precision = 0.03432\n",
      "Epoch 44 (train)0.0s + (eval)0.0s: train loss = 0.04683 = (mf)0.04626 + (embed)0.00057, precision = 0.03404\n",
      "Epoch 45 (train)0.0s + (eval)0.0s: train loss = 0.05001 = (mf)0.04943 + (embed)0.00058, precision = 0.03390\n",
      "Epoch 46 (train)0.0s + (eval)0.0s: train loss = 0.03780 = (mf)0.03720 + (embed)0.00059, precision = 0.03390\n",
      "Epoch 47 (train)0.0s + (eval)0.0s: train loss = 0.03726 = (mf)0.03666 + (embed)0.00059, precision = 0.03390\n",
      "Epoch 48 (train)0.0s + (eval)0.0s: train loss = 0.03926 = (mf)0.03865 + (embed)0.00061, precision = 0.03376\n",
      "Epoch 49 (train)0.0s + (eval)0.0s: train loss = 0.03791 = (mf)0.03729 + (embed)0.00062, precision = 0.03361\n",
      "Epoch 50 (train)0.0s + (eval)0.0s: train loss = 0.03374 = (mf)0.03311 + (embed)0.00062, precision = 0.03347\n"
     ]
    }
   ],
   "source": [
    "model.fit()"
   ]
  },
  {
   "cell_type": "markdown",
   "id": "2fa99f68-462d-43d8-9a60-77e2dba307b3",
   "metadata": {},
   "source": [
    "## Comparison\n",
    "- Similarities with ML100k:\n",
    "    - Both SAR and LightGCN improves on Populairty recommender\n",
    "    \n",
    "- Differences with ML100k:\n",
    "    - SAR performed better than LightGCN\n",
    "\n",
    "- What we can learn is that both **CF recommenders can improve upon Simple Popularity recommendation**. That means that, if popularity recommendation achieves a score of 0.2 precision@10, we can expect the CF recommenders to improve to let's say 0.25~. But if popularity recommendation achieves a score of only 0.02, then we can expect CF recommenders to improve performances to say only 0.03. **Depending on the type and size of datasets, we can expect vastly different performances**. It is inconclusive as to whether SAR or LightGCN performs better, **different algorithms perform differently depending on the dataset**"
   ]
  },
  {
   "cell_type": "code",
   "execution_count": 62,
   "id": "da1b486f-7a31-4916-a756-3ff8593df36e",
   "metadata": {},
   "outputs": [],
   "source": [
    "import seaborn as sb"
   ]
  },
  {
   "cell_type": "code",
   "execution_count": 63,
   "id": "c1f8b4bd-8cf2-445c-b89d-5596f17c87e7",
   "metadata": {},
   "outputs": [],
   "source": [
    "precison_tmp = {\n",
    "    \"LightGCN\":0.03305, \n",
    "    \"SAR\":0.03530239099859353,\n",
    "    \"Popularity\":0.021940928270042192\n",
    "}   "
   ]
  },
  {
   "cell_type": "code",
   "execution_count": 64,
   "id": "fb5338b5-cbc2-48ac-99cb-662bbb1c5767",
   "metadata": {},
   "outputs": [
    {
     "data": {
      "text/plain": [
       "[Text(0.5, 0, 'Precision@10')]"
      ]
     },
     "execution_count": 64,
     "metadata": {},
     "output_type": "execute_result"
    },
    {
     "data": {
      "image/png": "[encoded data removed]",
      "text/plain": [
       "<Figure size 640x480 with 1 Axes>"
      ]
     },
     "metadata": {},
     "output_type": "display_data"
    }
   ],
   "source": [
    "p = sb.barplot(x = list(precison_tmp.values()),y = list(precison_tmp.keys()), palette = \"Accent\")\n",
    "p.set(xlabel = \"Precision@10\")"
   ]
  },
  {
   "cell_type": "markdown",
   "id": "dd9a52d6-2131-4ee0-aeef-1a374b7e17fb",
   "metadata": {
    "tags": []
   },
   "source": [
    "## load and predict"
   ]
  },
  {
   "cell_type": "code",
   "execution_count": 35,
   "id": "3b597a3b-7713-497c-bcd1-c158944d7921",
   "metadata": {
    "tags": []
   },
   "outputs": [
    {
     "name": "stdout",
     "output_type": "stream",
     "text": [
      "INFO:tensorflow:Restoring parameters from C:\\Users\\tanch\\Documents\\NTU\\NTU Year 4\\FYP - GNN\\Recommender API\\deploy-fastapi-recommendation-system\\src\\api\\models\\epoch_50\n"
     ]
    },
    {
     "data": {
      "text/plain": [
       "0.005344585091420536"
      ]
     },
     "execution_count": 35,
     "metadata": {},
     "output_type": "execute_result"
    }
   ],
   "source": [
    "save_path_str = r\"C:\\Users\\tanch\\Documents\\NTU\\NTU Year 4\\FYP - GNN\\Recommender API\\deploy-fastapi-recommendation-system\\src\\api\\models\\epoch_50\"\n",
    "model.load(save_path_str)\n",
    "top_k = model.recommend_k_items(test, top_k=TOP_K, remove_seen=True)\n",
    "eval_precision = precision_at_k(test, top_k, col_user=USER_ID_COL, col_item=ITEM_ID_COL, col_rating=RATING_COL, k=TOP_K)\n",
    "eval_precision     "
   ]
  },
  {
   "cell_type": "code",
   "execution_count": 77,
   "id": "24b89f78-a7a4-4690-b888-abb867372b79",
   "metadata": {
    "tags": []
   },
   "outputs": [
    {
     "data": {
      "text/html": [
       "<div>\n",
       "<style scoped>\n",
       "    .dataframe tbody tr th:only-of-type {\n",
       "        vertical-align: middle;\n",
       "    }\n",
       "\n",
       "    .dataframe tbody tr th {\n",
       "        vertical-align: top;\n",
       "    }\n",
       "\n",
       "    .dataframe thead th {\n",
       "        text-align: right;\n",
       "    }\n",
       "</style>\n",
       "<table border=\"1\" class=\"dataframe\">\n",
       "  <thead>\n",
       "    <tr style=\"text-align: right;\">\n",
       "      <th></th>\n",
       "      <th>user_id</th>\n",
       "      <th>item_id</th>\n",
       "      <th>prediction</th>\n",
       "    </tr>\n",
       "  </thead>\n",
       "  <tbody>\n",
       "    <tr>\n",
       "      <th>0</th>\n",
       "      <td>1cp2upf59l</td>\n",
       "      <td>11845518959</td>\n",
       "      <td>1.731541</td>\n",
       "    </tr>\n",
       "    <tr>\n",
       "      <th>1</th>\n",
       "      <td>1cp2upf59l</td>\n",
       "      <td>18516275838</td>\n",
       "      <td>1.599467</td>\n",
       "    </tr>\n",
       "    <tr>\n",
       "      <th>2</th>\n",
       "      <td>1cp2upf59l</td>\n",
       "      <td>14303478270</td>\n",
       "      <td>1.242138</td>\n",
       "    </tr>\n",
       "    <tr>\n",
       "      <th>3</th>\n",
       "      <td>1cp2upf59l</td>\n",
       "      <td>14782140731</td>\n",
       "      <td>1.221002</td>\n",
       "    </tr>\n",
       "    <tr>\n",
       "      <th>4</th>\n",
       "      <td>1cp2upf59l</td>\n",
       "      <td>19564733962</td>\n",
       "      <td>1.061905</td>\n",
       "    </tr>\n",
       "    <tr>\n",
       "      <th>5</th>\n",
       "      <td>1cp2upf59l</td>\n",
       "      <td>15403421090</td>\n",
       "      <td>0.960976</td>\n",
       "    </tr>\n",
       "    <tr>\n",
       "      <th>6</th>\n",
       "      <td>1cp2upf59l</td>\n",
       "      <td>19906893746</td>\n",
       "      <td>0.942554</td>\n",
       "    </tr>\n",
       "    <tr>\n",
       "      <th>7</th>\n",
       "      <td>1cp2upf59l</td>\n",
       "      <td>14675758106</td>\n",
       "      <td>0.936188</td>\n",
       "    </tr>\n",
       "    <tr>\n",
       "      <th>8</th>\n",
       "      <td>1cp2upf59l</td>\n",
       "      <td>21433429878</td>\n",
       "      <td>0.828105</td>\n",
       "    </tr>\n",
       "    <tr>\n",
       "      <th>9</th>\n",
       "      <td>1cp2upf59l</td>\n",
       "      <td>13117027913</td>\n",
       "      <td>0.794699</td>\n",
       "    </tr>\n",
       "  </tbody>\n",
       "</table>\n",
       "</div>"
      ],
      "text/plain": [
       "      user_id      item_id  prediction\n",
       "0  1cp2upf59l  11845518959    1.731541\n",
       "1  1cp2upf59l  18516275838    1.599467\n",
       "2  1cp2upf59l  14303478270    1.242138\n",
       "3  1cp2upf59l  14782140731    1.221002\n",
       "4  1cp2upf59l  19564733962    1.061905\n",
       "5  1cp2upf59l  15403421090    0.960976\n",
       "6  1cp2upf59l  19906893746    0.942554\n",
       "7  1cp2upf59l  14675758106    0.936188\n",
       "8  1cp2upf59l  21433429878    0.828105\n",
       "9  1cp2upf59l  13117027913    0.794699"
      ]
     },
     "execution_count": 77,
     "metadata": {},
     "output_type": "execute_result"
    }
   ],
   "source": [
    "model.recommend_k_items(pd.DataFrame({\"user_id\":[\"1cp2upf59l\"]}), top_k=TOP_K, remove_seen=True)"
   ]
  },
  {
   "cell_type": "code",
   "execution_count": 1,
   "id": "70a97853-d98a-4445-9471-e46978ddecf9",
   "metadata": {},
   "outputs": [],
   "source": [
    "import pandas as pd\n",
    "data = pd.read_pickle(r\"C:\\Users\\tanch\\Documents\\NTU\\NTU Year 4\\FYP - GNN\\data\\shopee-20221117T041452Z-001\\interaction data\\train.pkl\")"
   ]
  },
  {
   "cell_type": "code",
   "execution_count": 8,
   "id": "c8aea33c-ed48-4d8f-ac65-7203809b0e4f",
   "metadata": {},
   "outputs": [
    {
     "data": {
      "text/plain": [
       "1508    17971710101\n",
       "1513    22203168551\n",
       "1506    16071702603\n",
       "1512    21869596899\n",
       "1504    14266408742\n",
       "1510    20860078856\n",
       "Name: item_id, dtype: int64"
      ]
     },
     "execution_count": 8,
     "metadata": {},
     "output_type": "execute_result"
    }
   ],
   "source": [
    "data[data.user_id == \"weirdyellow\"   ].item_id"
   ]
  },
  {
   "cell_type": "code",
   "execution_count": 4,
   "id": "9f4d5359-24fd-440e-8e6a-818c87844815",
   "metadata": {},
   "outputs": [
    {
     "data": {
      "text/plain": [
       "weirdyellow    6\n",
       "alexsanzo      4\n",
       "54bakery       4\n",
       "bignphat       4\n",
       "buycwy         3\n",
       "lynasally      3\n",
       "ms.idaa89      3\n",
       "jelzheng       2\n",
       "ismailtaib     2\n",
       "johnwong435    2\n",
       "Name: user_id, dtype: int64"
      ]
     },
     "execution_count": 4,
     "metadata": {},
     "output_type": "execute_result"
    }
   ],
   "source": [
    "data.user_id.value_counts()[:10]"
   ]
  },
  {
   "cell_type": "code",
   "execution_count": 11,
   "id": "302a0ea3-239e-444b-b205-1c0c46ec7e53",
   "metadata": {},
   "outputs": [
    {
     "data": {
      "text/html": [
       "<div>\n",
       "<style scoped>\n",
       "    .dataframe tbody tr th:only-of-type {\n",
       "        vertical-align: middle;\n",
       "    }\n",
       "\n",
       "    .dataframe tbody tr th {\n",
       "        vertical-align: top;\n",
       "    }\n",
       "\n",
       "    .dataframe thead th {\n",
       "        text-align: right;\n",
       "    }\n",
       "</style>\n",
       "<table border=\"1\" class=\"dataframe\">\n",
       "  <thead>\n",
       "    <tr style=\"text-align: right;\">\n",
       "      <th></th>\n",
       "      <th>product_id</th>\n",
       "      <th>product_name</th>\n",
       "      <th>categories</th>\n",
       "      <th>image_url</th>\n",
       "    </tr>\n",
       "  </thead>\n",
       "  <tbody>\n",
       "    <tr>\n",
       "      <th>33</th>\n",
       "      <td>22203168551</td>\n",
       "      <td>Shoulder Ice Pack for Rotator Cuff Injuries, R...</td>\n",
       "      <td>100712 - Home &amp; Living/Hand Warmers, Hot Water...</td>\n",
       "      <td>https://cf.shopee.sg/file/sg-11134201-22100-n8...</td>\n",
       "    </tr>\n",
       "    <tr>\n",
       "      <th>46</th>\n",
       "      <td>21869596899</td>\n",
       "      <td>Hip Ice Pack Wrap for Bursitis Pain Relief Reu...</td>\n",
       "      <td>100712 - Home &amp; Living/Hand Warmers, Hot Water...</td>\n",
       "      <td>https://cf.shopee.sg/file/sg-11134201-22120-x9...</td>\n",
       "    </tr>\n",
       "    <tr>\n",
       "      <th>84</th>\n",
       "      <td>20860078856</td>\n",
       "      <td>Wrist Ice Gel Pack with Support Brace for Hot ...</td>\n",
       "      <td>100432 - Health/Medical Supplies/Injury &amp; Disa...</td>\n",
       "      <td>https://cf.shopee.sg/file/sg-11134201-22110-f2...</td>\n",
       "    </tr>\n",
       "    <tr>\n",
       "      <th>158</th>\n",
       "      <td>17971710101</td>\n",
       "      <td>SG Seller Ankle Pain Relieve hot cool gel pack...</td>\n",
       "      <td>100432 - Health/Medical Supplies/Injury &amp; Disa...</td>\n",
       "      <td>https://cf.shopee.sg/file/2940d22807b793d0fec9...</td>\n",
       "    </tr>\n",
       "    <tr>\n",
       "      <th>210</th>\n",
       "      <td>16071702603</td>\n",
       "      <td>SG Seller Gel Ice pack Hot Cold Gel Bead Ice F...</td>\n",
       "      <td>100898 - Beauty/Skincare/Face Mask &amp; Packs</td>\n",
       "      <td>https://cf.shopee.sg/file/22fd5268fa3093fd17ac...</td>\n",
       "    </tr>\n",
       "    <tr>\n",
       "      <th>242</th>\n",
       "      <td>14266408742</td>\n",
       "      <td>SG Seller Hot Cold Reusable and Flexible Gel I...</td>\n",
       "      <td>100432 - Health/Medical Supplies/Injury &amp; Disa...</td>\n",
       "      <td>https://cf.shopee.sg/file/ae1eaf10e8858389c737...</td>\n",
       "    </tr>\n",
       "  </tbody>\n",
       "</table>\n",
       "</div>"
      ],
      "text/plain": [
       "      product_id                                       product_name  \\\n",
       "33   22203168551  Shoulder Ice Pack for Rotator Cuff Injuries, R...   \n",
       "46   21869596899  Hip Ice Pack Wrap for Bursitis Pain Relief Reu...   \n",
       "84   20860078856  Wrist Ice Gel Pack with Support Brace for Hot ...   \n",
       "158  17971710101  SG Seller Ankle Pain Relieve hot cool gel pack...   \n",
       "210  16071702603  SG Seller Gel Ice pack Hot Cold Gel Bead Ice F...   \n",
       "242  14266408742  SG Seller Hot Cold Reusable and Flexible Gel I...   \n",
       "\n",
       "                                            categories  \\\n",
       "33   100712 - Home & Living/Hand Warmers, Hot Water...   \n",
       "46   100712 - Home & Living/Hand Warmers, Hot Water...   \n",
       "84   100432 - Health/Medical Supplies/Injury & Disa...   \n",
       "158  100432 - Health/Medical Supplies/Injury & Disa...   \n",
       "210         100898 - Beauty/Skincare/Face Mask & Packs   \n",
       "242  100432 - Health/Medical Supplies/Injury & Disa...   \n",
       "\n",
       "                                             image_url  \n",
       "33   https://cf.shopee.sg/file/sg-11134201-22100-n8...  \n",
       "46   https://cf.shopee.sg/file/sg-11134201-22120-x9...  \n",
       "84   https://cf.shopee.sg/file/sg-11134201-22110-f2...  \n",
       "158  https://cf.shopee.sg/file/2940d22807b793d0fec9...  \n",
       "210  https://cf.shopee.sg/file/22fd5268fa3093fd17ac...  \n",
       "242  https://cf.shopee.sg/file/ae1eaf10e8858389c737...  "
      ]
     },
     "execution_count": 11,
     "metadata": {},
     "output_type": "execute_result"
    }
   ],
   "source": [
    "media_data[media_data.product_id.isin(data[data.user_id == \"weirdyellow\"   ].item_id)]"
   ]
  }
 ],
 "metadata": {
  "kernelspec": {
   "display_name": "Python 3 (ipykernel)",
   "language": "python",
   "name": "python3"
  },
  "language_info": {
   "codemirror_mode": {
    "name": "ipython",
    "version": 3
   },
   "file_extension": ".py",
   "mimetype": "text/x-python",
   "name": "python",
   "nbconvert_exporter": "python",
   "pygments_lexer": "ipython3",
   "version": "3.9.15"
  },
  "toc-showcode": false
 },
 "nbformat": 4,
 "nbformat_minor": 5
}
