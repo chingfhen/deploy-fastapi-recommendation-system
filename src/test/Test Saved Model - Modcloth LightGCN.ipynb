{
 "cells": [
  {
   "cell_type": "markdown",
   "id": "20a65bb6-a69a-400b-a38e-25c035887650",
   "metadata": {},
   "source": [
    "# ABOUT \n",
    "- this notebook trains LightGCN on Modcloth dataset and saves the model"
   ]
  },
  {
   "cell_type": "code",
   "execution_count": 1,
   "id": "18844cad-80ce-4e2d-ac3b-0e4cf778184b",
   "metadata": {},
   "outputs": [],
   "source": [
    "# from recommenders.models.sar import SAR\n",
    "from recommenders.datasets.python_splitters import python_stratified_split\n",
    "from recommenders.utils.constants import SEED as DEFAULT_SEED\n",
    "from recommenders.evaluation.python_evaluation import precision_at_k\n",
    "from recommenders.models.deeprec.DataModel.ImplicitCF import ImplicitCF\n",
    "from recommenders.models.deeprec.deeprec_utils import prepare_hparams\n",
    "from recommenders.models.deeprec.models.graphrec.lightgcn import LightGCN\n",
    "from recommenders.utils.timer import Timer\n",
    "\n",
    "import pandas as pd\n",
    "import os\n",
    "# import gzip\n",
    "# import json\n",
    "# import seaborn as sb"
   ]
  },
  {
   "cell_type": "markdown",
   "id": "1ca9ca82-3244-4584-98e6-f78467620441",
   "metadata": {
    "tags": []
   },
   "source": [
    "### read data"
   ]
  },
  {
   "cell_type": "code",
   "execution_count": 2,
   "id": "4c965b65-e8bf-40a8-95a9-acd4df7e87db",
   "metadata": {},
   "outputs": [],
   "source": [
    "path = r\"C:\\Users\\tanch\\Documents\\NTU\\NTU Year 4\\FYP - GNN\\Recommender API\\data\\interaction_data.pkl\"\n",
    "modcloth_data = pd.read_pickle(path)"
   ]
  },
  {
   "cell_type": "markdown",
   "id": "f324e29f-66ba-4040-9f7b-66da0c64435f",
   "metadata": {
    "tags": []
   },
   "source": [
    "### data preparation\n",
    "- preparation for cf training"
   ]
  },
  {
   "cell_type": "code",
   "execution_count": 3,
   "id": "d2abd51f-e5be-4a3c-8694-25e8787c13d0",
   "metadata": {},
   "outputs": [],
   "source": [
    "COLS = [\"user_id\", \"item_id\", \"rating\"]\n",
    "COL_USER, COL_ITEM = \"user_id\", \"item_id\"\n",
    "COL_RATING = \"rating\"\n",
    "SPLIT_RATIO = 0.75\n",
    "SEED = 0 \n",
    "MIN_INTERACTIONS = 5\n",
    "TOP_K = 10\n",
    "BATCH_SIZE = 1024\n",
    "save_model = False\n",
    "save_epoch = 50\n",
    "loss_type = \"AmpBPR2\"\n",
    "loss_neg_weight = 1.5\n",
    "log_wandb = False"
   ]
  },
  {
   "cell_type": "code",
   "execution_count": 4,
   "id": "392fd20a-ec1e-4913-9df4-2b9103819782",
   "metadata": {},
   "outputs": [],
   "source": [
    "train, test = python_stratified_split(modcloth_data, ratio=SPLIT_RATIO,\n",
    "                                      min_rating=1, filter_by='user', \n",
    "                                      col_user=COL_USER, col_item=COL_ITEM, \n",
    "                                      seed=SEED)"
   ]
  },
  {
   "cell_type": "markdown",
   "id": "9c9802cd-a459-404c-b1ad-1f0c0bc2dbeb",
   "metadata": {
    "tags": []
   },
   "source": [
    "## Train and Evaluate: LightGCN"
   ]
  },
  {
   "cell_type": "code",
   "execution_count": 5,
   "id": "62d45b7d-602e-433a-a183-9f2938385fb8",
   "metadata": {},
   "outputs": [],
   "source": [
    "yaml_file = r\"./models/lightgcn.yml\"\n",
    "# MODEL_DIR = r\"C:\\Users\\tanch\\Documents\\NTU\\NTU Year 4\\FYP - GNN\\models\""
   ]
  },
  {
   "cell_type": "code",
   "execution_count": 6,
   "id": "3ee6dde6-85b5-4ac2-835c-5848ba1fb8ad",
   "metadata": {},
   "outputs": [
    {
     "name": "stderr",
     "output_type": "stream",
     "text": [
      "C:\\Users\\tanch\\anaconda3\\envs\\fyp1\\lib\\site-packages\\recommenders\\models\\deeprec\\DataModel\\ImplicitCF.py:73: FutureWarning: The frame.append method is deprecated and will be removed from pandas in a future version. Use pandas.concat instead.\n",
      "  df = train if test is None else train.append(test)\n"
     ]
    }
   ],
   "source": [
    "data = ImplicitCF(train = train, test=test, \n",
    "                  adj_dir=None, \n",
    "                  col_user=COL_USER, col_item=COL_ITEM, \n",
    "                  col_rating = COL_RATING,\n",
    "                  seed=SEED)"
   ]
  },
  {
   "cell_type": "code",
   "execution_count": 9,
   "id": "ef6d0a71-ab6b-4a9d-bfbf-8de6d93bc303",
   "metadata": {
    "tags": []
   },
   "outputs": [
    {
     "name": "stdout",
     "output_type": "stream",
     "text": [
      "Already create adjacency matrix.\n",
      "Already normalize adjacency matrix.\n",
      "Using xavier initialization.\n"
     ]
    }
   ],
   "source": [
    "for i in range(3):\n",
    "    hparams = prepare_hparams(yaml_file,\n",
    "                                  n_layers=2,\n",
    "                                  loss_type = loss_type, \n",
    "                                  loss_neg_weight = loss_neg_weight, \n",
    "                                  log_wandb = log_wandb,\n",
    "                                  batch_size=BATCH_SIZE,\n",
    "                                  epochs=50,\n",
    "                                  learning_rate=0.005,\n",
    "                                  eval_epoch=1,\n",
    "                                  top_k=TOP_K,\n",
    "                                  COL_USER = COL_USER,\n",
    "                                  COL_ITEM = COL_ITEM,\n",
    "                                  COL_RATING = COL_RATING,\n",
    "\n",
    "                                  )\n",
    "    # initiate model\n",
    "    model = LightGCN(hparams, data, seed=SEED)"
   ]
  },
  {
   "cell_type": "markdown",
   "id": "d8b243c7-060a-4b10-a887-1561f86b1e0d",
   "metadata": {
    "tags": []
   },
   "source": [
    "## load and predict"
   ]
  },
  {
   "cell_type": "code",
   "execution_count": 10,
   "id": "51cc7e8a-72a8-42a8-8227-65c43af4e661",
   "metadata": {
    "tags": []
   },
   "outputs": [
    {
     "name": "stdout",
     "output_type": "stream",
     "text": [
      "INFO:tensorflow:Restoring parameters from C:\\Users\\tanch\\Documents\\NTU\\NTU Year 4\\FYP - GNN\\Recommender API\\models\\epoch_50\n"
     ]
    },
    {
     "data": {
      "text/plain": [
       "0.03786069651741293"
      ]
     },
     "execution_count": 10,
     "metadata": {},
     "output_type": "execute_result"
    }
   ],
   "source": [
    "save_path_str = r\"C:\\Users\\tanch\\Documents\\NTU\\NTU Year 4\\FYP - GNN\\Recommender API\\models\\epoch_50\"\n",
    "model.load(save_path_str)\n",
    "top_k = model.recommend_k_items(test, top_k=TOP_K, remove_seen=True)\n",
    "eval_precision = precision_at_k(test, top_k, col_user=COL_USER, col_item=COL_ITEM, col_rating=COL_RATING, k=TOP_K)\n",
    "eval_precision     "
   ]
  },
  {
   "cell_type": "code",
   "execution_count": 15,
   "id": "0722072c-6825-4fcd-921e-dd007c32110b",
   "metadata": {
    "tags": []
   },
   "outputs": [
    {
     "data": {
      "text/html": [
       "<div>\n",
       "<style scoped>\n",
       "    .dataframe tbody tr th:only-of-type {\n",
       "        vertical-align: middle;\n",
       "    }\n",
       "\n",
       "    .dataframe tbody tr th {\n",
       "        vertical-align: top;\n",
       "    }\n",
       "\n",
       "    .dataframe thead th {\n",
       "        text-align: right;\n",
       "    }\n",
       "</style>\n",
       "<table border=\"1\" class=\"dataframe\">\n",
       "  <thead>\n",
       "    <tr style=\"text-align: right;\">\n",
       "      <th></th>\n",
       "      <th>user_id</th>\n",
       "      <th>item_id</th>\n",
       "      <th>prediction</th>\n",
       "    </tr>\n",
       "  </thead>\n",
       "  <tbody>\n",
       "    <tr>\n",
       "      <th>0</th>\n",
       "      <td>999697</td>\n",
       "      <td>645822</td>\n",
       "      <td>3.555731</td>\n",
       "    </tr>\n",
       "    <tr>\n",
       "      <th>1</th>\n",
       "      <td>999697</td>\n",
       "      <td>412737</td>\n",
       "      <td>3.384269</td>\n",
       "    </tr>\n",
       "    <tr>\n",
       "      <th>2</th>\n",
       "      <td>999697</td>\n",
       "      <td>391519</td>\n",
       "      <td>2.968252</td>\n",
       "    </tr>\n",
       "    <tr>\n",
       "      <th>3</th>\n",
       "      <td>999697</td>\n",
       "      <td>401773</td>\n",
       "      <td>2.734417</td>\n",
       "    </tr>\n",
       "    <tr>\n",
       "      <th>4</th>\n",
       "      <td>999697</td>\n",
       "      <td>200824</td>\n",
       "      <td>2.700134</td>\n",
       "    </tr>\n",
       "    <tr>\n",
       "      <th>5</th>\n",
       "      <td>999697</td>\n",
       "      <td>486643</td>\n",
       "      <td>2.668071</td>\n",
       "    </tr>\n",
       "    <tr>\n",
       "      <th>6</th>\n",
       "      <td>999697</td>\n",
       "      <td>539980</td>\n",
       "      <td>2.380388</td>\n",
       "    </tr>\n",
       "    <tr>\n",
       "      <th>7</th>\n",
       "      <td>999697</td>\n",
       "      <td>406357</td>\n",
       "      <td>2.226636</td>\n",
       "    </tr>\n",
       "    <tr>\n",
       "      <th>8</th>\n",
       "      <td>999697</td>\n",
       "      <td>175771</td>\n",
       "      <td>2.195363</td>\n",
       "    </tr>\n",
       "    <tr>\n",
       "      <th>9</th>\n",
       "      <td>999697</td>\n",
       "      <td>654585</td>\n",
       "      <td>2.061988</td>\n",
       "    </tr>\n",
       "  </tbody>\n",
       "</table>\n",
       "</div>"
      ],
      "text/plain": [
       "  user_id item_id  prediction\n",
       "0  999697  645822    3.555731\n",
       "1  999697  412737    3.384269\n",
       "2  999697  391519    2.968252\n",
       "3  999697  401773    2.734417\n",
       "4  999697  200824    2.700134\n",
       "5  999697  486643    2.668071\n",
       "6  999697  539980    2.380388\n",
       "7  999697  406357    2.226636\n",
       "8  999697  175771    2.195363\n",
       "9  999697  654585    2.061988"
      ]
     },
     "execution_count": 15,
     "metadata": {},
     "output_type": "execute_result"
    }
   ],
   "source": [
    "model.recommend_k_items(pd.DataFrame({\"user_id\":[\"999697\"]}), top_k=TOP_K, remove_seen=True)"
   ]
  },
  {
   "cell_type": "code",
   "execution_count": null,
   "id": "647393f3-b8c4-4d85-8f39-78a610074ee5",
   "metadata": {},
   "outputs": [],
   "source": []
  }
 ],
 "metadata": {
  "kernelspec": {
   "display_name": "Python 3 (ipykernel)",
   "language": "python",
   "name": "python3"
  },
  "language_info": {
   "codemirror_mode": {
    "name": "ipython",
    "version": 3
   },
   "file_extension": ".py",
   "mimetype": "text/x-python",
   "name": "python",
   "nbconvert_exporter": "python",
   "pygments_lexer": "ipython3",
   "version": "3.9.15"
  }
 },
 "nbformat": 4,
 "nbformat_minor": 5
}
