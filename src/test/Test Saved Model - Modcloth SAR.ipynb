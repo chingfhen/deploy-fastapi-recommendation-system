{
 "cells": [
  {
   "cell_type": "markdown",
   "id": "28192f13-4114-4c16-bfc7-e77387271f38",
   "metadata": {},
   "source": [
    "# ABOUT \n",
    "- this notebook trains LightGCN on Modcloth dataset and saves the model"
   ]
  },
  {
   "cell_type": "code",
   "execution_count": 1,
   "id": "18844cad-80ce-4e2d-ac3b-0e4cf778184b",
   "metadata": {},
   "outputs": [],
   "source": [
    "from recommenders.models.sar import SAR\n",
    "from recommenders.evaluation.python_evaluation import precision_at_k\n",
    "\n",
    "import pandas as pd\n",
    "import os\n",
    "from scipy.sparse import save_npz, load_npz\n",
    "from numpy import save, load \n",
    "import json\n",
    "import yaml"
   ]
  },
  {
   "cell_type": "markdown",
   "id": "1ca9ca82-3244-4584-98e6-f78467620441",
   "metadata": {
    "tags": []
   },
   "source": [
    "### read data"
   ]
  },
  {
   "cell_type": "code",
   "execution_count": 3,
   "id": "f851608b-87ba-42b1-b866-82f8b22e4aa6",
   "metadata": {},
   "outputs": [],
   "source": [
    "path = r\"C:\\Users\\tanch\\Documents\\NTU\\NTU Year 4\\FYP - GNN\\data\\RecSys Datasets\\train.pkl\"\n",
    "train = pd.read_pickle(path) \n",
    "path = r\"C:\\Users\\tanch\\Documents\\NTU\\NTU Year 4\\FYP - GNN\\data\\RecSys Datasets\\test.pkl\"\n",
    "test = pd.read_pickle(path)"
   ]
  },
  {
   "cell_type": "code",
   "execution_count": 5,
   "id": "dadedf34-85a7-4b2b-9d35-9f576796e386",
   "metadata": {},
   "outputs": [
    {
     "data": {
      "text/plain": [
       "(10565, 3589)"
      ]
     },
     "execution_count": 5,
     "metadata": {},
     "output_type": "execute_result"
    }
   ],
   "source": [
    "len(train), len(test)"
   ]
  },
  {
   "cell_type": "markdown",
   "id": "f324e29f-66ba-4040-9f7b-66da0c64435f",
   "metadata": {
    "tags": []
   },
   "source": [
    "### Load model"
   ]
  },
  {
   "cell_type": "code",
   "execution_count": 3,
   "id": "d2abd51f-e5be-4a3c-8694-25e8787c13d0",
   "metadata": {},
   "outputs": [],
   "source": [
    "with open(\"sar.yml\", \"r\") as f:\n",
    "    try:\n",
    "        config = yaml.safe_load(f)\n",
    "    except yaml.YAMLError as exc:\n",
    "        print(exc)"
   ]
  },
  {
   "cell_type": "code",
   "execution_count": 8,
   "id": "f63b8b84-193c-4119-901f-bb71bc46d576",
   "metadata": {
    "tags": []
   },
   "outputs": [],
   "source": [
    "# Similarity types: [\"cooccurrence\" | \"cosine\" | \"inclusion index\" | \"jaccard\" | \"lift\" | \"mutual information\" | \"lexicographers mutual information\"]\n",
    "model_sar = SAR(\n",
    "    col_user=config['COL_USER'],\n",
    "    col_item=config['COL_ITEM'],\n",
    "    col_rating=config['COL_RATING'],\n",
    "    similarity_type=config['SIMILARITY_TYPE'], \n",
    "    time_decay_coefficient=30, \n",
    "    timedecay_formula=False,\n",
    "    normalize=False\n",
    ")"
   ]
  },
  {
   "cell_type": "code",
   "execution_count": 9,
   "id": "c2b456c4-56e2-4826-a5c3-8c5b97cbe553",
   "metadata": {},
   "outputs": [],
   "source": [
    "def sar_load(model, directory):\n",
    "    model.user_affinity = load_npz(file = os.path.join(directory,\"sar_user_affinity.npz\"))\n",
    "    model.item_similarity = load(file = os.path.join(directory,\"sar_item_similarity.npy\"))\n",
    "    with open(os.path.join(directory,\"sar_index2item.json\"), \"r\") as f:\n",
    "        tmp_dict =  json.load(f)\n",
    "        model.index2item = {int(k):v for k,v in tmp_dict.items()}\n",
    "    with open(os.path.join(directory,\"sar_user2index.json\"), \"r\") as f:\n",
    "        model.user2index = json.load(f)"
   ]
  },
  {
   "cell_type": "code",
   "execution_count": 10,
   "id": "f51f5fb5-ee88-4717-8752-0edb6798c8a2",
   "metadata": {},
   "outputs": [],
   "source": [
    "sar_load(model_sar, r\"C:\\Users\\tanch\\Documents\\NTU\\NTU Year 4\\FYP - GNN\\Recommender API\\models\")"
   ]
  },
  {
   "cell_type": "code",
   "execution_count": 14,
   "id": "68591a35-1763-4d29-bf45-3cd888728e9d",
   "metadata": {},
   "outputs": [
    {
     "data": {
      "text/plain": [
       "0.04263681592039801"
      ]
     },
     "execution_count": 14,
     "metadata": {},
     "output_type": "execute_result"
    }
   ],
   "source": [
    "top_k = model_sar.recommend_k_items(test, top_k=config['TOP_K'], remove_seen=True)\n",
    "eval_precision = precision_at_k(test, top_k, col_user=config['COL_USER'], col_item=config['COL_ITEM'], col_rating=config['COL_RATING'], k=config['TOP_K'])\n",
    "eval_precision     "
   ]
  },
  {
   "cell_type": "markdown",
   "id": "53d94f05-4498-4a03-a5b7-dbcb9b833f6d",
   "metadata": {},
   "source": [
    "## make prediction"
   ]
  },
  {
   "cell_type": "code",
   "execution_count": 15,
   "id": "1e9099b0-f7be-4a49-8ac5-937c2d673fa0",
   "metadata": {},
   "outputs": [
    {
     "data": {
      "text/html": [
       "<div>\n",
       "<style scoped>\n",
       "    .dataframe tbody tr th:only-of-type {\n",
       "        vertical-align: middle;\n",
       "    }\n",
       "\n",
       "    .dataframe tbody tr th {\n",
       "        vertical-align: top;\n",
       "    }\n",
       "\n",
       "    .dataframe thead th {\n",
       "        text-align: right;\n",
       "    }\n",
       "</style>\n",
       "<table border=\"1\" class=\"dataframe\">\n",
       "  <thead>\n",
       "    <tr style=\"text-align: right;\">\n",
       "      <th></th>\n",
       "      <th>user_id</th>\n",
       "      <th>item_id</th>\n",
       "      <th>prediction</th>\n",
       "    </tr>\n",
       "  </thead>\n",
       "  <tbody>\n",
       "    <tr>\n",
       "      <th>0</th>\n",
       "      <td>999697</td>\n",
       "      <td>645822</td>\n",
       "      <td>0.278955</td>\n",
       "    </tr>\n",
       "    <tr>\n",
       "      <th>1</th>\n",
       "      <td>999697</td>\n",
       "      <td>401773</td>\n",
       "      <td>0.211416</td>\n",
       "    </tr>\n",
       "    <tr>\n",
       "      <th>2</th>\n",
       "      <td>999697</td>\n",
       "      <td>412737</td>\n",
       "      <td>0.181482</td>\n",
       "    </tr>\n",
       "    <tr>\n",
       "      <th>3</th>\n",
       "      <td>999697</td>\n",
       "      <td>406357</td>\n",
       "      <td>0.178570</td>\n",
       "    </tr>\n",
       "    <tr>\n",
       "      <th>4</th>\n",
       "      <td>999697</td>\n",
       "      <td>175771</td>\n",
       "      <td>0.154103</td>\n",
       "    </tr>\n",
       "    <tr>\n",
       "      <th>5</th>\n",
       "      <td>999697</td>\n",
       "      <td>200824</td>\n",
       "      <td>0.148545</td>\n",
       "    </tr>\n",
       "    <tr>\n",
       "      <th>6</th>\n",
       "      <td>999697</td>\n",
       "      <td>693560</td>\n",
       "      <td>0.139601</td>\n",
       "    </tr>\n",
       "    <tr>\n",
       "      <th>7</th>\n",
       "      <td>999697</td>\n",
       "      <td>654585</td>\n",
       "      <td>0.123006</td>\n",
       "    </tr>\n",
       "    <tr>\n",
       "      <th>8</th>\n",
       "      <td>999697</td>\n",
       "      <td>486643</td>\n",
       "      <td>0.118607</td>\n",
       "    </tr>\n",
       "    <tr>\n",
       "      <th>9</th>\n",
       "      <td>999697</td>\n",
       "      <td>391519</td>\n",
       "      <td>0.117674</td>\n",
       "    </tr>\n",
       "  </tbody>\n",
       "</table>\n",
       "</div>"
      ],
      "text/plain": [
       "  user_id item_id  prediction\n",
       "0  999697  645822    0.278955\n",
       "1  999697  401773    0.211416\n",
       "2  999697  412737    0.181482\n",
       "3  999697  406357    0.178570\n",
       "4  999697  175771    0.154103\n",
       "5  999697  200824    0.148545\n",
       "6  999697  693560    0.139601\n",
       "7  999697  654585    0.123006\n",
       "8  999697  486643    0.118607\n",
       "9  999697  391519    0.117674"
      ]
     },
     "execution_count": 15,
     "metadata": {},
     "output_type": "execute_result"
    }
   ],
   "source": [
    "model_sar.recommend_k_items(pd.DataFrame({\"user_id\":[\"999697\"]}), top_k=config['TOP_K'], remove_seen=True)"
   ]
  },
  {
   "cell_type": "code",
   "execution_count": 13,
   "id": "83e232a3-657c-4e55-affd-d4234a91791a",
   "metadata": {},
   "outputs": [
    {
     "name": "stdout",
     "output_type": "stream",
     "text": [
      "{'COL_USER': 'user_id', 'COL_ITEM': 'item_id', 'COL_RATING': 'rating', 'SIMILARITY_TYPE': 'jaccard', 'TOP_K': 10, 'MODEL_DIR': './models'}\n"
     ]
    }
   ],
   "source": []
  },
  {
   "cell_type": "code",
   "execution_count": null,
   "id": "e8559196-98ef-4f8b-9fb9-1c1787783148",
   "metadata": {},
   "outputs": [],
   "source": []
  }
 ],
 "metadata": {
  "kernelspec": {
   "display_name": "Python 3 (ipykernel)",
   "language": "python",
   "name": "python3"
  },
  "language_info": {
   "codemirror_mode": {
    "name": "ipython",
    "version": 3
   },
   "file_extension": ".py",
   "mimetype": "text/x-python",
   "name": "python",
   "nbconvert_exporter": "python",
   "pygments_lexer": "ipython3",
   "version": "3.9.15"
  }
 },
 "nbformat": 4,
 "nbformat_minor": 5
}
